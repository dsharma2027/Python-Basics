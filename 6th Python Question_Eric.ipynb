{
 "cells": [
  {
   "cell_type": "code",
   "execution_count": 2,
   "metadata": {},
   "outputs": [],
   "source": [
    "import pandas as pd\n",
    "import numpy as np\n",
    "import matplotlib.pyplot as plt\n",
    "import seaborn as sns\n",
    "import os\n"
   ]
  },
  {
   "cell_type": "code",
   "execution_count": 8,
   "metadata": {},
   "outputs": [],
   "source": [
    "os.chdir(r'C:\\Users\\Eric\\Downloads')"
   ]
  },
  {
   "cell_type": "code",
   "execution_count": 3,
   "metadata": {},
   "outputs": [],
   "source": [
    "import pandas as pd\n",
    "attr = pd.read_csv('attrition.csv')"
   ]
  },
  {
   "cell_type": "code",
   "execution_count": 4,
   "metadata": {},
   "outputs": [
    {
     "data": {
      "text/plain": [
       "Age                         int64\n",
       "Attrition                   int64\n",
       "BusinessTravel             object\n",
       "Department                 object\n",
       "EducationField             object\n",
       "EnvironmentSatisfaction     int64\n",
       "Gender                     object\n",
       "JobInvolvement              int64\n",
       "JobLevel                    int64\n",
       "JobSatisfaction             int64\n",
       "MaritalStatus              object\n",
       "MonthlyIncome               int64\n",
       "OverTime                   object\n",
       "TotalWorkingYears           int64\n",
       "WorkLifeBalance             int64\n",
       "YearsAtCompany              int64\n",
       "YearsInCurrentRole          int64\n",
       "YearsSinceLastPromotion     int64\n",
       "YearsWithCurrManager        int64\n",
       "DistanceFromHome            int64\n",
       "dtype: object"
      ]
     },
     "execution_count": 4,
     "metadata": {},
     "output_type": "execute_result"
    }
   ],
   "source": [
    "attr.dtypes"
   ]
  },
  {
   "cell_type": "code",
   "execution_count": 11,
   "metadata": {},
   "outputs": [],
   "source": [
    "\n",
    "attr['Attrition'] = attr['Attrition'].astype('object')\n",
    "attr['EnvironmentSatisfaction'] = attr['EnvironmentSatisfaction'].astype('object')\n",
    "attr['JobInvolvement'] = attr['JobInvolvement'].astype('object')\n",
    "attr['JobLevel'] = attr['JobLevel'].astype('object')\n",
    "attr['JobSatisfaction'] = attr['JobSatisfaction'].astype('object')"
   ]
  },
  {
   "cell_type": "markdown",
   "metadata": {},
   "source": [
    "# Q5."
   ]
  },
  {
   "cell_type": "code",
   "execution_count": 5,
   "metadata": {
    "scrolled": false
   },
   "outputs": [
    {
     "name": "stdout",
     "output_type": "stream",
     "text": [
      "The categorical variables in the Dataset are:\n",
      "BusinessTravel\n",
      "Department\n",
      "EducationField\n",
      "Gender\n",
      "MaritalStatus\n",
      "OverTime\n",
      "\n",
      "Enter first argument in the crosstab function. i.e categorical column..Enter exact spelling, If done enter 'done'.. :MaritalStatus\n",
      "\n",
      "Enter first argument in the crosstab function. i.e categorical column..Enter exact spelling, If done enter 'done'.. :BusinessTravel\n",
      "\n",
      "Enter first argument in the crosstab function. i.e categorical column..Enter exact spelling, If done enter 'done'.. :done\n",
      "['MaritalStatus', 'BusinessTravel']\n",
      "\n",
      "Enter second argument in the crosstab function. i.e categorical column..Enter exact spelling,If done enter 'done'JobLevel\n",
      "\n",
      "Incorrect Variable name entered,Enter correct variable name.\n",
      "\n",
      "Enter second argument in the crosstab function. i.e categorical column..Enter exact spelling,If done enter 'done'done\n",
      "[]\n"
     ]
    }
   ],
   "source": [
    "def crosstab(df):\n",
    "    df1 = df.select_dtypes(include=['object'])\n",
    "    print('The categorical variables in the Dataset are:')\n",
    "    for i in df1.columns:\n",
    "        print(i)\n",
    "        \n",
    "\n",
    "    cat1 = []\n",
    "    o = \" \"\n",
    "    while o != 'done':\n",
    "        o = input(\"\\nEnter first argument in the crosstab function. i.e categorical column..Enter exact spelling, If done enter 'done'.. :\")\n",
    "        if o in cat1:\n",
    "            print(\"\\nAlready entered \")\n",
    "        if o not in df1.columns and o !='done':\n",
    "            print(\"\\nIncorrect Variable name entered,Enter correct variable name.\")\n",
    "            continue\n",
    "        elif o == 'done':\n",
    "            continue\n",
    "        cat1.append(o)\n",
    "    print(cat1)\n",
    "    \n",
    "    cat2 = []\n",
    "    c = \" \"\n",
    "    while c != 'done':\n",
    "        c = input(\"\\nEnter second argument in the crosstab function. i.e categorical column..Enter exact spelling,If done enter 'done'\")\n",
    "        if c in cat2:\n",
    "            print(\"\\nAlready entered \")\n",
    "        if c not in df1.columns and c !='done':\n",
    "            print(\"\\nIncorrect Variable name entered,Enter correct variable name.\")\n",
    "            continue\n",
    "        elif c == 'done':\n",
    "            continue\n",
    "        cat2.append(c)\n",
    "    print(cat2)\n",
    "    \n",
    "    \n",
    "    \n",
    "    for i in cat1:\n",
    "        for j in cat2:\n",
    "            table = pd.crosstab(df[i],columns = df[j])\n",
    "            rowtotal = table.sum(axis=1)\n",
    "            print(round(table.div(rowtotal,axis=0)*100,2))\n",
    "            print(round(table.div(rowtotal,axis=0)*100,2).plot(kind = 'bar' ,rot=0 , figsize = [16,5]))\n",
    "            \n",
    "            \n",
    "    \n",
    "          \n",
    "        \n",
    "crosstab(df = attr)        "
   ]
  },
  {
   "cell_type": "code",
   "execution_count": null,
   "metadata": {},
   "outputs": [],
   "source": []
  },
  {
   "cell_type": "code",
   "execution_count": null,
   "metadata": {},
   "outputs": [],
   "source": []
  },
  {
   "cell_type": "code",
   "execution_count": null,
   "metadata": {},
   "outputs": [],
   "source": []
  }
 ],
 "metadata": {
  "kernelspec": {
   "display_name": "Python 3",
   "language": "python",
   "name": "python3"
  },
  "language_info": {
   "codemirror_mode": {
    "name": "ipython",
    "version": 3
   },
   "file_extension": ".py",
   "mimetype": "text/x-python",
   "name": "python",
   "nbconvert_exporter": "python",
   "pygments_lexer": "ipython3",
   "version": "3.8.3"
  }
 },
 "nbformat": 4,
 "nbformat_minor": 2
}
