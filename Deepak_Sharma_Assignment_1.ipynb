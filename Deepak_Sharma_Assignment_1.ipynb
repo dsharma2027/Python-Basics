{
 "cells": [
  {
   "cell_type": "markdown",
   "metadata": {},
   "source": [
    "#### 1. Ramesh’s basic salary is input through the keyboard. His dearness allowance is 40% of basic salary, and house rent allowance is 20% of basic salary. Write a program to calculate his gross salary.\n"
   ]
  },
  {
   "cell_type": "code",
   "execution_count": 1,
   "metadata": {},
   "outputs": [],
   "source": [
    "def gross_slry():\n",
    "    basic = int(input(\"Please enter the basic salary:\"))\n",
    "    da = basic * 0.40\n",
    "    hra = basic * 0.20\n",
    "    gross = basic + da + hra\n",
    "    print('The Basic Salary is:', basic)\n",
    "    print('The Dearness Allowance is:', da)\n",
    "    print('The HRA is:', hra)\n",
    "    print('The gross salary of Ramesh is:', gross)"
   ]
  },
  {
   "cell_type": "code",
   "execution_count": 2,
   "metadata": {},
   "outputs": [
    {
     "name": "stdout",
     "output_type": "stream",
     "text": [
      "Please enter the basic salary:20000\n",
      "The Basic Salary is: 20000\n",
      "The Dearness Allowance is: 8000.0\n",
      "The HRA is: 4000.0\n",
      "The gross salary of Ramesh is: 32000.0\n"
     ]
    }
   ],
   "source": [
    "gross_slry()"
   ]
  },
  {
   "cell_type": "code",
   "execution_count": null,
   "metadata": {},
   "outputs": [],
   "source": []
  },
  {
   "cell_type": "markdown",
   "metadata": {},
   "source": [
    "#### 2. The distance between two cities (in km.) is input through the keyboard. Write a program to convert and print this distance in meters, feet, inches and centimeters.\n"
   ]
  },
  {
   "cell_type": "code",
   "execution_count": 6,
   "metadata": {},
   "outputs": [],
   "source": [
    "def distance_convert():\n",
    "    dist_km = float(input('Please enter the distance between 2 cities in km: '))\n",
    "    print(\"The distance in meeter is:\", dist_km*1000)\n",
    "    print(\"The distance in feet is: \", round(dist_km*3280.84,2))\n",
    "    print(\"The distance in inches is: \", round(dist_km*39370.08,2))\n",
    "    print(\"The distance in centimeters is: \", round(dist_km*100000.0032,2))\n"
   ]
  },
  {
   "cell_type": "code",
   "execution_count": 7,
   "metadata": {},
   "outputs": [
    {
     "name": "stdout",
     "output_type": "stream",
     "text": [
      "Please enter the distance between 2 cities in km: 60\n",
      "The distance in meeter is: 60000.0\n",
      "The distance in feet is:  196850.4\n",
      "The distance in inches is:  2362204.8\n",
      "The distance in centimeters is:  6000000.19\n"
     ]
    }
   ],
   "source": [
    "distance_convert()\n"
   ]
  },
  {
   "cell_type": "code",
   "execution_count": null,
   "metadata": {},
   "outputs": [],
   "source": []
  },
  {
   "cell_type": "markdown",
   "metadata": {},
   "source": [
    "#### 3. If the marks obtained by a student in five different subjects are input through the keyboard, find out the aggregate marks and percentage marks obtained by the student. Assume that the maximum marks that can be obtained by a student in each subject is 100.\n"
   ]
  },
  {
   "cell_type": "code",
   "execution_count": 8,
   "metadata": {},
   "outputs": [],
   "source": [
    "def agg_marks():\n",
    "    maths = float(input(\"Please enter the marks obtained in Maths: \"))\n",
    "    phy = float(input(\"Please enter the marks obtained in Physics: \"))\n",
    "    chem = float(input(\"Please enter the marks obtained in Chemistry: \"))\n",
    "    eng = float(input(\"Please enter the marks obtained in English : \"))\n",
    "    comp = float(input(\"Please enter the marks obtained in Computer: \"))\n",
    "    total_marks = maths + phy + chem + eng + comp\n",
    "    percentage = (total_marks/500)*100\n",
    "    print(\"\\n\")\n",
    "    print(f'The total marks obtained are {total_marks} with {percentage}%')"
   ]
  },
  {
   "cell_type": "code",
   "execution_count": 9,
   "metadata": {},
   "outputs": [
    {
     "name": "stdout",
     "output_type": "stream",
     "text": [
      "Please enter the marks obtained in Maths: 94\n",
      "Please enter the marks obtained in Physics: 78\n",
      "Please enter the marks obtained in Chemistry: 80\n",
      "Please enter the marks obtained in English : 65\n",
      "Please enter the marks obtained in Computer: 80\n",
      "\n",
      "\n",
      "The total marks obtained are 397.0 with 79.4%\n"
     ]
    }
   ],
   "source": [
    "agg_marks()"
   ]
  },
  {
   "cell_type": "code",
   "execution_count": null,
   "metadata": {},
   "outputs": [],
   "source": []
  },
  {
   "cell_type": "markdown",
   "metadata": {},
   "source": [
    "#### 4. Temperature of a city in Fahrenheit degrees is input through the keyboard. Write a program to convert this temperature into Centigrade degrees.\n"
   ]
  },
  {
   "cell_type": "code",
   "execution_count": 12,
   "metadata": {},
   "outputs": [],
   "source": [
    "def temp_converter():\n",
    "    fah = float(input(\"Please enter the temprature in Fahrenheit: \"))\n",
    "    print('The temprature in Celsius is:', round(((fah-32)*5/9),2))"
   ]
  },
  {
   "cell_type": "code",
   "execution_count": 13,
   "metadata": {},
   "outputs": [
    {
     "name": "stdout",
     "output_type": "stream",
     "text": [
      "Please enter the temprature in Fahrenheit: 98.7\n",
      "The temprature in Celsius is: 37.06\n"
     ]
    }
   ],
   "source": [
    "    temp_converter()"
   ]
  },
  {
   "cell_type": "code",
   "execution_count": null,
   "metadata": {},
   "outputs": [],
   "source": []
  },
  {
   "cell_type": "markdown",
   "metadata": {},
   "source": [
    "#### 5. The length & breadth of a rectangle and radius of a circle are input through the keyboard. Write a program to calculate the area & perimeter of the rectangle, and the area & circumference of the circle."
   ]
  },
  {
   "cell_type": "code",
   "execution_count": 14,
   "metadata": {},
   "outputs": [],
   "source": [
    "def mensuration():\n",
    "    l = float(input(\"Please enter the lenght of the rectangle: \"))\n",
    "    b = float(input(\"Please enter the beadth of the rectangle: \"))\n",
    "    r = float(input(\"Please enter the radius of the Circle: \"))\n",
    "    print('\\n')\n",
    "    print(\"The area of rectangle is: \", round(l*b,2))\n",
    "    print(\"The perimeter of rectangle is: \", round(2*(l+b),2))\n",
    "    print(\"The area of circle is: \", round(3.14*r*r,2))\n",
    "    print(\"The circumference of the circle is:\", round(2*3.14*r,2))"
   ]
  },
  {
   "cell_type": "code",
   "execution_count": 15,
   "metadata": {},
   "outputs": [
    {
     "name": "stdout",
     "output_type": "stream",
     "text": [
      "Please enter the lenght of the rectangle: 10.5\n",
      "Please enter the beadth of the rectangle: 11.66\n",
      "Please enter the radius of the Circle: 2.456\n",
      "\n",
      "\n",
      "The area of rectangle is:  122.43\n",
      "The perimeter of rectangle is:  44.32\n",
      "The area of circle is:  18.94\n",
      "The circumference of the circle is: 15.42\n"
     ]
    }
   ],
   "source": [
    "mensuration()"
   ]
  },
  {
   "cell_type": "markdown",
   "metadata": {},
   "source": []
  },
  {
   "cell_type": "markdown",
   "metadata": {},
   "source": [
    "#### 6. Two numbers are input through the keyboard into two locations C and D. Write a program to interchange the contents of C and D.\n"
   ]
  },
  {
   "cell_type": "code",
   "execution_count": 17,
   "metadata": {},
   "outputs": [],
   "source": [
    "def swap_nos():\n",
    "    c = int(input(\"Please enter the first no: \"))\n",
    "    d = int(input(\"Please enter the second no: \"))\n",
    "    print('\\n')\n",
    "    print(f'The numbers befor swap are,\\nFirst:{c}\\nSecond:{d}')\n",
    "    c = c+d\n",
    "    d = c-d\n",
    "    c = c-d\n",
    "    print('\\n')\n",
    "    print(f'The numbers after swap are,\\nFirst:{c}\\nSecond:{d}')\n"
   ]
  },
  {
   "cell_type": "code",
   "execution_count": 18,
   "metadata": {},
   "outputs": [
    {
     "name": "stdout",
     "output_type": "stream",
     "text": [
      "Please enter the first no: 44\n",
      "Please enter the second no: 55\n",
      "\n",
      "\n",
      "The numbers befor swap are,\n",
      "First:44\n",
      "Second:55\n",
      "\n",
      "\n",
      "The numbers after swap are,\n",
      "First:55\n",
      "Second:44\n"
     ]
    }
   ],
   "source": [
    "swap_nos()"
   ]
  },
  {
   "cell_type": "code",
   "execution_count": null,
   "metadata": {},
   "outputs": [],
   "source": []
  },
  {
   "cell_type": "markdown",
   "metadata": {},
   "source": [
    "#### 7. If a five-digit number is input through the keyboard, write a program to reverse the number.\n"
   ]
  },
  {
   "cell_type": "code",
   "execution_count": 30,
   "metadata": {},
   "outputs": [],
   "source": [
    "def rev_num():\n",
    "    num1 = int(input('Enter the Number: '))\n",
    "    num2 = 0\n",
    "    while num1 > 0:\n",
    "        rem = num1 % 10\n",
    "        num2 = (num2 * 10) + rem\n",
    "        num1 = num1 // 10\n",
    "    print(\"The reverse of the number is: \", num2)"
   ]
  },
  {
   "cell_type": "code",
   "execution_count": 31,
   "metadata": {},
   "outputs": [
    {
     "name": "stdout",
     "output_type": "stream",
     "text": [
      "Enter the Number: 56789\n",
      "The reverse of the number is:  98765\n"
     ]
    }
   ],
   "source": [
    "rev_num()"
   ]
  },
  {
   "cell_type": "code",
   "execution_count": null,
   "metadata": {},
   "outputs": [],
   "source": []
  },
  {
   "cell_type": "markdown",
   "metadata": {},
   "source": [
    "#### 8. If a four-digit number is input through the keyboard, write a program to obtain the sum of the first and last digit of this number."
   ]
  },
  {
   "cell_type": "code",
   "execution_count": 32,
   "metadata": {},
   "outputs": [],
   "source": [
    "def sum_digit():\n",
    "    count  = 0\n",
    "    num1 = int(input('Enter the Number: '))\n",
    "    temp = num1\n",
    "    # to find the no. of digits in the number\n",
    "    while temp > 0:\n",
    "        temp = temp // 10\n",
    "        count += 1\n",
    "    last = num1 % 10\n",
    "    first = num1 // (10**(count-1))\n",
    "    print(\"The sum of the first and last digit of number is: \", first + last)"
   ]
  },
  {
   "cell_type": "code",
   "execution_count": 33,
   "metadata": {},
   "outputs": [
    {
     "name": "stdout",
     "output_type": "stream",
     "text": [
      "Enter the Number: 4567\n",
      "The sum of the first and last digit of number is:  11\n"
     ]
    }
   ],
   "source": [
    "sum_digit()"
   ]
  },
  {
   "cell_type": "markdown",
   "metadata": {},
   "source": [
    "#### 9. In a town, the percentage of men is 52. The percentage of total literacy is 48. If total percentage of literate men is 35 of the total population, write a program to find the total number of illiterate men and women if the population of the town is 80,000.\n"
   ]
  },
  {
   "cell_type": "code",
   "execution_count": 35,
   "metadata": {},
   "outputs": [
    {
     "name": "stdout",
     "output_type": "stream",
     "text": [
      "Total number of illiterate men are:  13600.0\n",
      "Total number of illiterate women are:  28000.0\n"
     ]
    }
   ],
   "source": [
    "tot_pop = 80000\n",
    "tot_men = tot_pop*0.52\n",
    "tot_fem = tot_pop*0.48  #(100- % of men)\n",
    "tot_lit = tot_pop*0.48\n",
    "tot_lit_men = tot_pop*0.35\n",
    "tot_lit_fem = tot_lit - tot_lit_men\n",
    "print(\"Total number of illiterate men are: \", tot_men - tot_lit_men)\n",
    "print(\"Total number of illiterate women are: \", tot_fem - tot_lit_fem)"
   ]
  },
  {
   "cell_type": "code",
   "execution_count": null,
   "metadata": {},
   "outputs": [],
   "source": []
  },
  {
   "cell_type": "markdown",
   "metadata": {},
   "source": [
    "####  10. A cashier has currency notes of denominations 10, 50 and 100. If the amount to be withdrawn is input through the keyboard in hundreds, find the total number of currency notes of each denomination the cashier will have to give to the withdrawer.\n"
   ]
  },
  {
   "cell_type": "code",
   "execution_count": 37,
   "metadata": {},
   "outputs": [],
   "source": [
    "def withdrawl():\n",
    "    amnt = int(input(\"Please enter the amount to be withdrawn: \"))\n",
    "    print(\"The currency notes of 100 to be withdrawn are\", amnt/100)\n",
    "    print(\"The currency notes of 50 to be withdrawn are\", amnt/50)\n",
    "    print(\"The currency notes of 10 to be withdrawn are\", amnt/10)"
   ]
  },
  {
   "cell_type": "code",
   "execution_count": 41,
   "metadata": {
    "scrolled": true
   },
   "outputs": [
    {
     "name": "stdout",
     "output_type": "stream",
     "text": [
      "Please enter the amount to be withdrawn: 8500\n",
      "The currency notes of 100 to be withdrawn are 85.0\n",
      "The currency notes of 50 to be withdrawn are 170.0\n",
      "The currency notes of 10 to be withdrawn are 850.0\n"
     ]
    }
   ],
   "source": [
    "# If Withdrawer wants only one particular currency notes\n",
    "\n",
    "withdrawl()"
   ]
  },
  {
   "cell_type": "code",
   "execution_count": 44,
   "metadata": {},
   "outputs": [],
   "source": [
    "# If wirrhdrawer wants the notes of all denomination, then cashier will follow the 100, 50 and 10 to divide the notes.\n",
    "\n",
    "def withdrawl2():\n",
    "    amnt = int(input(\"Please enter the amount to be withdrawn: \"))\n",
    "    note100 = round((amnt/2)/100,0)\n",
    "    amnt = amnt - (note100*100)\n",
    "    note50 = round((amnt/2)/50,0)\n",
    "    amnt = amnt - (note50*50)\n",
    "    note10 = amnt/10\n",
    "    print(\"The currency notes of 100 to be withdrawn are\", note100)\n",
    "    print(\"The currency notes of 50 to be withdrawn are\", note50)\n",
    "    print(\"The currency notes of 10 to be withdrawn are\", note10)"
   ]
  },
  {
   "cell_type": "code",
   "execution_count": 45,
   "metadata": {},
   "outputs": [
    {
     "name": "stdout",
     "output_type": "stream",
     "text": [
      "Please enter the amount to be withdrawn: 8500\n",
      "The currency notes of 100 to be withdrawn are 42.0\n",
      "The currency notes of 50 to be withdrawn are 43.0\n",
      "The currency notes of 10 to be withdrawn are 215.0\n"
     ]
    }
   ],
   "source": [
    "withdrawl2()"
   ]
  },
  {
   "cell_type": "code",
   "execution_count": null,
   "metadata": {},
   "outputs": [],
   "source": []
  }
 ],
 "metadata": {
  "kernelspec": {
   "display_name": "Python 3",
   "language": "python",
   "name": "python3"
  },
  "language_info": {
   "codemirror_mode": {
    "name": "ipython",
    "version": 3
   },
   "file_extension": ".py",
   "mimetype": "text/x-python",
   "name": "python",
   "nbconvert_exporter": "python",
   "pygments_lexer": "ipython3",
   "version": "3.8.3"
  }
 },
 "nbformat": 4,
 "nbformat_minor": 4
}
