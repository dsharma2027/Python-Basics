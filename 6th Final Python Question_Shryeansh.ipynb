{
 "cells": [
  {
   "cell_type": "code",
   "execution_count": 1,
   "metadata": {},
   "outputs": [],
   "source": [
    "import pandas as pd\n",
    "import numpy as np\n",
    "import matplotlib.pyplot as plt\n",
    "import seaborn as sns\n",
    "import os\n"
   ]
  },
  {
   "cell_type": "code",
   "execution_count": null,
   "metadata": {},
   "outputs": [],
   "source": [
    "os.chdir(r'C:\\Users\\Eric\\Downloads')"
   ]
  },
  {
   "cell_type": "code",
   "execution_count": 2,
   "metadata": {},
   "outputs": [],
   "source": [
    "import pandas as pd\n",
    "attr = pd.read_csv('attrition.csv')"
   ]
  },
  {
   "cell_type": "code",
   "execution_count": null,
   "metadata": {},
   "outputs": [],
   "source": [
    "attr.dtypes"
   ]
  },
  {
   "cell_type": "code",
   "execution_count": 3,
   "metadata": {},
   "outputs": [],
   "source": [
    "\n",
    "attr['Attrition'] = attr['Attrition'].astype('object')\n",
    "attr['EnvironmentSatisfaction'] = attr['EnvironmentSatisfaction'].astype('object')\n",
    "attr['JobInvolvement'] = attr['JobInvolvement'].astype('object')\n",
    "attr['JobLevel'] = attr['JobLevel'].astype('object')\n",
    "attr['JobSatisfaction'] = attr['JobSatisfaction'].astype('object')"
   ]
  },
  {
   "cell_type": "markdown",
   "metadata": {},
   "source": [
    "# Q5."
   ]
  },
  {
   "cell_type": "code",
   "execution_count": 2,
   "metadata": {},
   "outputs": [
    {
     "data": {
      "text/html": [
       "<div>\n",
       "<style scoped>\n",
       "    .dataframe tbody tr th:only-of-type {\n",
       "        vertical-align: middle;\n",
       "    }\n",
       "\n",
       "    .dataframe tbody tr th {\n",
       "        vertical-align: top;\n",
       "    }\n",
       "\n",
       "    .dataframe thead th {\n",
       "        text-align: right;\n",
       "    }\n",
       "</style>\n",
       "<table border=\"1\" class=\"dataframe\">\n",
       "  <thead>\n",
       "    <tr style=\"text-align: right;\">\n",
       "      <th></th>\n",
       "      <th>Car</th>\n",
       "      <th>MPG</th>\n",
       "      <th>Cylinders</th>\n",
       "      <th>Displacement</th>\n",
       "      <th>Horsepower</th>\n",
       "      <th>Weight</th>\n",
       "      <th>Acceleration</th>\n",
       "      <th>Model</th>\n",
       "      <th>Origin</th>\n",
       "    </tr>\n",
       "  </thead>\n",
       "  <tbody>\n",
       "    <tr>\n",
       "      <th>0</th>\n",
       "      <td>Chevrolet Chevelle Malibu</td>\n",
       "      <td>18.0</td>\n",
       "      <td>8</td>\n",
       "      <td>307.0</td>\n",
       "      <td>130</td>\n",
       "      <td>3504</td>\n",
       "      <td>12.0</td>\n",
       "      <td>70</td>\n",
       "      <td>US</td>\n",
       "    </tr>\n",
       "    <tr>\n",
       "      <th>1</th>\n",
       "      <td>Buick Skylark 320</td>\n",
       "      <td>15.0</td>\n",
       "      <td>8</td>\n",
       "      <td>350.0</td>\n",
       "      <td>165</td>\n",
       "      <td>3693</td>\n",
       "      <td>11.5</td>\n",
       "      <td>70</td>\n",
       "      <td>US</td>\n",
       "    </tr>\n",
       "    <tr>\n",
       "      <th>2</th>\n",
       "      <td>Plymouth Satellite</td>\n",
       "      <td>18.0</td>\n",
       "      <td>8</td>\n",
       "      <td>318.0</td>\n",
       "      <td>150</td>\n",
       "      <td>3436</td>\n",
       "      <td>11.0</td>\n",
       "      <td>70</td>\n",
       "      <td>US</td>\n",
       "    </tr>\n",
       "    <tr>\n",
       "      <th>3</th>\n",
       "      <td>AMC Rebel SST</td>\n",
       "      <td>16.0</td>\n",
       "      <td>8</td>\n",
       "      <td>304.0</td>\n",
       "      <td>150</td>\n",
       "      <td>3433</td>\n",
       "      <td>12.0</td>\n",
       "      <td>70</td>\n",
       "      <td>US</td>\n",
       "    </tr>\n",
       "    <tr>\n",
       "      <th>4</th>\n",
       "      <td>Ford Torino</td>\n",
       "      <td>17.0</td>\n",
       "      <td>8</td>\n",
       "      <td>302.0</td>\n",
       "      <td>140</td>\n",
       "      <td>3449</td>\n",
       "      <td>10.5</td>\n",
       "      <td>70</td>\n",
       "      <td>US</td>\n",
       "    </tr>\n",
       "  </tbody>\n",
       "</table>\n",
       "</div>"
      ],
      "text/plain": [
       "                         Car   MPG  Cylinders  Displacement  Horsepower  \\\n",
       "0  Chevrolet Chevelle Malibu  18.0          8         307.0         130   \n",
       "1          Buick Skylark 320  15.0          8         350.0         165   \n",
       "2         Plymouth Satellite  18.0          8         318.0         150   \n",
       "3              AMC Rebel SST  16.0          8         304.0         150   \n",
       "4                Ford Torino  17.0          8         302.0         140   \n",
       "\n",
       "   Weight  Acceleration  Model Origin  \n",
       "0    3504          12.0     70     US  \n",
       "1    3693          11.5     70     US  \n",
       "2    3436          11.0     70     US  \n",
       "3    3433          12.0     70     US  \n",
       "4    3449          10.5     70     US  "
      ]
     },
     "execution_count": 2,
     "metadata": {},
     "output_type": "execute_result"
    }
   ],
   "source": [
    "cars = pd.read_excel(\"cars.csv.xlsx\")\n",
    "cars.head()"
   ]
  },
  {
   "cell_type": "code",
   "execution_count": 26,
   "metadata": {},
   "outputs": [],
   "source": [
    "def crosstab1(df):\n",
    "    indx_bucket = []\n",
    "    for i in cars.columns:\n",
    "        print(i , df.columns.get_loc(i))\n",
    "        indx_bucket.append(cars.columns.get_loc(i))\n",
    "    #print('\\n')\n",
    "    print(type(indx_bucket[0]))\n",
    "    inpt_list1 = []\n",
    "    inpt_list2 = []\n",
    "    while True:\n",
    "        input1 = input(\"Enter the Index of the Variable (Tyoe 'Done'to end): \")\n",
    "        if input1.lower() != 'done':\n",
    "            if input1 in inpt_list1:\n",
    "                print(\"Duplicate Entry!!! Please enter the Index Number Again...\") \n",
    "            elif int(input1) not in indx_bucket:\n",
    "                print(\"Index out of Range!!!\")\n",
    "            else:\n",
    "                inpt_list1.append((input1))\n",
    "        elif input1.lower() == 'done':\n",
    "            break\n",
    "    print(\"\\n\")\n",
    "    inpt_list1 = [int(i) for i in inpt_list1[:]]\n",
    "    inpt_list1.sort()\n",
    "    print(\"The Index Seletced for List 1 are: \", inpt_list1)\n",
    "\n",
    "    ##############################################################################################################\n",
    "  \n",
    "    while True:\n",
    "        input2 = input(\"Enter the Index of the Variable (Tyoe 'Done'to end): \")\n",
    "        if input2.lower() != 'done':\n",
    "            if  int(input2) in inpt_list1:\n",
    "                print(\"Already In list-1, Please choose another Index\")\n",
    "            else:\n",
    "                if input2 in inpt_list2:\n",
    "                    print(\"Duplicate Entry!!! Please enter the Index Number Again...\") \n",
    "                elif int(input2) not in indx_bucket:\n",
    "                    print(\"Index out of Range!!!\")\n",
    "                else:\n",
    "                    inpt_list2.append(input2)\n",
    "        elif input2.lower() == 'done':\n",
    "            break\n",
    "    print(\"\\n\")\n",
    "    inpt_list2 = [int(i) for i in inpt_list2[:]]\n",
    "    inpt_list2.sort()\n",
    "    print(\"The Index Seletced for List 2 are: \", inpt_list2)\n",
    "        "
   ]
  },
  {
   "cell_type": "code",
   "execution_count": 27,
   "metadata": {},
   "outputs": [
    {
     "name": "stdout",
     "output_type": "stream",
     "text": [
      "Car 0\n",
      "MPG 1\n",
      "Cylinders 2\n",
      "Displacement 3\n",
      "Horsepower 4\n",
      "Weight 5\n",
      "Acceleration 6\n",
      "Model 7\n",
      "Origin 8\n",
      "<class 'int'>\n",
      "Enter the Index of the Variable (Tyoe 'Done'to end): 1\n",
      "Enter the Index of the Variable (Tyoe 'Done'to end): 9\n",
      "Index out of Range!!!\n",
      "Enter the Index of the Variable (Tyoe 'Done'to end): 2\n",
      "Enter the Index of the Variable (Tyoe 'Done'to end): 2\n",
      "Duplicate Entry!!! Please enter the Index Number Again...\n",
      "Enter the Index of the Variable (Tyoe 'Done'to end): done\n",
      "\n",
      "\n",
      "The Index Seletced for List 1 are:  [1, 2]\n",
      "Enter the Index of the Variable (Tyoe 'Done'to end): 3\n",
      "Enter the Index of the Variable (Tyoe 'Done'to end): 1\n",
      "Already In list-1, Please choose another Index\n",
      "Enter the Index of the Variable (Tyoe 'Done'to end): 4\n",
      "Enter the Index of the Variable (Tyoe 'Done'to end): 3\n",
      "Duplicate Entry!!! Please enter the Index Number Again...\n",
      "Enter the Index of the Variable (Tyoe 'Done'to end): 9\n",
      "Index out of Range!!!\n",
      "Enter the Index of the Variable (Tyoe 'Done'to end): 2\n",
      "Already In list-1, Please choose another Index\n",
      "Enter the Index of the Variable (Tyoe 'Done'to end): 5\n",
      "Enter the Index of the Variable (Tyoe 'Done'to end): done\n",
      "\n",
      "\n",
      "The Index Seletced for List 1 are:  [3, 4, 5]\n"
     ]
    }
   ],
   "source": [
    "crosstab1(cars)"
   ]
  },
  {
   "cell_type": "code",
   "execution_count": 4,
   "metadata": {
    "scrolled": false
   },
   "outputs": [
    {
     "name": "stdout",
     "output_type": "stream",
     "text": [
      "The Numerical variables in the Dataset are:\n",
      "Age\n",
      "Attrition\n",
      "EnvironmentSatisfaction\n",
      "JobInvolvement\n",
      "JobLevel\n",
      "JobSatisfaction\n",
      "MonthlyIncome\n",
      "TotalWorkingYears\n",
      "WorkLifeBalance\n",
      "YearsAtCompany\n",
      "YearsInCurrentRole\n",
      "YearsSinceLastPromotion\n",
      "YearsWithCurrManager\n",
      "DistanceFromHome\n",
      "\n",
      "\n",
      "this are all categorical columns of data set\n",
      "BusinessTravel\n",
      "Department\n",
      "EducationField\n",
      "Gender\n",
      "MaritalStatus\n",
      "OverTime\n",
      "\n",
      "Enter first argument in the crosstab function. i.e numerical column..Enter exact spelling, If done enter 'done'.. :JobSatisfaction\n",
      "\n",
      "Enter first argument in the crosstab function. i.e numerical column..Enter exact spelling, If done enter 'done'.. :JobLevel\n",
      "\n",
      "Enter first argument in the crosstab function. i.e numerical column..Enter exact spelling, If done enter 'done'.. :done\n",
      "['JobSatisfaction', 'JobLevel']\n",
      "\n",
      "Enter second argument in the crosstab function. i.e categorical column..Enter exact spelling,If done enter 'done'Department\n",
      "\n",
      "Enter second argument in the crosstab function. i.e categorical column..Enter exact spelling,If done enter 'done'OverTime\n",
      "\n",
      "Enter second argument in the crosstab function. i.e categorical column..Enter exact spelling,If done enter 'done'done\n",
      "['Department', 'OverTime']\n",
      "\n",
      "\n",
      "\n",
      "\n",
      "Department       Human Resources  Research & Development  Sales\n",
      "JobSatisfaction                                                \n",
      "1                           3.81                   66.44  29.76\n",
      "2                           7.14                   62.14  30.71\n",
      "3                           3.39                   67.87  28.73\n",
      "4                           3.70                   64.27  32.03\n",
      "\n",
      "\n",
      "AxesSubplot(0.125,0.125;0.775x0.755)\n",
      "\n",
      "\n",
      "\n",
      "\n",
      "OverTime            No    Yes\n",
      "JobSatisfaction              \n",
      "1                70.93  29.07\n",
      "2                75.36  24.64\n",
      "3                72.62  27.38\n",
      "4                69.06  30.94\n",
      "\n",
      "\n",
      "AxesSubplot(0.125,0.125;0.775x0.755)\n",
      "\n",
      "\n",
      "\n",
      "\n",
      "Department  Human Resources  Research & Development  Sales\n",
      "JobLevel                                                  \n",
      "1                      6.08                   79.93  14.00\n",
      "2                      2.43                   52.62  44.94\n",
      "3                      2.75                   59.17  38.07\n",
      "4                      3.77                   64.15  32.08\n",
      "5                     10.14                   71.01  18.84\n",
      "\n",
      "\n",
      "AxesSubplot(0.125,0.125;0.775x0.755)\n",
      "\n",
      "\n",
      "\n",
      "\n",
      "OverTime     No    Yes\n",
      "JobLevel              \n",
      "1         71.27  28.73\n",
      "2         72.66  27.34\n",
      "3         71.10  28.90\n",
      "4         68.87  31.13\n",
      "5         73.91  26.09\n",
      "\n",
      "\n",
      "AxesSubplot(0.125,0.125;0.775x0.755)\n"
     ]
    },
    {
     "data": {
      "image/png": "[encoded data removed]",
      "text/plain": [
       "<Figure size 1152x360 with 1 Axes>"
      ]
     },
     "metadata": {
      "needs_background": "light"
     },
     "output_type": "display_data"
    },
    {
     "data": {
      "image/png": "[encoded data removed]",
      "text/plain": [
       "<Figure size 1152x360 with 1 Axes>"
      ]
     },
     "metadata": {
      "needs_background": "light"
     },
     "output_type": "display_data"
    },
    {
     "data": {
      "image/png": "[encoded data removed]",
      "text/plain": [
       "<Figure size 1152x360 with 1 Axes>"
      ]
     },
     "metadata": {
      "needs_background": "light"
     },
     "output_type": "display_data"
    },
    {
     "data": {
      "image/png": "[encoded data removed]",
      "text/plain": [
       "<Figure size 1152x360 with 1 Axes>"
      ]
     },
     "metadata": {
      "needs_background": "light"
     },
     "output_type": "display_data"
    }
   ],
   "source": [
    "def crosstab(df):\n",
    "    df1 = df.select_dtypes(exclude=['object'])\n",
    "    print('The Numerical variables in the Dataset are:')\n",
    "    for i in df1.columns:\n",
    "        print(i)\n",
    "        \n",
    "    print('\\n')\n",
    "    print(\"this are all categorical columns of data set\")\n",
    "    df2 = df.select_dtypes(include =['object'])\n",
    "    for i in df2.columns:\n",
    "        print(i)\n",
    "        \n",
    "\n",
    "    cat1 = []\n",
    "    o = \" \"\n",
    "    while o != 'done':\n",
    "        o = input(\"\\nEnter first argument in the crosstab function. i.e numerical column..Enter exact spelling, If done enter 'done'.. :\")\n",
    "        if o in cat1:\n",
    "            print(\"\\nAlready entered \")\n",
    "        if o not in df1.columns and o !='done':\n",
    "            print(\"\\nIncorrect Variable name entered,Enter correct variable name.\")\n",
    "            continue\n",
    "        elif o == 'done':\n",
    "            continue\n",
    "        cat1.append(o)\n",
    "    print(cat1)\n",
    "    \n",
    "    cat2 = []\n",
    "    c = \" \"\n",
    "    while c != 'done':\n",
    "        c = input(\"\\nEnter second argument in the crosstab function. i.e categorical column..Enter exact spelling,If done enter 'done'\")\n",
    "        if c in cat2:\n",
    "            print(\"\\nAlready entered \")\n",
    "        if c not in df2.columns and c !='done':\n",
    "            print(\"\\nIncorrect Variable name entered,Enter correct variable name.\")\n",
    "            continue\n",
    "        elif c == 'done':\n",
    "            continue\n",
    "        cat2.append(c)\n",
    "    print(cat2)\n",
    "    \n",
    "    \n",
    "    \n",
    "    for i in cat1:\n",
    "        for j in cat2:\n",
    "            table = pd.crosstab(df[i],columns = df[j])\n",
    "            print(\"\\n\")\n",
    "            print(\"\\n\")\n",
    "            rowtotal = table.sum(axis=1)\n",
    "            print(round(table.div(rowtotal,axis=0)*100,2))\n",
    "            print(\"\\n\")\n",
    "            print(round(table.div(rowtotal,axis=0)*100,2).plot(kind = 'bar' ,rot=0 , figsize = [16,5]))\n",
    "            \n",
    "            \n",
    "    \n",
    "          \n",
    "        \n",
    "crosstab(df = pd.read_csv(\"attrition.csv\"))        "
   ]
  },
  {
   "cell_type": "code",
   "execution_count": null,
   "metadata": {},
   "outputs": [],
   "source": []
  },
  {
   "cell_type": "code",
   "execution_count": null,
   "metadata": {},
   "outputs": [],
   "source": []
  },
  {
   "cell_type": "code",
   "execution_count": null,
   "metadata": {},
   "outputs": [],
   "source": []
  }
 ],
 "metadata": {
  "kernelspec": {
   "display_name": "Python 3",
   "language": "python",
   "name": "python3"
  },
  "language_info": {
   "codemirror_mode": {
    "name": "ipython",
    "version": 3
   },
   "file_extension": ".py",
   "mimetype": "text/x-python",
   "name": "python",
   "nbconvert_exporter": "python",
   "pygments_lexer": "ipython3",
   "version": "3.8.3"
  }
 },
 "nbformat": 4,
 "nbformat_minor": 2
}
