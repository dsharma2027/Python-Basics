{
 "cells": [
  {
   "cell_type": "markdown",
   "metadata": {},
   "source": [
    "#### Programe to take Input from user for password. It will give 5 chances to user to try and after that user have to wait for 10 seconds to try again. ON typing \"forgot password\" hint related to password will be shown to the user.(and particular chance is not counted)"
   ]
  },
  {
   "cell_type": "code",
   "execution_count": 3,
   "metadata": {},
   "outputs": [],
   "source": [
    "import sys\n",
    "import time\n",
    "\n",
    "# Wait function. User need to wait for n no. of sec after 5 incorrect try, to enter the password again\n",
    "\n",
    "def wait(n):\n",
    "    for remaining in range(n, -1, -1):\n",
    "        sys.stdout.write(\"\\r%d seconds remaining.\" %remaining)\n",
    "        time.sleep(1)\n",
    "    print(\"\\r      TRY AGAIN!!!!!\")  # Will move cursor back to the first index and print the Try Again "
   ]
  },
  {
   "cell_type": "code",
   "execution_count": 4,
   "metadata": {},
   "outputs": [
    {
     "name": "stdout",
     "output_type": "stream",
     "text": [
      "\n",
      "Please enter the correct password:g\n",
      "Incorrect Password!!!!\n",
      "\n",
      "Please enter the correct password:g\n",
      "Incorrect Password!!!!\n",
      "\n",
      "Please enter the correct password:g\n",
      "Incorrect Password!!!!\n",
      "\n",
      "Please enter the correct password:g\n",
      "Incorrect Password!!!!\n",
      "\n",
      "Please enter the correct password:g\n",
      "Incorrect Password!!!!\n",
      "You have lost your 5 chances\n",
      "Wait for 10 seconds to Try again\n",
      "\n",
      "      TRY AGAIN!!!!!.\n",
      "\n",
      "Please enter the correct password:g\n",
      "Incorrect Password!!!!\n",
      "\n",
      "Please enter the correct password:g\n",
      "Incorrect Password!!!!\n",
      "\n",
      "Please enter the correct password:g\n",
      "Incorrect Password!!!!\n",
      "\n",
      "Please enter the correct password:g\n",
      "Incorrect Password!!!!\n",
      "\n",
      "Please enter the correct password:forgot password\n",
      "Incorrect Password!!!!\n",
      "Your pet's name\n",
      "\n",
      "Please enter the correct password:Bruno\n",
      "Correct Password\n"
     ]
    }
   ],
   "source": [
    "password1 = 'Bruno'   # Password\n",
    "count = 0\n",
    "while True:\n",
    "    # user Input to enter the password\n",
    "    \n",
    "    pswd = input('\\nPlease enter the correct password:')\n",
    "    if pswd != password1:\n",
    "        print('Incorrect Password!!!!')\n",
    "        \n",
    "        # If user input the \"forgot password\" hint will appear for the user and particular chance will not be count\n",
    "        \n",
    "        if pswd == 'forgot password':\n",
    "            print(\"Your pet's name\")\n",
    "            continue\n",
    "            \n",
    "        count +=1   \n",
    "        \n",
    "        # If count = 5, User have to wait for 5 sec to try again\n",
    "        \n",
    "        if count == 5:\n",
    "            print('You have lost your 5 chances')\n",
    "            print('Wait for 10 seconds to Try again\\n')\n",
    "            wait(10)\n",
    "            count = 0\n",
    "    else:\n",
    "        print('Correct Password')\n",
    "        break\n"
   ]
  },
  {
   "cell_type": "code",
   "execution_count": null,
   "metadata": {},
   "outputs": [],
   "source": []
  },
  {
   "cell_type": "code",
   "execution_count": null,
   "metadata": {},
   "outputs": [],
   "source": []
  }
 ],
 "metadata": {
  "kernelspec": {
   "display_name": "Python 3",
   "language": "python",
   "name": "python3"
  },
  "language_info": {
   "codemirror_mode": {
    "name": "ipython",
    "version": 3
   },
   "file_extension": ".py",
   "mimetype": "text/x-python",
   "name": "python",
   "nbconvert_exporter": "python",
   "pygments_lexer": "ipython3",
   "version": "3.8.3"
  }
 },
 "nbformat": 4,
 "nbformat_minor": 4
}
