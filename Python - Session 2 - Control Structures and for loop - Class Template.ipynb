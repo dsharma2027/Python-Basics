{
 "cells": [
  {
   "cell_type": "markdown",
   "metadata": {},
   "source": [
    "### A. Things you already know:\n",
    "\n",
    "* Boolean expression\n",
    "* Logical operators\n",
    "* Logical expressions (if:, else if:, else:)\n",
    "\n",
    "*Note: In Python **else if** is written as **elif** *"
   ]
  },
  {
   "cell_type": "markdown",
   "metadata": {},
   "source": [
    "### B. Introducing elif:"
   ]
  },
  {
   "cell_type": "code",
   "execution_count": 1,
   "metadata": {},
   "outputs": [
    {
     "name": "stdout",
     "output_type": "stream",
     "text": [
      "Enter a number: -99\n",
      "Negative\n"
     ]
    }
   ],
   "source": [
    "number = int(input(\"Enter a number: \"))\n",
    "\n",
    "if number > 0:\n",
    "    print(\"Positive\")\n",
    "elif number < 0:\n",
    "    print(\"Negative\")\n",
    "else:\n",
    "    print(\"Zero\")"
   ]
  },
  {
   "cell_type": "markdown",
   "metadata": {},
   "source": [
    "#### Exercise:\n",
    "\n",
    "**Recall the problem:**\n",
    "\n",
    "For a certain academic subject the students are evaluated based on five tests -\n",
    "\n",
    "* Quiz 1 (20 marks - 10% Weight),\n",
    "* Quiz 2 (20 marks - 10% Weight),\n",
    "* Class test (50 marks - 25% Weight),\n",
    "* Assignment (100 marks - 25% weight) and\n",
    "* Project (200 marks - 30% weight).\n",
    "\n",
    "Design a program that will prompt the user for marks for each of the tests and calculate the overall marks (out of 100).\n"
   ]
  },
  {
   "cell_type": "markdown",
   "metadata": {},
   "source": [
    "#### Add an extension to the problem to display grades:\n",
    "\n",
    "Display the grades of students using the following table:\n",
    "\n",
    "    Score\t\tGrade\n",
    "\t>= 60\t\tFirst Class\n",
    "\t>= 40\t\tSecond Class\n",
    "\t< 40\t\tFail\n"
   ]
  },
  {
   "cell_type": "code",
   "execution_count": 7,
   "metadata": {},
   "outputs": [
    {
     "name": "stdout",
     "output_type": "stream",
     "text": [
      "Enter the marks scored in Quiz 1 out of 20:18\n",
      "Enter the marks scored in Quiz 2 out of 20:18\n",
      "Enter the marks scored in Class Test out of 50:44\n",
      "Enter the marks scored in Assignment out of 100:88\n",
      "Enter the marks scored in Project out of 200:188\n",
      "Overall marks out of 100 are:93.0 and Grade is: First Class\n"
     ]
    }
   ],
   "source": [
    "quiz1 = int(input('Enter the marks scored in Quiz 1 out of 20:'))\n",
    "quiz2 = int(input('Enter the marks scored in Quiz 2 out of 20:'))\n",
    "class_test = int(input('Enter the marks scored in Class Test out of 50:'))\n",
    "assg = int(input('Enter the marks scored in Assignment out of 100:'))\n",
    "proj = int(input('Enter the marks scored in Project out of 200:'))\n",
    "\n",
    "overall_marks = (quiz1*0.10)+(quiz2*0.10)+(class_test*0.25)+(assg*0.25)+(proj*0.30)\n",
    "\n",
    "if overall_marks >= 60:\n",
    "    grade = 'First Class'\n",
    "elif overall_marks >= 40 and overall_marks <= 60:\n",
    "    grade = 'Second Class'\n",
    "elif overall_marks < 40:\n",
    "    grade = 'Fail'\n",
    "    \n",
    "print(f'Overall marks out of 100 are:{overall_marks} and Grade is: {grade}')\n",
    "\n"
   ]
  },
  {
   "cell_type": "code",
   "execution_count": null,
   "metadata": {},
   "outputs": [],
   "source": []
  },
  {
   "cell_type": "code",
   "execution_count": null,
   "metadata": {},
   "outputs": [],
   "source": []
  },
  {
   "cell_type": "code",
   "execution_count": null,
   "metadata": {},
   "outputs": [],
   "source": []
  },
  {
   "cell_type": "code",
   "execution_count": null,
   "metadata": {},
   "outputs": [],
   "source": []
  },
  {
   "cell_type": "code",
   "execution_count": null,
   "metadata": {},
   "outputs": [],
   "source": []
  },
  {
   "cell_type": "markdown",
   "metadata": {},
   "source": [
    "#### Exercise:\n",
    "\n",
    "** Recall the problem:**\n",
    "\n",
    "How about prompting the user for the number of hours and using the input value to compute the total pay?"
   ]
  },
  {
   "cell_type": "raw",
   "metadata": {},
   "source": [
    "** Include a modification **\n",
    "\n",
    "Write a program to prompt the user for hours and rate per hour to compute the gross pay. The pay computation should be such that the employees should get 1.5 times the hourly rate for hours worked above 40 hours."
   ]
  },
  {
   "cell_type": "code",
   "execution_count": 13,
   "metadata": {},
   "outputs": [
    {
     "name": "stdout",
     "output_type": "stream",
     "text": [
      "Please enter the no. of working hours:140\n",
      "The Pay is: 2280.0\n"
     ]
    }
   ],
   "source": [
    "no_of_hours = int(input('Please enter the no. of working hours:')\n",
    "if no_of_hours > 0 and no_of_hours <= 40:\n",
    "    print('The Pay is:',no_of_hours*12)\n",
    "elif no_of_hours > 40:\n",
    "    print('The Pay is:',(480)+((no_of_hours-40)*1.5*12))\n",
    "else:\n",
    "    print('Plese enter the Hours in correct format')"
   ]
  },
  {
   "cell_type": "markdown",
   "metadata": {},
   "source": [
    "### C. Exception Handling:"
   ]
  },
  {
   "cell_type": "markdown",
   "metadata": {},
   "source": [
    "** try & except **"
   ]
  },
  {
   "cell_type": "markdown",
   "metadata": {},
   "source": [
    "Rewrite the pay program (refer problem 2) using try and expect so that the program handles non-numeric input gracefully by printing a message and exiting the program. The following shows two executions of the program:\n",
    "\n",
    "\tEnter hours: 20\n",
    "\tEnter rate:  nine\n",
    "\tError, please enter numeric input"
   ]
  },
  {
   "cell_type": "code",
   "execution_count": 7,
   "metadata": {},
   "outputs": [],
   "source": [
    "def no_of_hours():\n",
    "    while True:\n",
    "        try:\n",
    "            hours = int(input('Please enter the no. of working hours:'))\n",
    "        except:\n",
    "            print('Error! Please enter the Numeric Input')\n",
    "        else:\n",
    "            if hours > 0 and hours <= 40:\n",
    "                print('The Pay is:',hours*12)\n",
    "            elif hours > 40:\n",
    "                print('The Pay is:',(480)+((hours-40)*1.5*12))\n",
    "            else:\n",
    "                print('Plese enter the Hours in correct format')\n",
    "            break\n",
    "            "
   ]
  },
  {
   "cell_type": "code",
   "execution_count": 8,
   "metadata": {},
   "outputs": [
    {
     "name": "stdout",
     "output_type": "stream",
     "text": [
      "Please enter the no. of working hours:j\n",
      "Error! Please enter the Numeric Input\n",
      "Please enter the no. of working hours:sixty\n",
      "Error! Please enter the Numeric Input\n",
      "Please enter the no. of working hours:60\n",
      "The Pay is: 840.0\n"
     ]
    }
   ],
   "source": [
    "no_of_hours()"
   ]
  },
  {
   "cell_type": "code",
   "execution_count": null,
   "metadata": {},
   "outputs": [],
   "source": []
  },
  {
   "cell_type": "code",
   "execution_count": 7,
   "metadata": {},
   "outputs": [],
   "source": [
    "def no_of_hours_():\n",
    "    while True:\n",
    "        try:\n",
    "            hours = int(input('Please enter the no. of working hours:'))\n",
    "            if hours < 0:\n",
    "                print('Hours cannot be neagative!!!!!!')\n",
    "                continue\n",
    "        except:\n",
    "            print('Error! Please enter the Numeric Input')\n",
    "        else:\n",
    "            if hours <= 40:\n",
    "                print('The Pay is:',hours*12)\n",
    "            else:\n",
    "                print('The Pay is:',(480)+((hours-40)*1.5*12))\n",
    "          \n",
    "            break\n",
    "      "
   ]
  },
  {
   "cell_type": "code",
   "execution_count": 8,
   "metadata": {},
   "outputs": [
    {
     "name": "stdout",
     "output_type": "stream",
     "text": [
      "Please enter the no. of working hours:-80\n",
      "Hours cannot be neagative!!!!!!\n",
      "Please enter the no. of working hours:eighty\n",
      "Error! Please enter the Numeric Input\n",
      "Please enter the no. of working hours:90\n",
      "The Pay is: 1380.0\n"
     ]
    }
   ],
   "source": [
    "no_of_hours_()"
   ]
  },
  {
   "cell_type": "code",
   "execution_count": null,
   "metadata": {},
   "outputs": [],
   "source": []
  },
  {
   "cell_type": "code",
   "execution_count": 52,
   "metadata": {},
   "outputs": [],
   "source": [
    "def sqrt_of_int():\n",
    "    \n",
    "    while True:\n",
    "        try:\n",
    "            num = int(input('Please enter the number: '))\n",
    "        except: \n",
    "            print('WHOOPS!!! That is not a number.  Please try again')\n",
    "        else:\n",
    "            \n",
    "            result = num ** 0.5\n",
    "            print(f'The square root of the number is: {result}')\n",
    "            break\n",
    "        "
   ]
  },
  {
   "cell_type": "code",
   "execution_count": 53,
   "metadata": {},
   "outputs": [
    {
     "name": "stdout",
     "output_type": "stream",
     "text": [
      "Please enter the number: ninety\n",
      "WHOOPS!!! That is not a number.  Please try again\n",
      "Please enter the number: 90\n",
      "The square root of the number is: 9.486832980505138\n"
     ]
    }
   ],
   "source": [
    "sqrt_of_int()"
   ]
  },
  {
   "cell_type": "code",
   "execution_count": 29,
   "metadata": {},
   "outputs": [],
   "source": [
    "def num_div(n1,n2):\n",
    "    \n",
    "    try:\n",
    "        print(n1/n2)\n",
    "    except:\n",
    "        print('Division by zero')\n"
   ]
  },
  {
   "cell_type": "code",
   "execution_count": 30,
   "metadata": {},
   "outputs": [
    {
     "name": "stdout",
     "output_type": "stream",
     "text": [
      "Division by zero\n"
     ]
    }
   ],
   "source": [
    "num_div(10,0)"
   ]
  },
  {
   "cell_type": "code",
   "execution_count": 41,
   "metadata": {},
   "outputs": [],
   "source": [
    "def num_sqr(num):\n",
    "    for i in num:\n",
    "        try:\n",
    "            print(f'The square of {i} is',i**2)\n",
    "        except:\n",
    "            print(i,': Hey you have not enter the number')"
   ]
  },
  {
   "cell_type": "code",
   "execution_count": 42,
   "metadata": {},
   "outputs": [],
   "source": [
    "num1 = [1,2,3,'four',5,6,'seven',8,'nine',10,'eleve']"
   ]
  },
  {
   "cell_type": "code",
   "execution_count": 43,
   "metadata": {},
   "outputs": [
    {
     "name": "stdout",
     "output_type": "stream",
     "text": [
      "The square of 1 is 1\n",
      "The square of 2 is 4\n",
      "The square of 3 is 9\n",
      "four : Hey you have not enter the number\n",
      "The square of 5 is 25\n",
      "The square of 6 is 36\n",
      "seven : Hey you have not enter the number\n",
      "The square of 8 is 64\n",
      "nine : Hey you have not enter the number\n",
      "The square of 10 is 100\n",
      "eleve : Hey you have not enter the number\n"
     ]
    }
   ],
   "source": [
    "num_sqr(num1)"
   ]
  },
  {
   "cell_type": "code",
   "execution_count": null,
   "metadata": {},
   "outputs": [],
   "source": []
  },
  {
   "cell_type": "code",
   "execution_count": null,
   "metadata": {},
   "outputs": [],
   "source": []
  },
  {
   "cell_type": "code",
   "execution_count": null,
   "metadata": {},
   "outputs": [],
   "source": []
  },
  {
   "cell_type": "markdown",
   "metadata": {},
   "source": [
    "### D. For Loop"
   ]
  },
  {
   "cell_type": "markdown",
   "metadata": {},
   "source": [
    "** Consider the following list of number **\n",
    "    \n",
    "    L = [12,18,11,15,9,7,16]"
   ]
  },
  {
   "cell_type": "code",
   "execution_count": 54,
   "metadata": {},
   "outputs": [],
   "source": [
    "L = [12,18,11,15,9,7,16]"
   ]
  },
  {
   "cell_type": "code",
   "execution_count": 55,
   "metadata": {},
   "outputs": [
    {
     "data": {
      "text/plain": [
       "[12, 18, 11, 15, 9, 7, 16]"
      ]
     },
     "execution_count": 55,
     "metadata": {},
     "output_type": "execute_result"
    }
   ],
   "source": [
    "L"
   ]
  },
  {
   "cell_type": "code",
   "execution_count": 4,
   "metadata": {},
   "outputs": [],
   "source": []
  },
  {
   "cell_type": "code",
   "execution_count": null,
   "metadata": {
    "collapsed": true
   },
   "outputs": [],
   "source": []
  },
  {
   "cell_type": "code",
   "execution_count": null,
   "metadata": {
    "collapsed": true
   },
   "outputs": [],
   "source": []
  },
  {
   "cell_type": "code",
   "execution_count": null,
   "metadata": {
    "collapsed": true
   },
   "outputs": [],
   "source": []
  },
  {
   "cell_type": "markdown",
   "metadata": {},
   "source": [
    "**1. Calculating the sum of numbers in a list. **"
   ]
  },
  {
   "cell_type": "code",
   "execution_count": 65,
   "metadata": {},
   "outputs": [
    {
     "name": "stdout",
     "output_type": "stream",
     "text": [
      "The sum of the numbers in the list is 88\n"
     ]
    }
   ],
   "source": [
    "sum1 = 0\n",
    "for i in L:\n",
    "    sum1 = sum1 + i\n",
    "print ('The sum of the numbers in the list is', sum1)"
   ]
  },
  {
   "cell_type": "code",
   "execution_count": null,
   "metadata": {},
   "outputs": [],
   "source": []
  },
  {
   "cell_type": "code",
   "execution_count": null,
   "metadata": {},
   "outputs": [],
   "source": []
  },
  {
   "cell_type": "code",
   "execution_count": null,
   "metadata": {},
   "outputs": [],
   "source": []
  },
  {
   "cell_type": "markdown",
   "metadata": {},
   "source": [
    "** 2. Counting the number of elements present in a list. **"
   ]
  },
  {
   "cell_type": "code",
   "execution_count": 58,
   "metadata": {},
   "outputs": [
    {
     "name": "stdout",
     "output_type": "stream",
     "text": [
      "The number of elements present in the list are: 7\n"
     ]
    }
   ],
   "source": [
    "count1 = 0\n",
    "for i in L:\n",
    "    count1 +=1\n",
    "print('The number of elements present in the list are:', count1)"
   ]
  },
  {
   "cell_type": "code",
   "execution_count": null,
   "metadata": {},
   "outputs": [],
   "source": []
  },
  {
   "cell_type": "code",
   "execution_count": null,
   "metadata": {},
   "outputs": [],
   "source": []
  },
  {
   "cell_type": "markdown",
   "metadata": {},
   "source": [
    "** 3. Finding the largest number in a sequence.**"
   ]
  },
  {
   "cell_type": "code",
   "execution_count": 77,
   "metadata": {},
   "outputs": [
    {
     "name": "stdout",
     "output_type": "stream",
     "text": [
      "The largest number in the list is: 18\n"
     ]
    }
   ],
   "source": [
    "max1 = L[0]\n",
    "for i in L:\n",
    "    if i > max1:\n",
    "        max1 = i\n",
    "    \n",
    "print('The largest number in the list is:', max1)"
   ]
  },
  {
   "cell_type": "markdown",
   "metadata": {},
   "source": [
    "** 4. Finding the smallest number in a sequence. **"
   ]
  },
  {
   "cell_type": "code",
   "execution_count": 62,
   "metadata": {},
   "outputs": [
    {
     "name": "stdout",
     "output_type": "stream",
     "text": [
      "The smallest number in the sequence is: 1\n"
     ]
    }
   ],
   "source": [
    "min1 = L[0]\n",
    "for i in L:\n",
    "    if i < min1:\n",
    "        min1 = 1\n",
    "print('The smallest number in the sequence is:', min1)"
   ]
  },
  {
   "cell_type": "markdown",
   "metadata": {},
   "source": [
    "### E. Introducing range()"
   ]
  },
  {
   "cell_type": "code",
   "execution_count": null,
   "metadata": {},
   "outputs": [],
   "source": []
  },
  {
   "cell_type": "markdown",
   "metadata": {},
   "source": [
    "**1. Calculate the sum of first n integers**"
   ]
  },
  {
   "cell_type": "code",
   "execution_count": 66,
   "metadata": {},
   "outputs": [
    {
     "name": "stdout",
     "output_type": "stream",
     "text": [
      "Please enter the number:100\n",
      "The sum first 100 integers is: 5050\n"
     ]
    }
   ],
   "source": [
    "\n",
    "num = int(input('Please enter the number:'))\n",
    "sum1 = 0\n",
    "for i in range(1,num+1):\n",
    "    sum1 = sum1 + i\n",
    "print(f'The sum first {num} integers is:', sum1)"
   ]
  },
  {
   "cell_type": "code",
   "execution_count": null,
   "metadata": {},
   "outputs": [],
   "source": []
  },
  {
   "cell_type": "markdown",
   "metadata": {},
   "source": [
    "**2. Calculate the mean of the first n integers.**"
   ]
  },
  {
   "cell_type": "code",
   "execution_count": 67,
   "metadata": {},
   "outputs": [
    {
     "name": "stdout",
     "output_type": "stream",
     "text": [
      "Please enter the number:100\n",
      "The sum first 100 integers is: 50.5\n"
     ]
    }
   ],
   "source": [
    "num = int(input('Please enter the number:'))\n",
    "sum1 = 0\n",
    "for i in range(1,num+1):\n",
    "    sum1 = sum1 + i\n",
    "mean = sum1 / num \n",
    "print(f'The mean of first {num} integers is:', mean)"
   ]
  },
  {
   "cell_type": "code",
   "execution_count": null,
   "metadata": {},
   "outputs": [],
   "source": []
  },
  {
   "cell_type": "markdown",
   "metadata": {},
   "source": [
    "**3. Calculate the standard deviation of the first n integers**"
   ]
  },
  {
   "cell_type": "code",
   "execution_count": 74,
   "metadata": {},
   "outputs": [
    {
     "name": "stdout",
     "output_type": "stream",
     "text": [
      "Please enter the number:100\n",
      "The sum first 100 integers is: 5050\n",
      "The mean of first 100 integers is: 50.5\n",
      "The variance first 100 integers is: 833.25\n",
      "The standard deviation of first 100 integers is: 28.86607004772212\n"
     ]
    }
   ],
   "source": [
    "num = int(input('Please enter the number:'))\n",
    "sum1 = 0\n",
    "sum2 = 0\n",
    "for i in range(1,num+1):\n",
    "    sum1 = sum1 + i\n",
    "mean = sum1 / num \n",
    "for i in range(1,num+1):\n",
    "    sum2 = sum2 + (i - mean)**2\n",
    "varr = sum2/num\n",
    "std = varr ** 0.5\n",
    "\n",
    "print(f'The sum first {num} integers is:', sum1)\n",
    "print(f'The mean of first {num} integers is:', mean)\n",
    "print(f'The variance first {num} integers is:', varr)\n",
    "print(f'The standard deviation of first {num} integers is:', std)"
   ]
  },
  {
   "cell_type": "code",
   "execution_count": null,
   "metadata": {},
   "outputs": [],
   "source": [
    "#std  = (sum([((i - mean)**2) for i in range(num+1)])/num) ** 0.5"
   ]
  }
 ],
 "metadata": {
  "kernelspec": {
   "display_name": "Python 3",
   "language": "python",
   "name": "python3"
  },
  "language_info": {
   "codemirror_mode": {
    "name": "ipython",
    "version": 3
   },
   "file_extension": ".py",
   "mimetype": "text/x-python",
   "name": "python",
   "nbconvert_exporter": "python",
   "pygments_lexer": "ipython3",
   "version": "3.8.3"
  }
 },
 "nbformat": 4,
 "nbformat_minor": 2
}
