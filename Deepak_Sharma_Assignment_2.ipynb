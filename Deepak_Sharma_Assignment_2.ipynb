{
 "cells": [
  {
   "cell_type": "markdown",
   "metadata": {},
   "source": [
    "#### 1. Prompt the user for a score between 0.0 and 1.0. If the score is out of range, print an error message. If the score is between 0.0 and 1.0, print a grade using the following table:"
   ]
  },
  {
   "cell_type": "code",
   "execution_count": 1,
   "metadata": {},
   "outputs": [],
   "source": [
    "def score():\n",
    "    while True:\n",
    "        \n",
    "        try:\n",
    "            user = float(input(\"Enter the score between 0.0 and 1.0: \"))\n",
    "\n",
    "            if not (0 < user < 1.0):\n",
    "                print(\"Score out of range\")\n",
    "                continue\n",
    "\n",
    "        except:\n",
    "            print(\"Enter the valid score!!!!\")\n",
    "        else:\n",
    "            if user >= 0.9:\n",
    "                print(\"Grade A\")\n",
    "            elif 0.9> user >= 0.8:\n",
    "                print(\"Grade B\")\n",
    "            elif 0.8 > user >= 0.7:\n",
    "                print(\"Grade C\")\n",
    "            elif 0.7 > user >= 0.6:\n",
    "                print(\"Grade D\")\n",
    "            else:\n",
    "                print(\"Grade E\")\n",
    "            break\n"
   ]
  },
  {
   "cell_type": "code",
   "execution_count": 2,
   "metadata": {},
   "outputs": [
    {
     "name": "stdout",
     "output_type": "stream",
     "text": [
      "Enter the score between 0.0 and 1.0: 3\n",
      "Score out of range\n",
      "Enter the score between 0.0 and 1.0: 0.765\n",
      "Grade C\n"
     ]
    }
   ],
   "source": [
    "score()"
   ]
  },
  {
   "cell_type": "code",
   "execution_count": null,
   "metadata": {},
   "outputs": [],
   "source": []
  },
  {
   "cell_type": "markdown",
   "metadata": {},
   "source": [
    "#### 2. If cost price and selling price of an item is input through the keyboard, write a program to determine whether the seller has made profit or incurred loss. Also determine how much profit he made or loss he incurred.\n"
   ]
  },
  {
   "cell_type": "code",
   "execution_count": 5,
   "metadata": {},
   "outputs": [],
   "source": [
    "def profit_or_loss():\n",
    "    cp = float(input(\"Enter the cost price of the product: Rs. \"))\n",
    "    sp = float(input(\"Enter the selling price of the product: Rs. \"))\n",
    "    if cp > sp:\n",
    "        loss = round(cp-sp,2)\n",
    "        print(f'You made a loss of Rs. {loss} on the product')\n",
    "    else:\n",
    "        profit = round(sp-cp,2)\n",
    "        print(f'You made a profit of Rs {profit} on the product')\n",
    "\n",
    "        "
   ]
  },
  {
   "cell_type": "code",
   "execution_count": 8,
   "metadata": {},
   "outputs": [
    {
     "name": "stdout",
     "output_type": "stream",
     "text": [
      "Enter the cost price of the product: Rs. 111.50\n",
      "Enter the selling price of the product: Rs. 150.90\n",
      "You made a profit of Rs 39.4 on the product\n"
     ]
    }
   ],
   "source": [
    "profit_or_loss()"
   ]
  },
  {
   "cell_type": "code",
   "execution_count": null,
   "metadata": {},
   "outputs": [],
   "source": []
  },
  {
   "cell_type": "markdown",
   "metadata": {},
   "source": [
    "#### 3. Any year is input through the keyboard. Write a program to determine whether the year is a leap year or not.\n"
   ]
  },
  {
   "cell_type": "code",
   "execution_count": 9,
   "metadata": {},
   "outputs": [],
   "source": [
    "def leap_year():\n",
    "    year = int(input(\"Enter the year\"))\n",
    "    if (year % 4 == 0 & year%100!=0) or (year % 400 == 0):\n",
    "        print(f'{year} is a leap year')\n",
    "    else:\n",
    "        print(f'{year} is not a leap year')\n"
   ]
  },
  {
   "cell_type": "code",
   "execution_count": 16,
   "metadata": {},
   "outputs": [
    {
     "name": "stdout",
     "output_type": "stream",
     "text": [
      "Enter the year1800\n",
      "1800 is not a leap year\n"
     ]
    }
   ],
   "source": [
    "leap_year()"
   ]
  },
  {
   "cell_type": "markdown",
   "metadata": {},
   "source": []
  },
  {
   "cell_type": "markdown",
   "metadata": {},
   "source": [
    "#### 4. A five-digit number is entered through the keyboard. Write a program to obtain the reversed number and to determine whether the original and reversed numbers are equal or not.\n"
   ]
  },
  {
   "cell_type": "code",
   "execution_count": 19,
   "metadata": {},
   "outputs": [],
   "source": [
    "def palindrome():\n",
    "    num1 = int(input(\"Enter the number\"))\n",
    "    temp = num1\n",
    "    num2 = 0\n",
    "    rem = 0\n",
    "    while temp != 0:\n",
    "        rem = temp % 10\n",
    "        num2 = (num2 * 10) + rem\n",
    "        temp = temp // 10\n",
    "    print(\"The Reverse of Number is:\", num2)\n",
    "    if num1 == num2:\n",
    "        print(f'{num1} is a palindrome') \n",
    "    else:\n",
    "        print(f'{num1} is not a palindrome')\n"
   ]
  },
  {
   "cell_type": "code",
   "execution_count": 20,
   "metadata": {},
   "outputs": [
    {
     "name": "stdout",
     "output_type": "stream",
     "text": [
      "Enter the number112211\n",
      "The Reverse of Number is: 112211\n",
      "112211 is a palindrome\n"
     ]
    }
   ],
   "source": [
    "palindrome()"
   ]
  },
  {
   "cell_type": "code",
   "execution_count": null,
   "metadata": {},
   "outputs": [],
   "source": []
  },
  {
   "cell_type": "markdown",
   "metadata": {},
   "source": [
    "#### 5. If the ages of Ram, Shyam and Ajay are input through the keyboard, write a program to determine the youngest of the three."
   ]
  },
  {
   "cell_type": "code",
   "execution_count": 21,
   "metadata": {},
   "outputs": [],
   "source": [
    "def youngest():\n",
    "    ram = int(input(\"Enter the age of Ram: \"))\n",
    "    shyam = int(input(\"Enter the age of Shyam: \"))\n",
    "    ajay = int(input(\"Enter the age of Ajay: \"))\n",
    "    if (ram < shyam) & (ram < ajay):\n",
    "        print(\"The youngest is Ram\")\n",
    "    elif (shyam < ram) & (shyam < ajay):\n",
    "        print(\"The youngest is Shyam\")\n",
    "    else:\n",
    "        print(\"The youngest is Ajay\")\n",
    "        "
   ]
  },
  {
   "cell_type": "code",
   "execution_count": 22,
   "metadata": {},
   "outputs": [
    {
     "name": "stdout",
     "output_type": "stream",
     "text": [
      "Enter the age of Ram: 30\n",
      "Enter the age of Shyam: 38\n",
      "Enter the age of Ajay: 42\n",
      "The youngest is Ram\n"
     ]
    }
   ],
   "source": [
    "youngest()"
   ]
  },
  {
   "cell_type": "code",
   "execution_count": null,
   "metadata": {},
   "outputs": [],
   "source": []
  },
  {
   "cell_type": "markdown",
   "metadata": {},
   "source": [
    "#### 6. Write a program to check whether a triangle is valid or not, when the three angles of the triangle are entered through the keyboard. A triangle is valid if the sum of all the three angles is equal to 180 degrees.\n"
   ]
  },
  {
   "cell_type": "code",
   "execution_count": 23,
   "metadata": {},
   "outputs": [],
   "source": [
    "def triangle():\n",
    "    angle1 = float(input(\"Enter the Angle 1: \"))\n",
    "    angle2 = float(input(\"Enter the Angle 2: \"))\n",
    "    angle3 = float(input(\"Enter the Angle 3: \"))\n",
    "    \n",
    "    if (angle1 + angle2 + angle3) == 180:\n",
    "        print(\"The Triangle is valid\")\n",
    "    else:\n",
    "        print(\"The triangle is Invalid\")\n"
   ]
  },
  {
   "cell_type": "code",
   "execution_count": 25,
   "metadata": {},
   "outputs": [
    {
     "name": "stdout",
     "output_type": "stream",
     "text": [
      "Enter the Angle 1: 55\n",
      "Enter the Angle 2: 65\n",
      "Enter the Angle 3: 60\n",
      "The Triangle is valid\n"
     ]
    }
   ],
   "source": [
    "triangle()"
   ]
  },
  {
   "cell_type": "code",
   "execution_count": null,
   "metadata": {},
   "outputs": [],
   "source": []
  },
  {
   "cell_type": "markdown",
   "metadata": {},
   "source": [
    "#### 7. Find the absolute value of a number entered through the keyboard.\n"
   ]
  },
  {
   "cell_type": "code",
   "execution_count": 26,
   "metadata": {},
   "outputs": [],
   "source": [
    "def abs_value():\n",
    "    num1 = float(input(\"Enter the number: \"))\n",
    "    if num1 < 0:\n",
    "        print(\"The absolute value of number is: \", -1 * num1)\n",
    "    else:\n",
    "        print(\"The absolute value of number is: \", num1)"
   ]
  },
  {
   "cell_type": "code",
   "execution_count": 28,
   "metadata": {},
   "outputs": [
    {
     "name": "stdout",
     "output_type": "stream",
     "text": [
      "Enter the number: -9989\n",
      "The absolute value of number is:  9989.0\n"
     ]
    }
   ],
   "source": [
    "abs_value()"
   ]
  },
  {
   "cell_type": "code",
   "execution_count": null,
   "metadata": {},
   "outputs": [],
   "source": []
  },
  {
   "cell_type": "markdown",
   "metadata": {},
   "source": [
    "#### 8. Given three points (x1, y1), (x2, y2) and (x3, y3), write a program to check if all the three points fall on one straight line."
   ]
  },
  {
   "cell_type": "code",
   "execution_count": 38,
   "metadata": {},
   "outputs": [],
   "source": [
    "def st_line():\n",
    "    x1,y1 = input(\"Enter the coordinate for poit-a: (x1 y1) \").split()\n",
    "    x1 = float(x1)\n",
    "    y1 = float(y1)\n",
    "    x2,y2 = input(\"Enter the coordinate for poit-b: (x2 y2) \").split()\n",
    "    x2 = float(x2)\n",
    "    y2 = float(y2)\n",
    "    x3,y3 = input(\"Enter the coordinate for poit-c: (x3 y3)\").split()\n",
    "    x3 = float(x3)\n",
    "    y3 = float(y3)\n",
    "    slope1 = (y2-y1) / (x2-x1)\n",
    "    slope2 = (y3-y1) / (x3-x1)\n",
    "    slope3 = (y3-y2) / (x3-x2)\n",
    "    \n",
    "    if (slope1 == slope2 == slope3):\n",
    "        print(\"All Three  points fall on the same line\")\n",
    "    else:\n",
    "        print(\"All three points does not fall on the same line\")\n",
    "    "
   ]
  },
  {
   "cell_type": "code",
   "execution_count": 39,
   "metadata": {},
   "outputs": [
    {
     "name": "stdout",
     "output_type": "stream",
     "text": [
      "Enter the coordinate for poit-a: (x1 y1) 2.2 3.3\n",
      "Enter the coordinate for poit-b: (x2 y2) 5 7\n",
      "Enter the coordinate for poit-c: (x3 y3)6.1 8.6\n",
      "All three points does not fall on the same line\n"
     ]
    }
   ],
   "source": [
    "st_line()"
   ]
  },
  {
   "cell_type": "code",
   "execution_count": null,
   "metadata": {},
   "outputs": [],
   "source": []
  },
  {
   "cell_type": "markdown",
   "metadata": {},
   "source": [
    "#### 9. Given a point (x, y), write a program to find out if it lies on the x-axis, y-axis or at the origin, viz. (0, 0)."
   ]
  },
  {
   "cell_type": "code",
   "execution_count": 40,
   "metadata": {},
   "outputs": [],
   "source": [
    "def loc_coord():\n",
    "    x,y = input(\"Enter the coordinate for poit-a: \").split()\n",
    "    x = float(x)\n",
    "    y = float(y)\n",
    "    \n",
    "    if (x == y == 0):\n",
    "        print(\"Point lies on the origin \")\n",
    "    elif x == 0:\n",
    "        print(\"Point lies on the y-axis \")\n",
    "    elif y == 0:\n",
    "        print(\"Point lies on the x-axis \")"
   ]
  },
  {
   "cell_type": "code",
   "execution_count": 42,
   "metadata": {},
   "outputs": [
    {
     "name": "stdout",
     "output_type": "stream",
     "text": [
      "Enter the coordinate for poit-a: 1.9 0\n",
      "Point lies on the x-axis \n"
     ]
    }
   ],
   "source": [
    "loc_coord()"
   ]
  },
  {
   "cell_type": "code",
   "execution_count": null,
   "metadata": {},
   "outputs": [],
   "source": []
  },
  {
   "cell_type": "markdown",
   "metadata": {},
   "source": [
    "#### 11. A certain grade of steel is graded according to the following conditions:\n",
    "\n",
    "(i) Hardness must be greater than 50\n",
    "(ii) Carbon content must be less than 0.7\n",
    "(iii) Tensile strength must be greater than 5600\n"
   ]
  },
  {
   "cell_type": "code",
   "execution_count": 45,
   "metadata": {},
   "outputs": [],
   "source": [
    "def steel_grade():\n",
    "    hardness = float(input(\"Enter the value for hardness: \"))\n",
    "    carbon_cont = float(input(\"Enter the value for Carbon Content: (0 & 1) \"))\n",
    "    tensile = float(input(\"Enter the value for Tensile: \"))\n",
    "    \n",
    "    if (hardness > 50) and (carbon_cont < 0.7) and (tensile > 5600):\n",
    "        print(\"The steel is of Grade 10.\")\n",
    "    elif (hardness > 50) & (carbon_cont < 0.7):\n",
    "        print(\"The steel is of Grade 9.\")\n",
    "    elif (carbon_cont < 0.7) and (tensile > 5600):\n",
    "        print(\"The steel is of Grade 8.\")\n",
    "    elif (hardness > 50) and (tensile > 5600):\n",
    "        print(\"The steel is of Grade 7.\")\n",
    "    elif (hardness > 50) or (tensile > 5600) or (tensile > 5600):\n",
    "        print(\"The steel is of Grade 6.\")\n",
    "    else:\n",
    "        print(\"The steel is of Grade 5.\")\n"
   ]
  },
  {
   "cell_type": "code",
   "execution_count": 46,
   "metadata": {},
   "outputs": [
    {
     "name": "stdout",
     "output_type": "stream",
     "text": [
      "Enter the value for hardness: 66\n",
      "Enter the value for Carbon Content: (0 & 1) 0.8\n",
      "Enter the value for Tensile: 6000\n",
      "The steel is of Grade 7.\n"
     ]
    }
   ],
   "source": [
    "steel_grade()"
   ]
  },
  {
   "cell_type": "code",
   "execution_count": null,
   "metadata": {},
   "outputs": [],
   "source": []
  },
  {
   "cell_type": "markdown",
   "metadata": {},
   "source": [
    "#### 12. A library charges a fine for every book returned late. For first 5 days the fine is 50 paise, for 6-10 days fine is one rupee and above 10 days fine is 5 rupees. If you return the book after 30 days your membership will be cancelled. Write a program to accept the number of days the member is late to return the book and display the fine or the appropriate message.\n"
   ]
  },
  {
   "cell_type": "code",
   "execution_count": 75,
   "metadata": {},
   "outputs": [],
   "source": [
    "def lib_late_fees():\n",
    "    tot = 0\n",
    "    no_books = int(input(\"Enter the No. of Books to return: \"))\n",
    "    for i in range(1,no_books+1):\n",
    "        \n",
    "        days = int(input(f\"Enter the number of days the member is late to return the book{i}: \"))\n",
    "\n",
    "        if 0 < days <= 5:\n",
    "            print(f\"The fine charge for Book {i} is 50 paise\")\n",
    "            tot += 0.50\n",
    "        elif 6 <= days <=10:\n",
    "            print(f\"The fine charge for Book {i} is Re. 1\")\n",
    "            tot += 1\n",
    "        elif 10 < days <= 30:\n",
    "            print(f\"The fine charge for Book {i} is Rs. 10\")\n",
    "            tot += 10\n",
    "        else:\n",
    "            print(f\"The fine charge for Book {i} is Rs. 10\")\n",
    "            tot += 10\n",
    "            print(f\"Your membership is cancelled because of late submission on of Book{i}\")\n",
    "    print(\"The Total Fine to be paid is: Rs\", tot)"
   ]
  },
  {
   "cell_type": "code",
   "execution_count": 76,
   "metadata": {},
   "outputs": [
    {
     "name": "stdout",
     "output_type": "stream",
     "text": [
      "Enter the No. of Books to return: 5\n",
      "Enter the number of days the member is late to return the book1: 5\n",
      "The fine charge for Book 1 is 50 paise\n",
      "Enter the number of days the member is late to return the book2: 10\n",
      "The fine charge for Book 2 is Re. 1\n",
      "Enter the number of days the member is late to return the book3: 15\n",
      "The fine charge for Book 3 is Rs. 10\n",
      "Enter the number of days the member is late to return the book4: 25\n",
      "The fine charge for Book 4 is Rs. 10\n",
      "Enter the number of days the member is late to return the book5: 35\n",
      "The fine charge for Book 5 is Rs. 10\n",
      "Your membership is cancelled because of late submission on of Book5\n",
      "The Total Fine to be paid is: Rs 31.5\n"
     ]
    }
   ],
   "source": [
    "lib_late_fees()"
   ]
  },
  {
   "cell_type": "code",
   "execution_count": null,
   "metadata": {},
   "outputs": [],
   "source": []
  },
  {
   "cell_type": "markdown",
   "metadata": {},
   "source": [
    "#### 13. The policy followed by a company to process customer orders is given by the following rules:\n",
    "If a customer order is less than or equal to that in stock and has credit is OK, supply has requirement.\n",
    "If has credit is not OK do not supply. Send him intimation.\n",
    "If has credit is Ok but the item in stock is less than has\n",
    "\n",
    "order, supply what is in stock. Intimate to him data the balance will be shipped. Write a program to implement the company policy.\n",
    "\n"
   ]
  },
  {
   "cell_type": "code",
   "execution_count": 49,
   "metadata": {},
   "outputs": [],
   "source": [
    "def comp_policy():\n",
    "    order = int(input(\"Enter the  Customer's requirement: \"))\n",
    "    stock = int(input(\"Enter the available stock : \"))\n",
    "    credit= (input(\"Whether the customer's credit is OK? (yes/no) :  \"))\n",
    "    \n",
    "    if credit == 'yes':\n",
    "        if order <= stock:\n",
    "            print(\"We will supply whole  order of\", order)\n",
    "        else:\n",
    "            balance = order - stock\n",
    "            print(\"There is shortage of stock\")\n",
    "            print(f'The {stock} will be shipped.\\nWe will intimate you on shipment of remaining {balance}')\n",
    "    else:\n",
    "        print(\"Credit is not OK. Shipment on Hold!!!\")\n",
    "            "
   ]
  },
  {
   "cell_type": "code",
   "execution_count": 50,
   "metadata": {},
   "outputs": [
    {
     "name": "stdout",
     "output_type": "stream",
     "text": [
      "Enter the  Customer's requirement: 70\n",
      "Enter the available stock : 60\n",
      "Whether the customer's credit is OK? (yes/no) :  yes\n",
      "There is shortage of stock\n",
      "The 60 will be shipped.\n",
      "We will intimate you on shipment of remaining 10\n"
     ]
    }
   ],
   "source": [
    "comp_policy()"
   ]
  },
  {
   "cell_type": "code",
   "execution_count": null,
   "metadata": {},
   "outputs": [],
   "source": []
  },
  {
   "cell_type": "markdown",
   "metadata": {},
   "source": [
    "#### 14. In a company, worker efficiency is determined on the basis of the time required for a worker to complete a particular job. If the time taken by the worker is between 2 – 3 hours, then the worker is said to be highly efficient. If the time required by the worker is between 3 – 4 hours, then the worker is ordered to improve speed. If the time taken is between 4 – 5 hours, the worker is given training to improve his speed, and if the time taken by the worker is more than 5 hours, then the worker has to leave the company. If the time taken by the worker is input through the keyboard, find the efficiency of the worker.\n"
   ]
  },
  {
   "cell_type": "code",
   "execution_count": 53,
   "metadata": {},
   "outputs": [],
   "source": [
    "def worker_eff():\n",
    "    while True:\n",
    "        try:\n",
    "            hours = float(input(\"Enter the time taken by the worker to complet the Job: \"))\n",
    "            if hours < 2:\n",
    "                print(\"Invalid Input\")\n",
    "                continue\n",
    "        except:\n",
    "            print(\"Input hours in numbers\")\n",
    "        else:\n",
    "            \n",
    "            if 2 <= hours < 3:\n",
    "                print(\"Highly efficent\")\n",
    "                break\n",
    "            elif 3 <= hours < 4:\n",
    "                print(\"Need to Improve the Spped\")\n",
    "                break\n",
    "            elif 4 <= hours <= 5:\n",
    "                print(\"Enroll for the training programe to Improve the Speed\")\n",
    "                break\n",
    "            else:\n",
    "                print(\"Terminated\")\n",
    "                break\n"
   ]
  },
  {
   "cell_type": "code",
   "execution_count": 57,
   "metadata": {},
   "outputs": [
    {
     "name": "stdout",
     "output_type": "stream",
     "text": [
      "Enter the time taken by the worker to complet the Job: 2.5\n",
      "Highly efficent\n"
     ]
    }
   ],
   "source": [
    "worker_eff()"
   ]
  },
  {
   "cell_type": "code",
   "execution_count": null,
   "metadata": {},
   "outputs": [],
   "source": []
  },
  {
   "cell_type": "markdown",
   "metadata": {},
   "source": [
    "#### 15. A university has the following rules for a student to qualify for a degree with A as the main subject and B as the subsidiary subject:\n",
    "\n",
    "He should get 55 percent or more in A and 45 percent or more in B.\n",
    "If he gets than 55 percent in A he should get 55 percent or more in B. However, he should get at least 45 percent in A.\n",
    "If he gets less than 45 percent in B and 65 percent or more in A he is allowed to reappear in an examination in B to qualify.\n",
    "In all other cases he is declared to have failed.\n",
    "\n",
    "Write a program to receive marks in A and B and Output whether the student has passed, failed or is allowed to reappear in B.\n",
    "\n"
   ]
  },
  {
   "cell_type": "code",
   "execution_count": 58,
   "metadata": {},
   "outputs": [],
   "source": [
    "def deg_qualify():\n",
    "    a = float(input(\"Eneter the marks in Main subject - A: \"))\n",
    "    b = float(input(\"Eneter the marks in Subidiary subject - B: \"))\n",
    "    \n",
    "    if ((a >= 55) and (b >= 45)) or ((45 <= a <= 55) and (b >= 55)):\n",
    "        print(\"Passed\")\n",
    "    elif (a >= 65) and (b <= 45):\n",
    "        print(\"Reappear in Subject B to qualify\")\n",
    "    else:\n",
    "        print(\"Fail\")"
   ]
  },
  {
   "cell_type": "code",
   "execution_count": 59,
   "metadata": {},
   "outputs": [
    {
     "name": "stdout",
     "output_type": "stream",
     "text": [
      "Eneter the marks in Main subject - A: 70\n",
      "Eneter the marks in Subidiary subject - B: 40\n",
      "Reappear in Subject B to qualify\n"
     ]
    }
   ],
   "source": [
    "deg_qualify()"
   ]
  },
  {
   "cell_type": "code",
   "execution_count": null,
   "metadata": {},
   "outputs": [],
   "source": []
  },
  {
   "cell_type": "code",
   "execution_count": null,
   "metadata": {},
   "outputs": [],
   "source": []
  }
 ],
 "metadata": {
  "kernelspec": {
   "display_name": "Python 3",
   "language": "python",
   "name": "python3"
  },
  "language_info": {
   "codemirror_mode": {
    "name": "ipython",
    "version": 3
   },
   "file_extension": ".py",
   "mimetype": "text/x-python",
   "name": "python",
   "nbconvert_exporter": "python",
   "pygments_lexer": "ipython3",
   "version": "3.8.3"
  }
 },
 "nbformat": 4,
 "nbformat_minor": 4
}
