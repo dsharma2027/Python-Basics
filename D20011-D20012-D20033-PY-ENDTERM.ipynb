{
 "cells": [
  {
   "cell_type": "code",
   "execution_count": null,
   "metadata": {},
   "outputs": [],
   "source": [
    "# Importing the libraries required for the assignment\n",
    "\n",
    "import pandas as pd\n",
    "import numpy as np\n",
    "import matplotlib.pyplot as plt\n",
    "import seaborn as sns\n",
    "import os"
   ]
  },
  {
   "cell_type": "code",
   "execution_count": null,
   "metadata": {},
   "outputs": [],
   "source": []
  },
  {
   "cell_type": "markdown",
   "metadata": {},
   "source": [
    "## Ques 1"
   ]
  },
  {
   "cell_type": "code",
   "execution_count": null,
   "metadata": {},
   "outputs": [],
   "source": [
    "def histogram(df):\n",
    "    df1 = df.select_dtypes(exclude=['object'])  \n",
    "    for col in df1.columns:\n",
    "        df1.hist(column = col)             # Visualizing a Histogram\n",
    "        plt.xlabel(col , fontsize = 10)\n",
    "        plt.ylabel(\"Count\" , fontsize = 10)\n",
    "        plt.title(col,fontsize = 15)\n",
    "        #plt.show()\n",
    "        plt.savefig(f\"{col}.png\")   # Saving the histograms in .png files in Working Directory    "
   ]
  },
  {
   "cell_type": "code",
   "execution_count": null,
   "metadata": {
    "scrolled": false
   },
   "outputs": [],
   "source": [
    "# Dataset 1\n",
    "#histogram(df = pd.read_excel(\"cars.csv.xlsx\"))"
   ]
  },
  {
   "cell_type": "code",
   "execution_count": null,
   "metadata": {},
   "outputs": [],
   "source": [
    "# Dataset 2\n",
    "histogram(df = pd.read_excel(\"iris.xlsx\"))"
   ]
  },
  {
   "cell_type": "code",
   "execution_count": null,
   "metadata": {},
   "outputs": [],
   "source": [
    "# Dataset 3\n",
    "#histogram(df = pd.read_csv(\"framingham.csv\"))"
   ]
  },
  {
   "cell_type": "code",
   "execution_count": null,
   "metadata": {
    "scrolled": false
   },
   "outputs": [],
   "source": [
    "# Dataset 4\n",
    "#histogram(df = pd.read_csv(\"attrition.csv\"))"
   ]
  },
  {
   "cell_type": "code",
   "execution_count": null,
   "metadata": {},
   "outputs": [],
   "source": []
  },
  {
   "cell_type": "markdown",
   "metadata": {},
   "source": [
    "## Ques 2"
   ]
  },
  {
   "cell_type": "code",
   "execution_count": null,
   "metadata": {},
   "outputs": [],
   "source": [
    "def graph(df):\n",
    "    try:\n",
    "        \n",
    "        # Subsetting the data on the basis of Numerical And Categorical\n",
    "        \n",
    "        df1 = df.select_dtypes(exclude=['object'])   # Dataset with Numerical attributes \n",
    "        \n",
    "        \n",
    "        for col in df1.columns:\n",
    "            df1.hist(column = col)        # Visualizing Histogram\n",
    "            plt.xlabel(col , fontsize = 10)\n",
    "            plt.title(col,fontsize = 15)\n",
    "            plt.savefig(f\"{col}_hist.png\")      # Saving as a .png File\n",
    "            plt.show()\n",
    "\n",
    "            df1.boxplot(column = col ,figsize = (6,8))       # VIsualizing a Box Plot\n",
    "            plt.xlabel(col , fontsize = 10)\n",
    "            plt.title(col,fontsize = 15)\n",
    "            plt.savefig(f\"{col}_boxplot.png\")        # Saving as a .png File\n",
    "            plt.show()\n",
    "        \n",
    "\n",
    "        df2 = df.select_dtypes(include =['object'])     # Data set with Categorical Attributes\n",
    "        for i in df2.columns:\n",
    "            #sns.barplot(x=df2[i],data= df2)\n",
    "            x = pd.crosstab(df2[i] , columns  = 'count')       # Converting The Varibale in cross tob fro visalizing\n",
    "            x.plot(kind = 'bar' ,rot=0 ,color = 'red', figsize = [16,5])     # Visualizing a Bar Plot\n",
    "            plt.savefig(f\"{i}_barplot.png\")                 # saving a .png File\n",
    "    except:\n",
    "        print(\"enter correct file name \")"
   ]
  },
  {
   "cell_type": "code",
   "execution_count": null,
   "metadata": {},
   "outputs": [],
   "source": [
    "# Dataset 1\n",
    "graph(df = pd.read_excel(\"cars.csv.xlsx\"))"
   ]
  },
  {
   "cell_type": "code",
   "execution_count": null,
   "metadata": {
    "scrolled": false
   },
   "outputs": [],
   "source": [
    "# Dataset 2\n",
    "#graph(df = pd.read_excel(\"iris.xlsx\"))"
   ]
  },
  {
   "cell_type": "code",
   "execution_count": null,
   "metadata": {
    "scrolled": false
   },
   "outputs": [],
   "source": [
    "# Dataset 3\n",
    "#graph(df = pd.read_csv(\"framingham.csv\"))"
   ]
  },
  {
   "cell_type": "code",
   "execution_count": null,
   "metadata": {
    "scrolled": true
   },
   "outputs": [],
   "source": [
    "# Dataset 3\n",
    "#graph(df = pd.read_csv(\"attrition.csv\"))"
   ]
  },
  {
   "cell_type": "code",
   "execution_count": null,
   "metadata": {},
   "outputs": [],
   "source": []
  },
  {
   "cell_type": "markdown",
   "metadata": {},
   "source": [
    "## Ques 3"
   ]
  },
  {
   "cell_type": "code",
   "execution_count": null,
   "metadata": {
    "scrolled": false
   },
   "outputs": [],
   "source": [
    "# Function for Visualisation\n",
    "\n",
    "def graph1(df,var):\n",
    "    \n",
    "    # Subsetting a DataFrame on the basis of the Attributes Selected by the Users\n",
    "    nf = df.iloc[: , var]\n",
    "    \n",
    "    # Subsetting the data on the basis of Numerical And Categorical\n",
    "    \n",
    "    df1 = nf.select_dtypes(exclude=['object'])  # DataFrame with  Numerical Attributes\n",
    "    for col in df1.columns:\n",
    "        df1.hist(column = col)             # Visualizing the Histogram\n",
    "        plt.xlabel(col , fontsize = 10)\n",
    "        plt.title(col,fontsize = 15)\n",
    "        plt.show()\n",
    "\n",
    "        df1.boxplot(column = col ,figsize = (6,8))              # Visualizing a Box Ploy\n",
    "        plt.xlabel(col , fontsize = 10)\n",
    "        plt.title(col,fontsize = 15)\n",
    "        plt.show()\n",
    "\n",
    "\n",
    "    df2 = nf.select_dtypes(include =['object'])     # Dataframe with Categorical Data.\n",
    "    \n",
    "    # Visualizing a Bar Plot.\n",
    "    for i in df2.columns:\n",
    "        #sns.countplot(x=df2[i],data= df2)\n",
    "        x = pd.crosstab(df2[i] , columns  = 'count')\n",
    "        x.plot(kind = 'bar' ,rot=0 ,color = 'red', figsize = [16,5])\n",
    "\n",
    "\n",
    "        \n",
    "# Function to Take Index for Visualization from User.\n",
    "\n",
    "def var_index(df):\n",
    "    \n",
    "    # Displaying all the Attributes for the User with their Index number to choose from.\n",
    "    \n",
    "    print('This are your column names with index number select column by entering index number in box below')\n",
    "    print('\\n')\n",
    "    basket = []  # List with All variable Index\n",
    "    for i in df.columns:\n",
    "        print(i , df.columns.get_loc(i))\n",
    "        basket.append(df.columns.get_loc(i))\n",
    "    \n",
    "    # Asking user to choose the index for visulaization or user can also go for visualization for all the attributes.\n",
    "    \n",
    "    choice = int(input(\"enter 1 if you want selected variables enter 2 for all variable \"))\n",
    "    if choice == 1:\n",
    "        x = \" \"\n",
    "        masket = []\n",
    "        while True:\n",
    "            x = int(input(\"Enter the Index No. for the Variable (Enter the -1 to Close the Loop): \"))\n",
    "            if x in masket:\n",
    "                print(\"Duplicate Entry!!!! ...... Please Enter the Index Value Again \")\n",
    "            masket.append(x)\n",
    "            if x == -1:            # User will enter -1 as a final input\n",
    "                break\n",
    "            if x<-1 or x>basket[-1] :       #To check If user input any no. not there in Index\n",
    "                print(\"OOPSSS!!!! Index out of range....... \")\n",
    "            box = list(set(masket[:]))\n",
    "            new_box = []\n",
    "            for i in box:\n",
    "                if i>=0 and i<=basket[-1]:\n",
    "                    new_box.append(i)\n",
    "            int_list = new_box\n",
    "            int_list.sort()    # Sorting the Index List\n",
    "            \n",
    "        print(\"Below are the Index and variable you have selected for the visualization:\", int_list)\n",
    "        \n",
    "        # calling a Graph fucntion to Visualise graphs for Given Attritutes Indexes selected by the User.\n",
    "        \n",
    "        graph1(df,var = int_list)\n",
    "            \n",
    "    elif choice == 2:\n",
    "        \n",
    "        # Calling a graph function to visualise graphe for all the attritubes.\n",
    "        \n",
    "        graph1(df,var = basket)\n",
    "\n",
    "\n"
   ]
  },
  {
   "cell_type": "code",
   "execution_count": null,
   "metadata": {
    "scrolled": false
   },
   "outputs": [],
   "source": [
    "# Dataset 1\n",
    "#var_index(df = pd.read_excel(\"cars.csv.xlsx\"))"
   ]
  },
  {
   "cell_type": "code",
   "execution_count": null,
   "metadata": {
    "scrolled": false
   },
   "outputs": [],
   "source": [
    "# Dataset 2\n",
    "#var_index(df = pd.read_excel(\"iris.xlsx\"))"
   ]
  },
  {
   "cell_type": "code",
   "execution_count": null,
   "metadata": {
    "scrolled": false
   },
   "outputs": [],
   "source": [
    "# Dataset 3\n",
    "#var_index(df = pd.read_csv(\"framingham.csv\"))"
   ]
  },
  {
   "cell_type": "code",
   "execution_count": null,
   "metadata": {
    "scrolled": true
   },
   "outputs": [],
   "source": [
    "# Dataset 3\n",
    "#var_index(df = pd.read_csv(\"attrition.csv\"))"
   ]
  },
  {
   "cell_type": "code",
   "execution_count": null,
   "metadata": {},
   "outputs": [],
   "source": []
  },
  {
   "cell_type": "code",
   "execution_count": null,
   "metadata": {},
   "outputs": [],
   "source": []
  },
  {
   "cell_type": "markdown",
   "metadata": {},
   "source": [
    "# Ques 4\n",
    "Sometimes, we do not want to mess up our working directories with so many image files. Create an additional argument for the function \"dir\" (directory), such that the function exports all the files to that specified folder (which need not necessarily be your working directory)."
   ]
  },
  {
   "cell_type": "code",
   "execution_count": null,
   "metadata": {},
   "outputs": [],
   "source": [
    "# Importing the libraries required for the assignment\n",
    "\n",
    "import pandas as pd\n",
    "import numpy as np\n",
    "import matplotlib.pyplot as plt\n",
    "import seaborn as sns\n",
    "import os"
   ]
  },
  {
   "cell_type": "code",
   "execution_count": null,
   "metadata": {},
   "outputs": [],
   "source": [
    "# Function for Visualisation\n",
    "def graph4(df,var, pathname):\n",
    "    \n",
    "    \n",
    "    os.chdir(pathname)   # Changing the DIrectory to where User wants to save the Graphs.\n",
    "    \n",
    "    \n",
    "    # Subsetting a DataFrame on the basis of the Attributes Selected by the Users\n",
    "    nf = df.iloc[: , var]\n",
    "    \n",
    "    \n",
    "    # Subsetting the data on the basis of Numerical And Categorical\n",
    "    \n",
    "    df1 = nf.select_dtypes(exclude=['object'])  # DataFrame with  Numerical Attributes\n",
    "   \n",
    "    for col in df1.columns:\n",
    "       \n",
    "        df1.hist(column = col)      # Visualizing the Histogram\n",
    "        plt.xlabel(col , fontsize = 10)\n",
    "        plt.title(col,fontsize = 15)\n",
    "        plt.savefig(f\"{col}_hist.png\")   # Saving the histograms in .png format\n",
    "        plt.show()\n",
    "       \n",
    "        \n",
    "        df1.boxplot(column = col ,figsize = (6,8))          # Visualizing a Box Plot\n",
    "        plt.xlabel(col , fontsize = 10)\n",
    "        plt.title(col,fontsize = 15)\n",
    "        plt.savefig(f\"{col}_box.png\")   # Saving the Box Plot in .png formt\n",
    "        plt.show()\n",
    "\n",
    "\n",
    "    df2 = nf.select_dtypes(include =['object'])     # Dataframe with Categorical Data.\n",
    "    \n",
    "   \n",
    "    for i in df2.columns:            # Visualizing a Bar Plot.\n",
    "        \n",
    "        #sns.countplot(x=df2[i],data= df2)  \n",
    "        x = pd.crosstab(df2[i] , columns  = 'count')\n",
    "        x.plot(kind = 'bar' ,rot=0 ,color = 'red', figsize = [16,5])\n",
    "        plt.savefig(f\"{i}.png\")                # Saving the Bar Plot in .png format\n",
    "        #plt.show()\n",
    "        \n",
    "\n",
    "# Function Taking User input for the Directory Name and Creating a Directory \n",
    "def file_path():\n",
    "    location = os.getcwd()\n",
    "    folder_name = input(\"Enter the Directory Name: \")\n",
    "    path = os.path.join(location,folder_name)\n",
    "    try: \n",
    "        os.makedirs(path, exist_ok = True) \n",
    "        print(\"Directory created successfully\", folder_name) \n",
    "    except OSError as error: \n",
    "        print(\"Directory can not be created\", folder_name)\n",
    "    return(path)\n",
    "\n",
    "\n",
    "\n",
    "        \n",
    "# Function to Take Index for Visualization from User.\n",
    "\n",
    "def var_index4(df):\n",
    "    \n",
    "    path4 = file_path()      # Calling a Function To Create a Directory As per User Input\n",
    "    \n",
    "\n",
    "    # Displaying all the Attributes for the User with their Index number to choose from.\n",
    "    \n",
    "    print('This are your column names with index number select column by entering index number in box below')\n",
    "    print('\\n')\n",
    "    basket = [] \n",
    "    for i in df.columns:\n",
    "        print(i , df.columns.get_loc(i))\n",
    "        basket.append(df.columns.get_loc(i))\n",
    "        \n",
    "    \n",
    "    # Asking user to choose the index for visulaization or user can also go for visualization for all the attributes.\n",
    "    \n",
    "    choice = int(input(\"enter 1 if you want selected variables enter 2 for all variable \"))\n",
    "    if choice == 1:\n",
    "        x = \" \"\n",
    "        masket = []\n",
    "        while True:\n",
    "            x = int(input(\"Enter the Index No. of the Variable: \"))\n",
    "            if x in masket:\n",
    "                print(\"Duplicate Entry!!!!   Please entre the Index Again!!!1 \")\n",
    "            masket.append(x)\n",
    "            if x == -1:\n",
    "                break\n",
    "            if x<-1 or x>basket[-1] :\n",
    "                print(\"OPPSSS!!!! Index out of range..... \")\n",
    "            box = list(set(masket[:]))\n",
    "            new_box = []\n",
    "            for i in box:\n",
    "                if i>=0 and i<=basket[-1]:\n",
    "                    new_box.append(i)\n",
    "            int_list = new_box\n",
    "            int_list.sort()\n",
    "            \n",
    "        print(\"Below are the Index and variable you have selected for the visualization:\", int_list)\n",
    "        \n",
    "        # calling a Graph fucntion to Visualise graphs fro Given Attritutes Indexes selected by the User.\n",
    "        graph4(df,var = int_list, pathname = path4)\n",
    "        \n",
    "            \n",
    "    elif choice == 2:\n",
    "        \n",
    "        # Calling a graph function to visualise graphe for all the attritubes.\n",
    "        graph4(df,var = basket, pathname = path4)\n"
   ]
  },
  {
   "cell_type": "code",
   "execution_count": null,
   "metadata": {
    "scrolled": false
   },
   "outputs": [],
   "source": [
    "# Dataset 1\n",
    "var_index4(df = pd.read_excel(\"cars.csv.xlsx\"))"
   ]
  },
  {
   "cell_type": "code",
   "execution_count": null,
   "metadata": {},
   "outputs": [],
   "source": [
    "# Dataset 2\n",
    "var_index4(df = pd.read_excel(\"iris.xlsx\"))"
   ]
  },
  {
   "cell_type": "code",
   "execution_count": null,
   "metadata": {},
   "outputs": [],
   "source": [
    "# Dataset 3\n",
    "#var_index4(df = pd.read_csv(\"framingham.csv\"))"
   ]
  },
  {
   "cell_type": "code",
   "execution_count": null,
   "metadata": {
    "scrolled": true
   },
   "outputs": [],
   "source": [
    "# Dataset 4\n",
    "var_index4(df = pd.read_csv(\"attrition.csv\"))"
   ]
  },
  {
   "cell_type": "code",
   "execution_count": null,
   "metadata": {},
   "outputs": [],
   "source": []
  },
  {
   "cell_type": "markdown",
   "metadata": {},
   "source": [
    "## Ques 6"
   ]
  },
  {
   "cell_type": "code",
   "execution_count": null,
   "metadata": {},
   "outputs": [],
   "source": [
    "# Function to do Bi-Variate Analysis on the Variable Input By the User\n",
    "def crosstab(df):\n",
    "    \n",
    "    # Subsetting a DataFrame on the Basis of Data type and Displaying The List of Attributes to the User.\n",
    "    \n",
    "    df1 = df.select_dtypes(exclude=['object'])        #DataFrame Containing Numerical Datatype\n",
    "    print('The Numerical variables in the Dataset are:')\n",
    "    for i in df1.columns:\n",
    "        print(i)\n",
    "        \n",
    "    print('\\n')\n",
    "    print(\"this are all categorical columns of data set\")\n",
    "    df2 = df.select_dtypes(include =['object'])        # DataFrame Containing Categorical Data Tyoe\n",
    "    for i in df2.columns:\n",
    "        print(i)\n",
    "        \n",
    "    # Requesting The input from User for the First Set of Variables\n",
    "    \n",
    "    cat1 = []\n",
    "    input1 = \" \"\n",
    "    while input1 != 'done':\n",
    "        input1 = input(\"\\nEnter first argument in the crosstab function. i.e numerical column..Enter exact spelling, If done enter 'done'.. :\")\n",
    "        if input1 in cat1:\n",
    "            print(\"\\nAlready entered \")\n",
    "        if input1 not in df1.columns and input1 !='done':\n",
    "            print(\"\\nIncorrect Variable name entered,Enter correct variable name.\")\n",
    "            continue\n",
    "        elif input1 == 'done':\n",
    "            continue\n",
    "        cat1.append(input1)\n",
    "    print(cat1)\n",
    "    \n",
    "    \n",
    "    # Requesting the Input from User for Second Set of Variables\n",
    "    \n",
    "    cat2 = []\n",
    "    input2 = \" \"\n",
    "    while input2 != 'done':\n",
    "        input2 = input(\"\\nEnter second argument in the crosstab function. i.e categorical column..Enter exact spelling,If done enter 'done'\")\n",
    "        if input2 in cat2:\n",
    "            print(\"\\nAlready entered \")\n",
    "        if input2 not in df2.columns and input2 !='done':\n",
    "            print(\"\\nIncorrect Variable name entered,Enter correct variable name.\")\n",
    "            continue\n",
    "        elif input2 == 'done':\n",
    "            continue\n",
    "        cat2.append(input2)\n",
    "    print(cat2)\n",
    "    \n",
    "    \n",
    "    # Creating A CrossTab between all the varibale Selected By the Users and Plot the graph for the Same.\n",
    "    \n",
    "    for i in cat1:       #Iterating First list of Variables\n",
    "        for j in cat2:   # Iterating Second Set of Variable with Every Variable from List 1\n",
    "            table = pd.crosstab(df[i],columns = df[j])\n",
    "            print(\"\\n\")\n",
    "            print(\"\\n\")\n",
    "            rowtotal = table.sum(axis=1)    # Calculting a Row Sum\n",
    "            crostab = round(table.div(rowtotal,axis=0)*100,2)    # Calculatind A Row Proportion.\n",
    "            print(crostab)\n",
    "            print(\"\\n\")\n",
    "            crostab.plot(kind = 'bar' ,rot=0 , figsize = [16,5])    # Bar Plot of CrossTab\n",
    "            crostab.plot(kind = 'box' ,rot=0 , figsize = [16,5])    # box Plot of Cross Tab\n",
    "            "
   ]
  },
  {
   "cell_type": "code",
   "execution_count": null,
   "metadata": {},
   "outputs": [],
   "source": [
    "#Data Set 1\n",
    "#crosstab(df = pd.read_csv(\"cars.csv.xlsx\"))     "
   ]
  },
  {
   "cell_type": "code",
   "execution_count": null,
   "metadata": {},
   "outputs": [],
   "source": [
    "# Dataset 2\n",
    "#crosstab(df = pd.read_excel(\"iris.xlsx\"))"
   ]
  },
  {
   "cell_type": "code",
   "execution_count": null,
   "metadata": {},
   "outputs": [],
   "source": [
    "# Dataset 3\n",
    "#crosstab(df = pd.read_csv(\"framingham.csv\"))"
   ]
  },
  {
   "cell_type": "code",
   "execution_count": null,
   "metadata": {
    "scrolled": false
   },
   "outputs": [],
   "source": [
    "# Dataset 3\n",
    "crosstab(df = pd.read_csv(\"attrition.csv\"))"
   ]
  },
  {
   "cell_type": "code",
   "execution_count": null,
   "metadata": {},
   "outputs": [],
   "source": []
  }
 ],
 "metadata": {
  "kernelspec": {
   "display_name": "Python 3",
   "language": "python",
   "name": "python3"
  },
  "language_info": {
   "codemirror_mode": {
    "name": "ipython",
    "version": 3
   },
   "file_extension": ".py",
   "mimetype": "text/x-python",
   "name": "python",
   "nbconvert_exporter": "python",
   "pygments_lexer": "ipython3",
   "version": "3.8.3"
  }
 },
 "nbformat": 4,
 "nbformat_minor": 4
}
