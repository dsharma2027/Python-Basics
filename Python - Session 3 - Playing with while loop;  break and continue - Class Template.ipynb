{
 "cells": [
  {
   "cell_type": "markdown",
   "metadata": {},
   "source": [
    "### A. While Loop"
   ]
  },
  {
   "cell_type": "markdown",
   "metadata": {},
   "source": [
    "How will you make a computer do a certain task until a condition is satisfied? For example, keep prompting an user for the password unless it matches."
   ]
  },
  {
   "cell_type": "code",
   "execution_count": 2,
   "metadata": {},
   "outputs": [
    {
     "name": "stdout",
     "output_type": "stream",
     "text": [
      "Please enter the password:password\n",
      "Incorrect Password!!!! Please enter the correct Password\n",
      "Please enter the password:Password\n"
     ]
    }
   ],
   "source": [
    "password = 'Password'\n",
    "while True:\n",
    "    pswd = input('Please enter the password:')\n",
    "    if pswd != password:\n",
    "        print('Incorrect Password!!!! Please enter the correct Password')\n",
    "    else:\n",
    "        break\n",
    "    "
   ]
  },
  {
   "cell_type": "code",
   "execution_count": 4,
   "metadata": {},
   "outputs": [
    {
     "name": "stdout",
     "output_type": "stream",
     "text": [
      "Please enter the correct password:Deepa\n",
      "Incorrect Password!!!!\n",
      "Please enter the correct password:jjjj\n",
      "Incorrect Password!!!!\n",
      "Please enter the correct password:PAssworf\n",
      "Incorrect Password!!!!\n",
      "Please enter the correct password:password\n",
      "Correct Password\n"
     ]
    }
   ],
   "source": [
    "password = 'password'\n",
    "count = 0\n",
    "while count < 5:\n",
    "    pswd = input('Please enter the correct password:')\n",
    "    if pswd != password:\n",
    "        print('Incorrect Password!!!!')\n",
    "        count +=1\n",
    "    else:\n",
    "        print('Correct Password')\n",
    "        break\n",
    "if count == 5:\n",
    "    print('Maximum Try reached!!!!')"
   ]
  },
  {
   "cell_type": "markdown",
   "metadata": {},
   "source": [
    "**A Problem**"
   ]
  },
  {
   "cell_type": "markdown",
   "metadata": {},
   "source": [
    "Suppose that a player wants to play a game which requires him Rs. 1,000 to start. If the current balance in his account is less than Rs. 1,000 he needs to withdraw the extra money from his e-wallet.\n",
    "\n",
    "Note that if the sum of money in his courrent account and the amount withdrawn is greater than or equal to Rs. 1,000 then he can start playing the game. However if the sum is less than Rs. 1,000 then the program should keep displaying the user the message “You still do not have enough money to start playing.” and keep prompting the user to withdraw money unless it crosses Rs. 1,000. Once ready, i.e. if his current account balance crosses Rs. 1,000, it will display a message “Now, you are ready to play the game.” Your program should also display the account balance and the current amount in the e-wallet.\n",
    "\n",
    "(consider: initial account balance is Rs. 200 and money in the e-wallet is Rs. 5,000)\n",
    "\n",
    "(Do further improvement by checking if the e-wallet balance becomes NIL, etc.)"
   ]
  },
  {
   "cell_type": "code",
   "execution_count": 10,
   "metadata": {},
   "outputs": [
    {
     "name": "stdout",
     "output_type": "stream",
     "text": [
      "The total sum of money is:200\n",
      "The available e-wallet balance is: 5000\n",
      "You don have sufficent amount requried to enter the game\n",
      "Please enter the amount you want to withdrawl for wallet: 800\n",
      "Now, you are ready to play the game.\n",
      "The total sum of money is:1000\n",
      "The available e-wallet balance is: 4200\n"
     ]
    }
   ],
   "source": [
    "accnt_balance = 200\n",
    "e_wallet = 5000\n",
    "withdrawl = 0\n",
    "total = accnt_balance + withdrawl\n",
    "print(f'The total sum of money is:{total}')\n",
    "print(f'The available e-wallet balance is: {e_wallet}')\n",
    "print('You don have sufficent amount requried to enter the game')\n",
    "while True:\n",
    "    if e_wallet != 0:\n",
    "        withdrawl = int(input('Please enter the amount you want to withdrawl for wallet: '))\n",
    "        e_wallet = e_wallet - withdrawl\n",
    "        total = total + withdrawl\n",
    "        if total < 1000:\n",
    "            print('\\n')\n",
    "            print('You still do not have enough money to start playing.')\n",
    "            print(f'your account balance is {accnt_balance}')\n",
    "            print(f'The total sum of money is:{total}')\n",
    "            print(f'The available e-wallet balance is: {e_wallet}')\n",
    "            print('Withdraw more money from wallet')\n",
    "        else:\n",
    "            print('Now, you are ready to play the game.')\n",
    "            print(f'The total sum of money is:{total}')\n",
    "            print(f'The available e-wallet balance is: {e_wallet}')\n",
    "            break\n",
    "    else:\n",
    "        print('Insufficent balance in Wallet')\n",
    "        break\n",
    "        \n",
    "        \n",
    "        "
   ]
  },
  {
   "cell_type": "code",
   "execution_count": null,
   "metadata": {},
   "outputs": [],
   "source": []
  },
  {
   "cell_type": "code",
   "execution_count": null,
   "metadata": {},
   "outputs": [],
   "source": []
  },
  {
   "cell_type": "code",
   "execution_count": null,
   "metadata": {},
   "outputs": [],
   "source": []
  },
  {
   "cell_type": "code",
   "execution_count": null,
   "metadata": {},
   "outputs": [],
   "source": []
  },
  {
   "cell_type": "code",
   "execution_count": null,
   "metadata": {},
   "outputs": [],
   "source": []
  },
  {
   "cell_type": "code",
   "execution_count": null,
   "metadata": {},
   "outputs": [],
   "source": []
  },
  {
   "cell_type": "code",
   "execution_count": null,
   "metadata": {},
   "outputs": [],
   "source": []
  },
  {
   "cell_type": "code",
   "execution_count": null,
   "metadata": {},
   "outputs": [],
   "source": []
  },
  {
   "cell_type": "code",
   "execution_count": null,
   "metadata": {},
   "outputs": [],
   "source": []
  },
  {
   "cell_type": "markdown",
   "metadata": {},
   "source": [
    "**Take a break**"
   ]
  },
  {
   "cell_type": "code",
   "execution_count": 74,
   "metadata": {},
   "outputs": [],
   "source": [
    "import webbrowser"
   ]
  },
  {
   "cell_type": "code",
   "execution_count": 75,
   "metadata": {},
   "outputs": [
    {
     "data": {
      "text/plain": [
       "True"
      ]
     },
     "execution_count": 75,
     "metadata": {},
     "output_type": "execute_result"
    }
   ],
   "source": [
    "# open a web browser in browser\n",
    "\n",
    "webbrowser.open('https://www.youtube.com/watch?v=G4N8vJpf7hM')"
   ]
  },
  {
   "cell_type": "code",
   "execution_count": 77,
   "metadata": {},
   "outputs": [],
   "source": [
    "import time"
   ]
  },
  {
   "cell_type": "code",
   "execution_count": 82,
   "metadata": {},
   "outputs": [],
   "source": [
    "count = 0\n",
    "while count <3:\n",
    "    time.sleep(3)\n",
    "    webbrowser.open('https://www.youtube.com/watch?v=G4N8vJpf7hM')\n",
    "    count +=1"
   ]
  },
  {
   "cell_type": "code",
   "execution_count": null,
   "metadata": {},
   "outputs": [],
   "source": []
  },
  {
   "cell_type": "code",
   "execution_count": null,
   "metadata": {},
   "outputs": [],
   "source": []
  },
  {
   "cell_type": "markdown",
   "metadata": {},
   "source": [
    "### B. Break and Continue"
   ]
  },
  {
   "cell_type": "markdown",
   "metadata": {},
   "source": [
    "**Recall the password problem**"
   ]
  },
  {
   "cell_type": "markdown",
   "metadata": {},
   "source": [
    "**Make an improvement**\n",
    "\n",
    "If the user fails to enter the password in 5 chances display a message “You have lost your 5 chances” and stop the program."
   ]
  },
  {
   "cell_type": "code",
   "execution_count": 84,
   "metadata": {},
   "outputs": [
    {
     "name": "stdout",
     "output_type": "stream",
     "text": [
      "Please enter the correct password:g\n",
      "Incorrect Password!!!!\n",
      "Number of chances Left 4\n",
      "Please enter the correct password:g\n",
      "Incorrect Password!!!!\n",
      "Number of chances Left 3\n",
      "Please enter the correct password:g\n",
      "Incorrect Password!!!!\n",
      "Number of chances Left 2\n",
      "Please enter the correct password:g\n",
      "Incorrect Password!!!!\n",
      "Number of chances Left 1\n",
      "Please enter the correct password:g\n",
      "Incorrect Password!!!!\n",
      "Number of chances Left 0\n",
      "You have lost your 5 chances\n"
     ]
    }
   ],
   "source": [
    "password = 'Bruno'\n",
    "count = 0\n",
    "while True:\n",
    "    pswd = input('Please enter the correct password:')\n",
    "    if pswd != password:\n",
    "        print('Incorrect Password!!!!')\n",
    "        count +=1\n",
    "        print('Number of chances Left', 5-count)\n",
    "        if count == 5:\n",
    "            print('You have lost your 5 chances')\n",
    "            break\n",
    "    else:\n",
    "        print('Correct Password')\n",
    "        break\n"
   ]
  },
  {
   "cell_type": "code",
   "execution_count": null,
   "metadata": {},
   "outputs": [],
   "source": []
  },
  {
   "cell_type": "markdown",
   "metadata": {},
   "source": [
    "**Make another additional improvement**"
   ]
  },
  {
   "cell_type": "markdown",
   "metadata": {},
   "source": [
    "If the user enters “forgot password”, display a hint and again prompt for password. (But the user will get only 5 chances to enter the password)"
   ]
  },
  {
   "cell_type": "code",
   "execution_count": 102,
   "metadata": {},
   "outputs": [
    {
     "name": "stdout",
     "output_type": "stream",
     "text": [
      "Please enter the correct password:forgot password\n",
      "Incorrect Password!!!!\n",
      "Your pet's name\n",
      "Please enter the correct password:forgot password\n",
      "Incorrect Password!!!!\n",
      "Your pet's name\n",
      "Please enter the correct password:forgot password\n",
      "Incorrect Password!!!!\n",
      "Your pet's name\n",
      "Please enter the correct password:forgot password\n",
      "Incorrect Password!!!!\n",
      "Your pet's name\n",
      "Please enter the correct password:forgot password\n",
      "Incorrect Password!!!!\n",
      "Your pet's name\n",
      "Please enter the correct password:forgot password\n",
      "Incorrect Password!!!!\n",
      "Your pet's name\n",
      "Please enter the correct password:forgot password\n",
      "Incorrect Password!!!!\n",
      "Your pet's name\n",
      "Please enter the correct password:forgot password\n",
      "Incorrect Password!!!!\n",
      "Your pet's name\n",
      "Please enter the correct password:forgot password\n",
      "Incorrect Password!!!!\n",
      "Your pet's name\n",
      "Please enter the correct password:forgot password\n",
      "Incorrect Password!!!!\n",
      "Your pet's name\n",
      "Please enter the correct password:forgot password\n",
      "Incorrect Password!!!!\n",
      "Your pet's name\n",
      "Please enter the correct password:forgot password\n",
      "Incorrect Password!!!!\n",
      "Your pet's name\n",
      "Please enter the correct password:g\n",
      "Incorrect Password!!!!\n",
      "Please enter the correct password:g\n",
      "Incorrect Password!!!!\n",
      "Please enter the correct password:g\n",
      "Incorrect Password!!!!\n",
      "Please enter the correct password:g\n",
      "Incorrect Password!!!!\n",
      "Please enter the correct password:g\n",
      "Incorrect Password!!!!\n",
      "You have lost your 5 chances\n"
     ]
    }
   ],
   "source": [
    "password1 = 'Bruno'\n",
    "count = 0\n",
    "while True:\n",
    "    pswd = input('Please enter the correct password:')\n",
    "    if pswd != password1:\n",
    "        print('Incorrect Password!!!!')\n",
    "        \n",
    "        if pswd == 'forgot password':\n",
    "            print(\"Your pet's name\")\n",
    "            continue\n",
    "            \n",
    "        count +=1       \n",
    "        if count == 5:\n",
    "            print('You have lost your 5 chances')\n",
    "            break\n",
    "    else:\n",
    "        print('Correct Password')\n",
    "        break\n",
    "\n",
    "       \n",
    "   "
   ]
  },
  {
   "cell_type": "code",
   "execution_count": null,
   "metadata": {},
   "outputs": [],
   "source": []
  },
  {
   "cell_type": "markdown",
   "metadata": {},
   "source": [
    "#### Make further improvement"
   ]
  },
  {
   "cell_type": "code",
   "execution_count": 12,
   "metadata": {},
   "outputs": [],
   "source": [
    "#Codes taken from stack overflow.\n",
    "import sys\n",
    "import time\n",
    "def wait(n):\n",
    "    for remaining in range(n, -1, -1):\n",
    "        sys.stdout.write(\"\\r%d seconds remaining.\" %remaining)\n",
    "        time.sleep(1)"
   ]
  },
  {
   "cell_type": "code",
   "execution_count": 13,
   "metadata": {},
   "outputs": [
    {
     "name": "stdout",
     "output_type": "stream",
     "text": [
      "0 seconds remaining.."
     ]
    }
   ],
   "source": [
    "wait(10)"
   ]
  },
  {
   "cell_type": "markdown",
   "metadata": {},
   "source": [
    "** waiting time of 10 second after 5 chances"
   ]
  },
  {
   "cell_type": "code",
   "execution_count": 103,
   "metadata": {},
   "outputs": [
    {
     "name": "stdout",
     "output_type": "stream",
     "text": [
      "Please enter the correct password:forgot password\n",
      "Incorrect Password!!!!\n",
      "Your pet's name\n",
      "Please enter the correct password:forgot password\n",
      "Incorrect Password!!!!\n",
      "Your pet's name\n",
      "Please enter the correct password:forgot password\n",
      "Incorrect Password!!!!\n",
      "Your pet's name\n",
      "Please enter the correct password:forgot password\n",
      "Incorrect Password!!!!\n",
      "Your pet's name\n",
      "Please enter the correct password:forgot password\n",
      "Incorrect Password!!!!\n",
      "Your pet's name\n",
      "Please enter the correct password:g\n",
      "Incorrect Password!!!!\n",
      "Please enter the correct password:g\n",
      "Incorrect Password!!!!\n",
      "Please enter the correct password:g\n",
      "Incorrect Password!!!!\n",
      "Please enter the correct password:g\n",
      "Incorrect Password!!!!\n",
      "Please enter the correct password:g\n",
      "Incorrect Password!!!!\n",
      "You have lost your 5 chances\n",
      "Wait for 10 seconds to Try again\n",
      "0 seconds remaining..Please enter the correct password:Bruno\n",
      "Correct Password\n"
     ]
    }
   ],
   "source": [
    "password1 = 'Bruno'\n",
    "count = 0\n",
    "while True:\n",
    "    pswd = input('Please enter the correct password:')\n",
    "    if pswd != password1:\n",
    "        print('Incorrect Password!!!!')\n",
    "        \n",
    "        if pswd == 'forgot password':\n",
    "            print(\"Your pet's name\")\n",
    "            continue\n",
    "            \n",
    "        count +=1     \n",
    "        if count == 5:\n",
    "            print('You have lost your 5 chances')\n",
    "            print('Wait for 10 seconds to Try again')\n",
    "            wait(10)\n",
    "            count = 0\n",
    "    else:\n",
    "        print('Correct Password')\n",
    "        break\n"
   ]
  },
  {
   "cell_type": "code",
   "execution_count": null,
   "metadata": {},
   "outputs": [],
   "source": []
  },
  {
   "cell_type": "markdown",
   "metadata": {},
   "source": [
    "### D. Python functions"
   ]
  },
  {
   "cell_type": "markdown",
   "metadata": {},
   "source": [
    "**1. Some basic functions: min, max, len, sum**"
   ]
  },
  {
   "cell_type": "code",
   "execution_count": null,
   "metadata": {},
   "outputs": [],
   "source": [
    "x = [1,3,4,2,6]"
   ]
  },
  {
   "cell_type": "code",
   "execution_count": null,
   "metadata": {},
   "outputs": [],
   "source": [
    "min(x)"
   ]
  },
  {
   "cell_type": "code",
   "execution_count": null,
   "metadata": {},
   "outputs": [],
   "source": [
    "max(x)"
   ]
  },
  {
   "cell_type": "code",
   "execution_count": null,
   "metadata": {},
   "outputs": [],
   "source": [
    "len(x)"
   ]
  },
  {
   "cell_type": "markdown",
   "metadata": {},
   "source": [
    "**2. Type conversion functions: int, float, str**"
   ]
  },
  {
   "cell_type": "code",
   "execution_count": null,
   "metadata": {},
   "outputs": [],
   "source": [
    "str(1)"
   ]
  },
  {
   "cell_type": "markdown",
   "metadata": {},
   "source": [
    "**3. Some math functions: sum, sin, log10**"
   ]
  },
  {
   "cell_type": "code",
   "execution_count": null,
   "metadata": {},
   "outputs": [],
   "source": [
    "import math"
   ]
  },
  {
   "cell_type": "code",
   "execution_count": null,
   "metadata": {},
   "outputs": [],
   "source": [
    "math.log10(30)"
   ]
  },
  {
   "cell_type": "code",
   "execution_count": null,
   "metadata": {},
   "outputs": [],
   "source": [
    "math.tan(0.7853)"
   ]
  },
  {
   "cell_type": "markdown",
   "metadata": {},
   "source": [
    "**4. Functions to generate random numbers:**"
   ]
  },
  {
   "cell_type": "code",
   "execution_count": 2,
   "metadata": {},
   "outputs": [],
   "source": [
    "import random"
   ]
  },
  {
   "cell_type": "code",
   "execution_count": null,
   "metadata": {},
   "outputs": [],
   "source": [
    "#random.random\n",
    "random.random()"
   ]
  },
  {
   "cell_type": "code",
   "execution_count": null,
   "metadata": {},
   "outputs": [],
   "source": [
    "#random.randint\n",
    "random.randint(1,10)"
   ]
  },
  {
   "cell_type": "code",
   "execution_count": null,
   "metadata": {},
   "outputs": [],
   "source": [
    "#random.choice\n",
    "x = [1,3,4,2,6]\n",
    "random.choice(x)"
   ]
  },
  {
   "cell_type": "markdown",
   "metadata": {},
   "source": [
    "### E. Guess the number Game"
   ]
  },
  {
   "cell_type": "markdown",
   "metadata": {},
   "source": [
    "Guess a number is a game that prompts a player to guess a number between 0 and 9, which is randomly generated by the system. When the input given by the user matches the number generated by the system then the user wins. The game should go as follows:\n",
    "\t\n",
    "\tGuess the number: 5\n",
    "\tSorry, try again\n",
    "\tGuess the number: 3\n",
    "\tSorry, try again\n",
    "\tGuess the number: 8\n",
    "\tYou got it right! Congo!\n",
    "    \n",
    "    Guess the number: 5\n",
    "\tSorry, try again\n",
    "\tGuess the number: 3\n",
    "\tSorry, try again\n",
    "\tGuess the number: exit\n",
    "\tEnjoy your day!"
   ]
  },
  {
   "cell_type": "code",
   "execution_count": 11,
   "metadata": {},
   "outputs": [
    {
     "name": "stdout",
     "output_type": "stream",
     "text": [
      "The GAME BEGINS!!!!\n",
      "Guess the number3\n",
      "Sorry!!! Try Again\n",
      "Guess the number2\n",
      "Sorry!!! Try Again\n",
      "Guess the number7\n",
      "Sorry!!! Try Again\n",
      "OOPS!!! You Lost!!!!\n"
     ]
    }
   ],
   "source": [
    "num = random.randint(1,10)\n",
    "count = 0\n",
    "print('The GAME BEGINS!!!!')\n",
    "\n",
    "while True:\n",
    "    guess = int(input('Guess the number'))\n",
    "    count += 1\n",
    "    if  guess != num:\n",
    "        print('Sorry!!! Try Again')\n",
    "        \n",
    "        if count == 3:\n",
    "            print('OOPS!!! You Lost!!!!')\n",
    "            break\n",
    "    else:\n",
    "        print('You got it right! Congo!')\n",
    "        print(f'You won in {count} chance')\n",
    "        break\n",
    "\n",
    "    \n",
    "  \n",
    "        "
   ]
  },
  {
   "cell_type": "code",
   "execution_count": null,
   "metadata": {},
   "outputs": [],
   "source": []
  },
  {
   "cell_type": "code",
   "execution_count": null,
   "metadata": {},
   "outputs": [],
   "source": []
  }
 ],
 "metadata": {
  "kernelspec": {
   "display_name": "Python 3",
   "language": "python",
   "name": "python3"
  },
  "language_info": {
   "codemirror_mode": {
    "name": "ipython",
    "version": 3
   },
   "file_extension": ".py",
   "mimetype": "text/x-python",
   "name": "python",
   "nbconvert_exporter": "python",
   "pygments_lexer": "ipython3",
   "version": "3.8.3"
  }
 },
 "nbformat": 4,
 "nbformat_minor": 2
}
