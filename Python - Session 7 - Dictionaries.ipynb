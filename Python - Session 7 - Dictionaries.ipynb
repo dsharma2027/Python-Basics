{
 "cells": [
  {
   "cell_type": "markdown",
   "metadata": {},
   "source": [
    "## Dictionaries"
   ]
  },
  {
   "cell_type": "markdown",
   "metadata": {
    "collapsed": true
   },
   "source": [
    "A dictionary is like a list, but more general. In a list, the positions (a.k.a. indices) have to be integers; in a dictionary the indices can be (almost) any type.\n",
    "\n",
    "You can think of a dictionary as a mapping between a set of indices (which are called keys) and a set of values. Each key maps to a value. The association of a key and a value is called a key-value pair or sometimes an item"
   ]
  },
  {
   "cell_type": "markdown",
   "metadata": {},
   "source": [
    "### An Example of Dictionary"
   ]
  },
  {
   "cell_type": "markdown",
   "metadata": {},
   "source": [
    "Let us build a dictionary that maps English to Spanish words. In this dictionary the keys will be some english words and their corresponding values will be the corresponding spanish words"
   ]
  },
  {
   "cell_type": "code",
   "execution_count": null,
   "metadata": {},
   "outputs": [],
   "source": [
    "eng2sp = {'one': 'uno', 'two': 'dos', 'three': 'tres'}"
   ]
  },
  {
   "cell_type": "code",
   "execution_count": null,
   "metadata": {},
   "outputs": [],
   "source": [
    "eng2sp"
   ]
  },
  {
   "cell_type": "code",
   "execution_count": null,
   "metadata": {},
   "outputs": [],
   "source": [
    "type(eng2sp)"
   ]
  },
  {
   "cell_type": "code",
   "execution_count": null,
   "metadata": {},
   "outputs": [],
   "source": [
    "dic = {1.01:'one', 'two':2, 'list':[1,2,3]}"
   ]
  },
  {
   "cell_type": "code",
   "execution_count": null,
   "metadata": {},
   "outputs": [],
   "source": [
    "dic"
   ]
  },
  {
   "cell_type": "markdown",
   "metadata": {},
   "source": [
    "**Note:** \n",
    "\n",
    "* A dictionary is created using a curly bracket\n",
    "\n",
    "* The values in a dictionary are indexed by keys. The keys are needed to be specified while creating a dictionary. \n",
    "\n",
    "* As an example, 'one':'uno' represents a key-value pair."
   ]
  },
  {
   "cell_type": "markdown",
   "metadata": {},
   "source": [
    "*What if we enclose some values (separated by commas) in a curly bracket? What type of object do we get?*\n",
    "\n",
    "* *A dictionary with only keys.*\n",
    "* *A dictionary with elements indexed by integer*\n",
    "* *This object is not a dictionary*"
   ]
  },
  {
   "cell_type": "code",
   "execution_count": null,
   "metadata": {},
   "outputs": [],
   "source": [
    "p = {1,2,3,4}"
   ]
  },
  {
   "cell_type": "code",
   "execution_count": null,
   "metadata": {},
   "outputs": [],
   "source": [
    "type(p)"
   ]
  },
  {
   "cell_type": "code",
   "execution_count": null,
   "metadata": {},
   "outputs": [],
   "source": []
  },
  {
   "cell_type": "code",
   "execution_count": null,
   "metadata": {},
   "outputs": [],
   "source": []
  },
  {
   "cell_type": "markdown",
   "metadata": {},
   "source": [
    "### Retrieving elements from a dictionary"
   ]
  },
  {
   "cell_type": "code",
   "execution_count": null,
   "metadata": {},
   "outputs": [],
   "source": [
    "eng2sp['one']"
   ]
  },
  {
   "cell_type": "code",
   "execution_count": null,
   "metadata": {},
   "outputs": [],
   "source": [
    "dic.items()"
   ]
  },
  {
   "cell_type": "code",
   "execution_count": null,
   "metadata": {},
   "outputs": [],
   "source": [
    "dic.values()"
   ]
  },
  {
   "cell_type": "code",
   "execution_count": null,
   "metadata": {},
   "outputs": [],
   "source": [
    "dic['list']"
   ]
  },
  {
   "cell_type": "code",
   "execution_count": null,
   "metadata": {},
   "outputs": [],
   "source": []
  },
  {
   "cell_type": "markdown",
   "metadata": {},
   "source": [
    "### Slicing a dictionary"
   ]
  },
  {
   "cell_type": "code",
   "execution_count": null,
   "metadata": {},
   "outputs": [],
   "source": [
    "for i in ['one','two']:\n",
    "    print(eng2sp[i])"
   ]
  },
  {
   "cell_type": "code",
   "execution_count": null,
   "metadata": {},
   "outputs": [],
   "source": [
    "dict_1 = {}\n",
    "type(dict_1)"
   ]
  },
  {
   "cell_type": "code",
   "execution_count": null,
   "metadata": {},
   "outputs": [],
   "source": [
    "for i in ['one','three']:\n",
    "    dict_1[i] = eng2sp[i]\n",
    "    #print(dict_1)\n",
    "print(dict_1)"
   ]
  },
  {
   "cell_type": "code",
   "execution_count": null,
   "metadata": {},
   "outputs": [],
   "source": [
    "eng2sp"
   ]
  },
  {
   "cell_type": "code",
   "execution_count": null,
   "metadata": {},
   "outputs": [],
   "source": [
    "list_1 = []\n",
    "for i,(keys,value) in enumerate(eng2sp.items()):\n",
    "    list_1.append(value)\n",
    "    print(f'The values in Dict at key {keys}: {value}')\n",
    "print(\"The element in List_1 is\", list_1)"
   ]
  },
  {
   "cell_type": "code",
   "execution_count": null,
   "metadata": {},
   "outputs": [],
   "source": [
    "list_2 = list(eng2sp.values())\n",
    "list_2"
   ]
  },
  {
   "cell_type": "markdown",
   "metadata": {},
   "source": [
    "### Adding Key-Value in a dictionary"
   ]
  },
  {
   "cell_type": "code",
   "execution_count": null,
   "metadata": {},
   "outputs": [],
   "source": [
    "eng2sp"
   ]
  },
  {
   "cell_type": "code",
   "execution_count": null,
   "metadata": {},
   "outputs": [],
   "source": [
    "eng2sp[\"Foru\"] = \"Quanto\"\n",
    "eng2sp"
   ]
  },
  {
   "cell_type": "markdown",
   "metadata": {},
   "source": [
    "### in Operator for Dictionary"
   ]
  },
  {
   "cell_type": "markdown",
   "metadata": {},
   "source": [
    "The in operator works on dictionaries; it tells you whether something appears as a key in the dictionary"
   ]
  },
  {
   "cell_type": "code",
   "execution_count": null,
   "metadata": {},
   "outputs": [],
   "source": [
    "'one' in eng2sp"
   ]
  },
  {
   "cell_type": "code",
   "execution_count": null,
   "metadata": {},
   "outputs": [],
   "source": [
    "'uno' in eng2sp"
   ]
  },
  {
   "cell_type": "markdown",
   "metadata": {},
   "source": [
    "### Counting the Frequency Distribution of Letters in a Word"
   ]
  },
  {
   "cell_type": "code",
   "execution_count": null,
   "metadata": {},
   "outputs": [],
   "source": [
    "#Frequency distriution of the letters in 'banana'\n",
    "\n",
    "s = \"banana\"\n",
    "\n",
    "count = {}\n",
    "for letter in s:\n",
    "    if letter not in count:\n",
    "        count[letter] = 1\n",
    "    else:\n",
    "        count[letter] += 1\n",
    "    \n",
    "for i,(keys,value) in enumerate(count.items()):\n",
    "    print(f'Frequency Distrinution of letter {keys} in {s} is: {value}')"
   ]
  },
  {
   "cell_type": "markdown",
   "metadata": {},
   "source": [
    "**The 'get' method for dictionary**"
   ]
  },
  {
   "cell_type": "markdown",
   "metadata": {},
   "source": [
    " Dictionaries have a method called get that takes a key and a default value. If the key appears in the dictionary, get returns the corresponding value; otherwise it returns the default value. "
   ]
  },
  {
   "cell_type": "code",
   "execution_count": null,
   "metadata": {},
   "outputs": [],
   "source": [
    "eng2sp"
   ]
  },
  {
   "cell_type": "code",
   "execution_count": null,
   "metadata": {},
   "outputs": [],
   "source": [
    "eng2sp.get('Foru')"
   ]
  },
  {
   "cell_type": "code",
   "execution_count": null,
   "metadata": {},
   "outputs": [],
   "source": [
    "print(eng2sp.get('Four'))"
   ]
  },
  {
   "cell_type": "markdown",
   "metadata": {},
   "source": [
    "**Making the counting simple using the 'get' method**"
   ]
  },
  {
   "cell_type": "code",
   "execution_count": 5,
   "metadata": {},
   "outputs": [
    {
     "name": "stdout",
     "output_type": "stream",
     "text": [
      "Frequency Distrinution of letter I in I have a string is: 1\n",
      "Frequency Distrinution of letter have in I have a string is: 1\n",
      "Frequency Distrinution of letter a in I have a string is: 1\n",
      "Frequency Distrinution of letter string in I have a string is: 1\n"
     ]
    }
   ],
   "source": [
    "count = {}\n",
    "for letter in s.split():\n",
    "    count[letter] = count.get(letter,0) +1\n",
    "    \n",
    "for i,(keys,value) in enumerate(count.items()):\n",
    "    print(f'Frequency Distrinution of letter {keys} in {s} is: {value}')"
   ]
  },
  {
   "cell_type": "code",
   "execution_count": 4,
   "metadata": {},
   "outputs": [],
   "source": [
    "s = 'I have a string'"
   ]
  },
  {
   "cell_type": "markdown",
   "metadata": {},
   "source": [
    "### A Common Use of Dictionaries"
   ]
  },
  {
   "cell_type": "markdown",
   "metadata": {
    "collapsed": true
   },
   "source": [
    "One of the common uses of a dictionary is to count the occurrence of words in a ﬁle with some written text."
   ]
  },
  {
   "cell_type": "code",
   "execution_count": 12,
   "metadata": {},
   "outputs": [
    {
     "data": {
      "text/plain": [
       "'The Cock and the Pearl\\n\\nA cock was once strutting up and down the farmyard among the\\nhens when suddenly he espied something shinning amid the straw\\nHo ho quoth he thats for me and soon rooted it out from\\nbeneath the straw  What did it turn out to be but a Pearl that by\\nsome chance had been lost in the yard  You may be a treasure\\nquoth Master Cock to men that prize you, but for me I would\\nrather have a single barley-corn than a peck of pearls\\n\\nPrecious things are for those that can prize them'"
      ]
     },
     "execution_count": 12,
     "metadata": {},
     "output_type": "execute_result"
    }
   ],
   "source": [
    "#Exercise: Read the Ashop1.txt file\n",
    "ashop1 = open('Ashop1.txt')\n",
    "ashop1.read()"
   ]
  },
  {
   "cell_type": "code",
   "execution_count": null,
   "metadata": {},
   "outputs": [],
   "source": []
  },
  {
   "cell_type": "code",
   "execution_count": null,
   "metadata": {},
   "outputs": [],
   "source": []
  },
  {
   "cell_type": "markdown",
   "metadata": {},
   "source": [
    "**Exercise:** Find the frequency distribution of the of the words present in this file. \n",
    "\n",
    "*(A hint is given at the bottom. Look at it only if you are no more able to figure out how to do it)*"
   ]
  },
  {
   "cell_type": "code",
   "execution_count": 22,
   "metadata": {
    "scrolled": true
   },
   "outputs": [
    {
     "name": "stdout",
     "output_type": "stream",
     "text": [
      "Frequency Distrinution of 'the' is: 7\n",
      "Frequency Distrinution of 'cock' is: 3\n",
      "Frequency Distrinution of 'and' is: 3\n",
      "Frequency Distrinution of 'pearl' is: 2\n",
      "Frequency Distrinution of 'a' is: 5\n",
      "Frequency Distrinution of 'was' is: 1\n",
      "Frequency Distrinution of 'once' is: 1\n",
      "Frequency Distrinution of 'strutting' is: 1\n",
      "Frequency Distrinution of 'up' is: 1\n",
      "Frequency Distrinution of 'down' is: 1\n",
      "Frequency Distrinution of 'farmyard' is: 1\n",
      "Frequency Distrinution of 'among' is: 1\n",
      "Frequency Distrinution of 'hens' is: 1\n",
      "Frequency Distrinution of 'when' is: 1\n",
      "Frequency Distrinution of 'suddenly' is: 1\n",
      "Frequency Distrinution of 'he' is: 2\n",
      "Frequency Distrinution of 'espied' is: 1\n",
      "Frequency Distrinution of 'something' is: 1\n",
      "Frequency Distrinution of 'shinning' is: 1\n",
      "Frequency Distrinution of 'amid' is: 1\n",
      "Frequency Distrinution of 'straw' is: 2\n",
      "Frequency Distrinution of 'ho' is: 2\n",
      "Frequency Distrinution of 'quoth' is: 2\n",
      "Frequency Distrinution of 'thats' is: 1\n",
      "Frequency Distrinution of 'for' is: 3\n",
      "Frequency Distrinution of 'me' is: 2\n",
      "Frequency Distrinution of 'soon' is: 1\n",
      "Frequency Distrinution of 'rooted' is: 1\n",
      "Frequency Distrinution of 'it' is: 2\n",
      "Frequency Distrinution of 'out' is: 2\n",
      "Frequency Distrinution of 'from' is: 1\n",
      "Frequency Distrinution of 'beneath' is: 1\n",
      "Frequency Distrinution of 'what' is: 1\n",
      "Frequency Distrinution of 'did' is: 1\n",
      "Frequency Distrinution of 'turn' is: 1\n",
      "Frequency Distrinution of 'to' is: 2\n",
      "Frequency Distrinution of 'be' is: 2\n",
      "Frequency Distrinution of 'but' is: 2\n",
      "Frequency Distrinution of 'that' is: 3\n",
      "Frequency Distrinution of 'by' is: 1\n",
      "Frequency Distrinution of 'some' is: 1\n",
      "Frequency Distrinution of 'chance' is: 1\n",
      "Frequency Distrinution of 'had' is: 1\n",
      "Frequency Distrinution of 'been' is: 1\n",
      "Frequency Distrinution of 'lost' is: 1\n",
      "Frequency Distrinution of 'in' is: 1\n",
      "Frequency Distrinution of 'yard' is: 1\n",
      "Frequency Distrinution of 'you' is: 1\n",
      "Frequency Distrinution of 'may' is: 1\n",
      "Frequency Distrinution of 'treasure' is: 1\n",
      "Frequency Distrinution of 'master' is: 1\n",
      "Frequency Distrinution of 'men' is: 1\n",
      "Frequency Distrinution of 'prize' is: 2\n",
      "Frequency Distrinution of 'you,' is: 1\n",
      "Frequency Distrinution of 'i' is: 1\n",
      "Frequency Distrinution of 'would' is: 1\n",
      "Frequency Distrinution of 'rather' is: 1\n",
      "Frequency Distrinution of 'have' is: 1\n",
      "Frequency Distrinution of 'single' is: 1\n",
      "Frequency Distrinution of 'barley-corn' is: 1\n",
      "Frequency Distrinution of 'than' is: 1\n",
      "Frequency Distrinution of 'peck' is: 1\n",
      "Frequency Distrinution of 'of' is: 1\n",
      "Frequency Distrinution of 'pearls' is: 1\n",
      "Frequency Distrinution of 'precious' is: 1\n",
      "Frequency Distrinution of 'things' is: 1\n",
      "Frequency Distrinution of 'are' is: 1\n",
      "Frequency Distrinution of 'those' is: 1\n",
      "Frequency Distrinution of 'can' is: 1\n",
      "Frequency Distrinution of 'them' is: 1\n"
     ]
    }
   ],
   "source": [
    "#Printing properly\n",
    "ashop1 = open('Ashop1.txt')\n",
    "count = {}\n",
    "for line in ashop1:\n",
    "\n",
    "    for letter in line.split():\n",
    "        count[letter.lower()] = count.get(letter.lower(),0) +1\n",
    "    \n",
    "for i,(keys,value) in enumerate(count.items()):\n",
    "    print(f\"Frequency Distrinution of '{keys}' is: {value}\")\n"
   ]
  },
  {
   "cell_type": "markdown",
   "metadata": {},
   "source": [
    "Note: The printing is not in any particular order"
   ]
  },
  {
   "cell_type": "code",
   "execution_count": 23,
   "metadata": {},
   "outputs": [
    {
     "name": "stdout",
     "output_type": "stream",
     "text": [
      "Frequency Distrinution of 'the' is: 7\n",
      "Frequency Distrinution of 'cock' is: 3\n",
      "Frequency Distrinution of 'and' is: 3\n",
      "Frequency Distrinution of 'pearl' is: 2\n",
      "Frequency Distrinution of 'a' is: 5\n",
      "Frequency Distrinution of 'he' is: 2\n",
      "Frequency Distrinution of 'straw' is: 2\n",
      "Frequency Distrinution of 'ho' is: 2\n",
      "Frequency Distrinution of 'quoth' is: 2\n",
      "Frequency Distrinution of 'for' is: 3\n",
      "Frequency Distrinution of 'me' is: 2\n",
      "Frequency Distrinution of 'it' is: 2\n",
      "Frequency Distrinution of 'out' is: 2\n",
      "Frequency Distrinution of 'to' is: 2\n",
      "Frequency Distrinution of 'be' is: 2\n",
      "Frequency Distrinution of 'but' is: 2\n",
      "Frequency Distrinution of 'that' is: 3\n",
      "Frequency Distrinution of 'prize' is: 2\n"
     ]
    }
   ],
   "source": [
    "#Printing words with count greater than or equal to 2\n",
    "\n",
    "ashop1 = open('Ashop1.txt')\n",
    "count = {}\n",
    "for line in ashop1:\n",
    "\n",
    "    for letter in line.split():\n",
    "        count[letter.lower()] = count.get(letter.lower(),0) +1\n",
    "    \n",
    "for i,(keys,value) in enumerate(count.items()):\n",
    "    \n",
    "    if value >= 2:\n",
    "        print(f\"Frequency Distrinution of '{keys}' is: {value}\")\n"
   ]
  },
  {
   "cell_type": "code",
   "execution_count": 27,
   "metadata": {},
   "outputs": [
    {
     "name": "stdout",
     "output_type": "stream",
     "text": [
      "('a', 5)\n",
      "('amid', 1)\n",
      "('among', 1)\n",
      "('and', 3)\n",
      "('are', 1)\n",
      "('barley-corn', 1)\n",
      "('be', 2)\n",
      "('been', 1)\n",
      "('beneath', 1)\n",
      "('but', 2)\n",
      "('by', 1)\n",
      "('can', 1)\n",
      "('chance', 1)\n",
      "('cock', 3)\n",
      "('did', 1)\n",
      "('down', 1)\n",
      "('espied', 1)\n",
      "('farmyard', 1)\n",
      "('for', 3)\n",
      "('from', 1)\n",
      "('had', 1)\n",
      "('have', 1)\n",
      "('he', 2)\n",
      "('hens', 1)\n",
      "('ho', 2)\n",
      "('i', 1)\n",
      "('in', 1)\n",
      "('it', 2)\n",
      "('lost', 1)\n",
      "('master', 1)\n",
      "('may', 1)\n",
      "('me', 2)\n",
      "('men', 1)\n",
      "('of', 1)\n",
      "('once', 1)\n",
      "('out', 2)\n",
      "('pearl', 2)\n",
      "('pearls', 1)\n",
      "('peck', 1)\n",
      "('precious', 1)\n",
      "('prize', 2)\n",
      "('quoth', 2)\n",
      "('rather', 1)\n",
      "('rooted', 1)\n",
      "('shinning', 1)\n",
      "('single', 1)\n",
      "('some', 1)\n",
      "('something', 1)\n",
      "('soon', 1)\n",
      "('straw', 2)\n",
      "('strutting', 1)\n",
      "('suddenly', 1)\n",
      "('than', 1)\n",
      "('that', 3)\n",
      "('thats', 1)\n",
      "('the', 7)\n",
      "('them', 1)\n",
      "('things', 1)\n",
      "('those', 1)\n",
      "('to', 2)\n",
      "('treasure', 1)\n",
      "('turn', 1)\n",
      "('up', 1)\n",
      "('was', 1)\n",
      "('what', 1)\n",
      "('when', 1)\n",
      "('would', 1)\n",
      "('yard', 1)\n",
      "('you', 1)\n",
      "('you,', 1)\n"
     ]
    }
   ],
   "source": [
    "#Printing keys in alphabetical order:\n",
    "\n",
    "#But before that....\n",
    "#Method keys - makes a dict of keys\n",
    "\n",
    "ashop1 = open('Ashop1.txt')\n",
    "count = {}\n",
    "for line in ashop1:\n",
    "\n",
    "    for letter in line.split():\n",
    "        count[letter.lower()] = count.get(letter.lower(),0) +1\n",
    "    \n",
    "for i in sorted (count) : \n",
    "    print ((i, count[i]))\n",
    "\n"
   ]
  },
  {
   "cell_type": "code",
   "execution_count": null,
   "metadata": {},
   "outputs": [],
   "source": []
  },
  {
   "cell_type": "code",
   "execution_count": null,
   "metadata": {},
   "outputs": [],
   "source": []
  },
  {
   "cell_type": "code",
   "execution_count": null,
   "metadata": {},
   "outputs": [],
   "source": []
  },
  {
   "cell_type": "code",
   "execution_count": null,
   "metadata": {},
   "outputs": [],
   "source": []
  },
  {
   "cell_type": "markdown",
   "metadata": {},
   "source": [
    "### Advanced Text Parsing"
   ]
  },
  {
   "cell_type": "markdown",
   "metadata": {
    "collapsed": true
   },
   "source": [
    "The actual text for this particular Ashop's fable is given in the file Ashop.txt. The actual file has lots of punctuations. We should also take care of the case sensitivity."
   ]
  },
  {
   "cell_type": "code",
   "execution_count": 24,
   "metadata": {},
   "outputs": [
    {
     "data": {
      "text/plain": [
       "'!\"#$%&\\'()*+,-./:;<=>?@[\\\\]^_`{|}~'"
      ]
     },
     "execution_count": 24,
     "metadata": {},
     "output_type": "execute_result"
    }
   ],
   "source": [
    "#Before we do so lets look at some other thing.\n",
    "\n",
    "#1. punctuation\n",
    "import string\n",
    "p = string.punctuation\n",
    "p"
   ]
  },
  {
   "cell_type": "code",
   "execution_count": 34,
   "metadata": {},
   "outputs": [
    {
     "name": "stdout",
     "output_type": "stream",
     "text": [
      "WoxyzWx\n"
     ]
    }
   ],
   "source": [
    "#2. translate method for string\n",
    "# str.maketrans()\n",
    "\n",
    "#This uses the 3-argument version of str.maketrans with arguments (x, y, z) where 'x' and 'y'\n",
    "# must be equal-length strings and characters in 'x' are replaced by characters in 'y'. 'z'\n",
    "# is a string (string.punctuation here) where each character in the string is mapped to None\n",
    "\n",
    "s = \"woabcdwa!?\"\n",
    "trans = str.maketrans(\"wabc\", \"Wxyz\", \"d!?\")   # Replace 'w' by 'W' and '! is mapped to none'\n",
    "s = s.translate(trans)\n",
    "#print(trans)\n",
    "print(s)\n"
   ]
  },
  {
   "cell_type": "code",
   "execution_count": 35,
   "metadata": {},
   "outputs": [
    {
     "data": {
      "text/plain": [
       "'The Cock and the Pearl\\n\\nA cock was once strutting up and down the farmyard among the\\nhens when suddenly he espied something shinning amid the straw.\\n\"Ho! ho!\" quoth he, \"that\\'s for me,\" and soon rooted it out from\\nbeneath the straw.  What did it turn out to be but a Pearl that by\\nsome chance had been lost in the yard?  \"You may be a treasure,\"\\nquoth Master Cock, \"to men that prize you, but for me I would\\nrather have a single barley-corn than a peck of pearls.\"\\n\\nPrecious things are for those that can prize them.'"
      ]
     },
     "execution_count": 35,
     "metadata": {},
     "output_type": "execute_result"
    }
   ],
   "source": [
    "ashop = open(\"Ashop.txt\")\n",
    "ashop.read()"
   ]
  },
  {
   "cell_type": "code",
   "execution_count": 36,
   "metadata": {},
   "outputs": [
    {
     "name": "stdout",
     "output_type": "stream",
     "text": [
      "{'the': 7, 'cock': 3, 'and': 3, 'pearl': 2, 'a': 5, 'was': 1, 'once': 1, 'strutting': 1, 'up': 1, 'down': 1, 'farmyard': 1, 'among': 1, 'hens': 1, 'when': 1, 'suddenly': 1, 'he': 2, 'espied': 1, 'something': 1, 'shinning': 1, 'amid': 1, 'straw': 2, 'ho': 2, 'quoth': 2, 'thats': 1, 'for': 3, 'me': 2, 'soon': 1, 'rooted': 1, 'it': 2, 'out': 2, 'from': 1, 'beneath': 1, 'what': 1, 'did': 1, 'turn': 1, 'to': 2, 'be': 2, 'but': 2, 'that': 3, 'by': 1, 'some': 1, 'chance': 1, 'had': 1, 'been': 1, 'lost': 1, 'in': 1, 'yard': 1, 'you': 2, 'may': 1, 'treasure': 1, 'master': 1, 'men': 1, 'prize': 2, 'i': 1, 'would': 1, 'rather': 1, 'have': 1, 'single': 1, 'barleycorn': 1, 'than': 1, 'peck': 1, 'of': 1, 'pearls': 1, 'precious': 1, 'things': 1, 'are': 1, 'those': 1, 'can': 1, 'them': 1}\n"
     ]
    }
   ],
   "source": [
    "ashop = open(\"Ashop.txt\")\n",
    "\n",
    "counts = {}\n",
    "for line in ashop:\n",
    "    line = line.translate(str.maketrans(\"\",\"\",string.punctuation)) # new Code\n",
    "    for letter in line.split():\n",
    "        counts[letter.lower()] = counts.get(letter.lower(),0) +1\n",
    "print(counts)"
   ]
  },
  {
   "cell_type": "code",
   "execution_count": null,
   "metadata": {},
   "outputs": [],
   "source": []
  },
  {
   "cell_type": "code",
   "execution_count": null,
   "metadata": {},
   "outputs": [],
   "source": []
  },
  {
   "cell_type": "code",
   "execution_count": null,
   "metadata": {},
   "outputs": [],
   "source": []
  },
  {
   "cell_type": "code",
   "execution_count": null,
   "metadata": {},
   "outputs": [],
   "source": []
  },
  {
   "cell_type": "markdown",
   "metadata": {
    "collapsed": true
   },
   "source": [
    "### Further Problems"
   ]
  },
  {
   "cell_type": "markdown",
   "metadata": {},
   "source": [
    "**Problem 1**\n",
    "\n",
    "Write a program that categorizes each mail message by which day of the week the commit was done.\n",
    "\n",
    "    Sample Line: \n",
    "    From stephen.marquard@uct.ac.za Sat Jan 5 09:14:16 2008\n",
    "\n",
    "    Sample Execution: \n",
    "    python dow.py \n",
    "    Enter a file name: mbox-short.txt \n",
    "    {'Fri': 20, 'Thu': 6, 'Sat': 1}"
   ]
  },
  {
   "cell_type": "code",
   "execution_count": null,
   "metadata": {},
   "outputs": [],
   "source": [
    "import os\n",
    "os.chdir(\"C:\\\\Users\\\\Gourab\\\\Downloads\")"
   ]
  },
  {
   "cell_type": "code",
   "execution_count": null,
   "metadata": {},
   "outputs": [],
   "source": [
    "fhand = open('mbox.txt')\n"
   ]
  },
  {
   "cell_type": "markdown",
   "metadata": {},
   "source": [
    "**Problem 2**\n",
    "\n",
    "From where did they receive most of their messages\n",
    "\n",
    "    Enter a file name: mbox.txt \n",
    "    zqian@umich.edu 195"
   ]
  },
  {
   "cell_type": "code",
   "execution_count": null,
   "metadata": {},
   "outputs": [],
   "source": []
  },
  {
   "cell_type": "markdown",
   "metadata": {
    "collapsed": true
   },
   "source": [
    "**Problem 3**\n",
    "\n",
    "Write a program to record the domain name (instead of the address) where the message was sent from instead of who the mail came from (i.e. the whole e-mail address). At the end of the program print out the contents of your dictionary."
   ]
  },
  {
   "cell_type": "code",
   "execution_count": null,
   "metadata": {},
   "outputs": [],
   "source": []
  }
 ],
 "metadata": {
  "kernelspec": {
   "display_name": "Python 3",
   "language": "python",
   "name": "python3"
  },
  "language_info": {
   "codemirror_mode": {
    "name": "ipython",
    "version": 3
   },
   "file_extension": ".py",
   "mimetype": "text/x-python",
   "name": "python",
   "nbconvert_exporter": "python",
   "pygments_lexer": "ipython3",
   "version": "3.8.3"
  }
 },
 "nbformat": 4,
 "nbformat_minor": 2
}
