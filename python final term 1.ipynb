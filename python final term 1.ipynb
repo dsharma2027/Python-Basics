{
 "cells": [
  {
   "cell_type": "code",
   "execution_count": 1,
   "metadata": {},
   "outputs": [],
   "source": [
    "import pandas as pd\n",
    "import numpy as np\n",
    "import matplotlib.pyplot as plt\n",
    "import os\n",
    "import seaborn as sns"
   ]
  },
  {
   "cell_type": "markdown",
   "metadata": {},
   "source": [
    "# Q1"
   ]
  },
  {
   "cell_type": "code",
   "execution_count": null,
   "metadata": {},
   "outputs": [],
   "source": [
    "cars = pd.read_excel(\"cars.csv.xlsx\")"
   ]
  },
  {
   "cell_type": "code",
   "execution_count": null,
   "metadata": {},
   "outputs": [],
   "source": [
    "# Input Location from the user and save the chart at that location"
   ]
  },
  {
   "cell_type": "markdown",
   "metadata": {},
   "source": [
    "location = input(\"Enter the destionation: \")\n",
    "os.chdir(location)\n",
    "plt.figure(figsize=(10,10),dpi=500)\n",
    "cars.hist(column=\"MPG\")\n",
    "os.chdir(location)\n",
    "plt.savefig(\"MPG.png\")"
   ]
  },
  {
   "cell_type": "code",
   "execution_count": null,
   "metadata": {},
   "outputs": [],
   "source": [
    "location = os.getcwd()\n",
    "folder_name = input(\"Enter the Directory Name: \")\n",
    "path = os.path.join(location,folder_name)\n",
    "try: \n",
    "    os.makedirs(path, exist_ok = True) \n",
    "    print(\"Directory '%s' created successfully\", folder_name) \n",
    "except OSError as error: \n",
    "    print(\"Directory '%s' can not be created\", folder_name) "
   ]
  },
  {
   "cell_type": "code",
   "execution_count": null,
   "metadata": {},
   "outputs": [],
   "source": []
  },
  {
   "cell_type": "code",
   "execution_count": null,
   "metadata": {
    "scrolled": false
   },
   "outputs": [],
   "source": [
    "def histogram(df,path):\n",
    "    os.chdir(path)\n",
    "    df1 = df.select_dtypes(exclude=['object'])  \n",
    "    for col in df1.columns:\n",
    "        plt.figure(figsize=(20,6),dpi=500)\n",
    "        df1.hist(column = col)\n",
    "        plt.xlabel(col , fontsize = 10)\n",
    "        plt.ylabel(\"Count\" , fontsize = 10)\n",
    "        plt.title(col,fontsize = 15)\n",
    "        #plt.show()\n",
    "        plt.savefig(f\"{col}.png\")  # Save the File\n",
    "\n",
    "\n",
    "location = os.getcwd()\n",
    "folder_name = input(\"Enter the Directory Name: \")\n",
    "path = os.path.join(location,folder_name)\n",
    "try: \n",
    "    os.makedirs(path, exist_ok = True) \n",
    "    print(\"Directory created successfully\", folder_name) \n",
    "except OSError as error: \n",
    "    print(\"Directory can not be created\", folder_name) \n",
    "\n",
    "df = pd.read_excel(\"cars.csv.xlsx\")\n",
    "histogram(df,path)"
   ]
  },
  {
   "cell_type": "markdown",
   "metadata": {},
   "source": [
    "# Testing code with another dataset (attrition)"
   ]
  },
  {
   "cell_type": "code",
   "execution_count": null,
   "metadata": {},
   "outputs": [],
   "source": [
    "histogram(df = pd.read_csv(\"attrition.csv\"))"
   ]
  },
  {
   "cell_type": "code",
   "execution_count": null,
   "metadata": {},
   "outputs": [],
   "source": []
  },
  {
   "cell_type": "markdown",
   "metadata": {},
   "source": [
    "# Q2"
   ]
  },
  {
   "cell_type": "code",
   "execution_count": null,
   "metadata": {},
   "outputs": [],
   "source": [
    "cars.head(5)"
   ]
  },
  {
   "cell_type": "code",
   "execution_count": null,
   "metadata": {},
   "outputs": [],
   "source": [
    "sns.countplot(x='Origin',data=cars)"
   ]
  },
  {
   "cell_type": "code",
   "execution_count": null,
   "metadata": {},
   "outputs": [],
   "source": []
  },
  {
   "cell_type": "code",
   "execution_count": null,
   "metadata": {
    "scrolled": false
   },
   "outputs": [],
   "source": [
    "def graph(df):\n",
    "    df1 = df.select_dtypes(exclude=['object'])  \n",
    "    for col in df1.columns:\n",
    "        df1.hist(column = col)\n",
    "        plt.xlabel(col , fontsize = 10)\n",
    "        plt.title(col,fontsize = 15)\n",
    "        plt.show()\n",
    "        \n",
    "        df1.boxplot(column = col ,figsize = (6,8))\n",
    "        plt.xlabel(col , fontsize = 10)\n",
    "        plt.title(col,fontsize = 15)\n",
    "        plt.show()\n",
    "        \n",
    "    print(\"\\n\")\n",
    "    print(\"Categorical Data Visualisation\")\n",
    "    \n",
    "    df2 = df.select_dtypes(include =['object'])\n",
    "    for i in df2.columns:\n",
    "        sns.countplot(x=df2[i],data= df2)\n",
    "        #x = pd.crosstab(df2[i] , columns  = 'count')\n",
    "        #x.plot(kind = 'bar' ,rot=0 ,color = 'red', figsize = [16,5])\n",
    "    \n",
    "    \n",
    "        \n",
    "    \n",
    "graph(df = pd.read_excel(\"cars.csv.xlsx\"))"
   ]
  },
  {
   "cell_type": "markdown",
   "metadata": {},
   "source": [
    "# Q 3"
   ]
  },
  {
   "cell_type": "code",
   "execution_count": 2,
   "metadata": {},
   "outputs": [
    {
     "name": "stdout",
     "output_type": "stream",
     "text": [
      "Car 0\n",
      "MPG 1\n",
      "Cylinders 2\n",
      "Displacement 3\n",
      "Horsepower 4\n",
      "Weight 5\n",
      "Acceleration 6\n",
      "Model 7\n",
      "Origin 8\n",
      "enter here 1\n",
      "Do you want to enter another Index:2\n",
      "enter here 2\n",
      "Do you want to enter another Index:2\n",
      "enter here 2\n",
      "Duplicate Entry...!!!!. Please enter the index value again\n",
      "enter here 3\n",
      "Do you want to enter another Index:no\n"
     ]
    },
    {
     "data": {
      "text/plain": [
       "[1, 2, 3]"
      ]
     },
     "execution_count": 2,
     "metadata": {},
     "output_type": "execute_result"
    }
   ],
   "source": [
    "cars = pd.read_excel(\"cars.csv.xlsx\")\n",
    "list_indx = []\n",
    "for i in cars.columns:\n",
    "        print(i , cars.columns.get_loc(i))\n",
    "        list_indx.append(cars.columns.get_loc(i))\n",
    "#print('\\n')\n",
    "#list_indx\n",
    "t = ''\n",
    "list_inpt = []\n",
    "while True:\n",
    "    t = input(\"enter here \")\n",
    "    if t not in list_inpt:\n",
    "        list_inpt.append(t)\n",
    "        int_list = [int(i) for i in list_inpt[:]]\n",
    "        if (input(\"Do you want to enter another Index:\")).lower() == \"no\":\n",
    "            break\n",
    "    else:\n",
    "        print(\"Duplicate Entry...!!!!. Please enter the index value again\")\n",
    "        continue\n",
    "int_list"
   ]
  },
  {
   "cell_type": "code",
   "execution_count": null,
   "metadata": {},
   "outputs": [],
   "source": []
  },
  {
   "cell_type": "code",
   "execution_count": null,
   "metadata": {
    "scrolled": false
   },
   "outputs": [],
   "source": [
    "def q3(df):\n",
    "    print('This are your column names with index number select column by entering index number in the box enter done once you finish')\n",
    "    print('\\n')\n",
    "    basket = []    \n",
    "    for i in df.columns:\n",
    "        print(i , df.columns.get_loc(i))\n",
    "    print('\\n')\n",
    "\n",
    "    t = ''\n",
    "    masket = []\n",
    "    while t != 'done':\n",
    "        t = input(\"enter here \")\n",
    "        masket.append(t)\n",
    "        int_list = [int(i) for i in masket[:-1]]\n",
    "    print('\\n')\n",
    "    nf = df.iloc[: , int_list]\n",
    "    \n",
    "    df1 = nf.select_dtypes(exclude=['object'])  \n",
    "    for col in df1.columns:\n",
    "        df1.hist(column = col)\n",
    "        plt.xlabel(col , fontsize = 10)\n",
    "        plt.title(col,fontsize = 15)\n",
    "        plt.show()\n",
    "        \n",
    "        df1.boxplot(column = col ,figsize = (6,8))\n",
    "        plt.xlabel(col , fontsize = 10)\n",
    "        plt.title(col,fontsize = 15)\n",
    "        plt.show()\n",
    "        \n",
    "        \n",
    "    df2 = nf.select_dtypes(include =['object'])\n",
    "    for i in df2.columns:\n",
    "        x = pd.crosstab(df2[i] , columns  = 'count')\n",
    "        x.plot(kind = 'bar' ,rot=0 ,color = 'red', figsize = [16,5])\n",
    "    \n",
    "    \n",
    "        \n",
    "    \n",
    "q3(df = pd.read_csv(\"cars.csv\"))"
   ]
  },
  {
   "cell_type": "markdown",
   "metadata": {},
   "source": [
    "# Testing code with another dataset (attrition)"
   ]
  },
  {
   "cell_type": "code",
   "execution_count": null,
   "metadata": {},
   "outputs": [],
   "source": [
    "q3(df = pd.read_csv(\"attrition.csv\"))   "
   ]
  },
  {
   "cell_type": "code",
   "execution_count": null,
   "metadata": {},
   "outputs": [],
   "source": []
  }
 ],
 "metadata": {
  "kernelspec": {
   "display_name": "Python 3",
   "language": "python",
   "name": "python3"
  },
  "language_info": {
   "codemirror_mode": {
    "name": "ipython",
    "version": 3
   },
   "file_extension": ".py",
   "mimetype": "text/x-python",
   "name": "python",
   "nbconvert_exporter": "python",
   "pygments_lexer": "ipython3",
   "version": "3.8.3"
  }
 },
 "nbformat": 4,
 "nbformat_minor": 4
}
