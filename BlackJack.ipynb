{
 "cells": [
  {
   "cell_type": "code",
   "execution_count": 1,
   "metadata": {},
   "outputs": [],
   "source": [
    "# GLOBAL VARIABLES\n",
    "\n",
    "import random\n",
    "suits = ('Suits', 'Diamonds', 'Clubs', 'Diabmonds')\n",
    "ranks = ('Two', 'Three', 'Four', 'Five', 'Six', 'Seven', 'Eight', 'Nine', 'Ten', 'King', 'Queen', 'Joker', 'Ace')\n",
    "values = {'Two':2, 'Three':3, 'Four':4, 'Five':5, 'Six':6, 'Seven':7, 'Eight':8, 'Nine':9, 'Ten':10, 'King':10, 'Queen':10, 'Joker':10, 'Ace':10}\n",
    "\n",
    "playing = True"
   ]
  },
  {
   "cell_type": "code",
   "execution_count": 2,
   "metadata": {},
   "outputs": [],
   "source": [
    "class Card():\n",
    "    def __init__(self,suit,rank):\n",
    "        self.suit = suit\n",
    "        self.rank = rank\n",
    "    \n",
    "    def __str__(self):\n",
    "        \n",
    "        return (f'{self.rank} of {self.suit}')\n"
   ]
  },
  {
   "cell_type": "code",
   "execution_count": 3,
   "metadata": {},
   "outputs": [],
   "source": [
    "class Deck():\n",
    "    \n",
    "    def __init__(self):\n",
    "        \n",
    "        self.deck = []\n",
    "        for suit in suits:\n",
    "            for rank in ranks:\n",
    "                self.deck.append(Card(suit,rank))  # BUILDING A CARD OBJECTS AND ADDING TO THE LIST\n",
    "    \n",
    "    def __str__(self):\n",
    "        \n",
    "        pack = ''\n",
    "        for card in self.deck:\n",
    "            pack += '\\n' + card.__str__()   # ADD EACH CARD OBJECT PRINT STRING TO PACK\n",
    "        return (f'The Deck has: {pack}')\n",
    "    \n",
    "    def shuffle(self):\n",
    "         random.shuffle(self.deck)\n",
    "    \n",
    "    def deal(self):\n",
    "        \n",
    "        single_card = self.deck.pop()\n",
    "        return single_card\n"
   ]
  },
  {
   "cell_type": "code",
   "execution_count": 4,
   "metadata": {},
   "outputs": [
    {
     "name": "stdout",
     "output_type": "stream",
     "text": [
      "The Deck has: \n",
      "Seven of Clubs\n",
      "Five of Diamonds\n",
      "Five of Clubs\n",
      "Seven of Diamonds\n",
      "Nine of Clubs\n",
      "Six of Diabmonds\n",
      "Nine of Diabmonds\n",
      "Joker of Clubs\n",
      "Eight of Diamonds\n",
      "Ace of Diamonds\n",
      "Ten of Clubs\n",
      "Queen of Diamonds\n",
      "Six of Diamonds\n",
      "Ten of Diabmonds\n",
      "Three of Diamonds\n",
      "Two of Diamonds\n",
      "Two of Clubs\n",
      "Ace of Diabmonds\n",
      "King of Diabmonds\n",
      "Three of Suits\n",
      "Four of Diamonds\n",
      "Six of Suits\n",
      "Five of Suits\n",
      "Seven of Suits\n",
      "Joker of Suits\n",
      "Four of Diabmonds\n",
      "Queen of Diabmonds\n",
      "Eight of Diabmonds\n",
      "King of Clubs\n",
      "Two of Diabmonds\n",
      "Queen of Clubs\n",
      "Ten of Diamonds\n",
      "Nine of Suits\n",
      "Queen of Suits\n",
      "Seven of Diabmonds\n",
      "Joker of Diabmonds\n",
      "Ace of Suits\n",
      "King of Diamonds\n",
      "Five of Diabmonds\n",
      "Four of Suits\n",
      "Ten of Suits\n",
      "Three of Diabmonds\n",
      "Three of Clubs\n",
      "Nine of Diamonds\n",
      "Four of Clubs\n",
      "Two of Suits\n",
      "Ace of Clubs\n",
      "Joker of Diamonds\n",
      "King of Suits\n",
      "Six of Clubs\n",
      "Eight of Suits\n",
      "Eight of Clubs\n"
     ]
    }
   ],
   "source": [
    "# TESTINF OF CLASS DECK\n",
    "\n",
    "deck_test = Deck()\n",
    "deck_test.shuffle()\n",
    "print(deck_test)"
   ]
  },
  {
   "cell_type": "code",
   "execution_count": 14,
   "metadata": {},
   "outputs": [],
   "source": [
    "# TO CALCULATE THE VALUE OF THE CARDS\n",
    "\n",
    "class Hand():\n",
    "    \n",
    "    def __init__(self):\n",
    "        \n",
    "        self.card_in_hand = []\n",
    "        self.value = 0\n",
    "        self.ace = 0\n",
    "    \n",
    "    def add_card(self,card):\n",
    "        \n",
    "        self.card_in_hand.append(card)\n",
    "        self.value += values[card.rank]\n",
    "        if card.rank == 'Ace':\n",
    "            self.ace += 1\n",
    "    \n",
    "    def adjust_for_aces(self):\n",
    "        \n",
    "        while self.value > 21 and self.ace:\n",
    "            \n",
    "            self.value -= 10\n",
    "            self.aces -= 1\n",
    "    \n"
   ]
  },
  {
   "cell_type": "code",
   "execution_count": 6,
   "metadata": {},
   "outputs": [
    {
     "name": "stdout",
     "output_type": "stream",
     "text": [
      "Cards in hand are: \n",
      "Ace of Clubs\n",
      "King of Suits\n",
      "The value of the cards is: 20\n"
     ]
    }
   ],
   "source": [
    "# TEST FOR CARDS IN HAND AND THEIR VALUES\n",
    "\n",
    "deck1 = Deck()\n",
    "deck1.shuffle()\n",
    "player_1 = Hand()\n",
    "player_1.add_card(deck1.deal())\n",
    "player_1.add_card(deck1.deal())\n",
    "print('Cards in hand are: ')\n",
    "for card in player_1.card_in_hand:\n",
    "    print(card)\n",
    "print(f'The value of the cards is: {player_1.value}')"
   ]
  },
  {
   "cell_type": "code",
   "execution_count": 7,
   "metadata": {},
   "outputs": [],
   "source": [
    "# TO ASSIGN TOTAT CHIPS AND BET AMOUNT\n",
    "\n",
    "class chips():\n",
    "    \n",
    "    def __init__(self, total = 2000):\n",
    "        \n",
    "        self.total = total\n",
    "        self.bet = 0\n",
    "    \n",
    "    def win_bet(self):\n",
    "        \n",
    "        self.total += self.bet\n",
    "    \n",
    "    def lose_bet(self):\n",
    "        \n",
    "        self.total -= self.bet\n"
   ]
  },
  {
   "cell_type": "code",
   "execution_count": 8,
   "metadata": {},
   "outputs": [],
   "source": [
    "# Func FOR TAKING BET FROM PLAYER\n",
    "\n",
    "def place_bet(chips):\n",
    "    \n",
    "    while True:\n",
    "        \n",
    "        try:\n",
    "            \n",
    "            chips.bet = int(input('Please enter the chips you want to bet: '))\n",
    "            \n",
    "        except ValueError:\n",
    "            \n",
    "            print('A bet must be and Interger')\n",
    "    \n",
    "        else:\n",
    "            \n",
    "            if chips.bet > chips.total:\n",
    "                print('Sorry!!! you cannot bet more than what you have. Your bet cannot exceed', chips.bet)\n",
    "            else:\n",
    "                break"
   ]
  },
  {
   "cell_type": "code",
   "execution_count": 9,
   "metadata": {},
   "outputs": [],
   "source": [
    "# FUNC FOR HIT FOR PLAYED OR DEALER\n",
    "\n",
    "def hit(deck, hand):\n",
    "    \n",
    "    hand.add_card(deck.deal())\n",
    "    hand.adjust_for_ace()"
   ]
  },
  {
   "cell_type": "code",
   "execution_count": 10,
   "metadata": {},
   "outputs": [],
   "source": [
    "# FUNC FOR TAKING FRESH HIT (BET) OR STAND FROM PLAYER.\n",
    "\n",
    "def hit_or_stand(deck, hand):\n",
    "    \n",
    "    global playing  \n",
    "    \n",
    "    while playing:\n",
    "        \n",
    "        place = input('Would you like to hit of stand? (h or s): ')\n",
    "        \n",
    "        if place[0].lower() == 'h':\n",
    "            \n",
    "            hit(deck, hand)\n",
    "        \n",
    "        elif place[0].lower() =='s':\n",
    "            \n",
    "            print('Player stand. Dealer Hit!!!')\n",
    "            playing = False\n",
    "        \n",
    "        else:\n",
    "            \n",
    "            print('Sorry!!! please try again')\n",
    "            continue\n",
    "        \n",
    "        break    "
   ]
  },
  {
   "cell_type": "code",
   "execution_count": 11,
   "metadata": {},
   "outputs": [],
   "source": [
    "# FUNCTIONS FOR SHOWING CARDS. PLAYER: ALL CARDS AND DEALER: ONE CARD AND ANOTHER WILL BE HIDDEN\n",
    "\n",
    "def show_some(player,dealer):\n",
    "    \n",
    "    print(\"\\n Dealer's hand\" + \"< Card Hidden >\" + dealer.card_in_hand[1].__str__())\n",
    "    print(\"\\n Player's hand\", *player.card_in_hand, sep = '\\n')\n",
    "    print(\"Player's Hand value\", player.value, sep = '\\n')\n",
    "\n",
    "def show_all(player,dealer):\n",
    "    \n",
    "    print(\"\\n Dealer's Hand\", *dealer.card_in_hand, sep = '\\n')\n",
    "    print(\"Dealer Hand Value\", dealer.value, sep = '\\n')\n",
    "    print(\"Player's Hand\", *player.card_in_hand, sep = '\\n')\n",
    "    print(\"Player's Hand value\", player.value, sep = '\\n')\n"
   ]
  },
  {
   "cell_type": "code",
   "execution_count": 12,
   "metadata": {},
   "outputs": [],
   "source": [
    "# FUNCTION TO DECIDE THE GAME RESULT\n",
    "\n",
    "def player_bust(player, dealer, chips):\n",
    "    \n",
    "    print(\"Player BUST!!!\")\n",
    "    chips.lose_bet()\n",
    "\n",
    "def player_win(player, dealer, chips):\n",
    "    \n",
    "    print(\"Player WINS!!!\")\n",
    "    chips.win_bet()\n",
    "\n",
    "def dealer_bust(player, dealer, chips):\n",
    "    \n",
    "    print(\"Dealer BUST!!!\")\n",
    "    chips.win_bet()\n",
    "\n",
    "def dealer_win(player, dealer, chips):\n",
    "    \n",
    "    print(\"Dealer WINS!!!\")\n",
    "    chips.lose_bet()\n",
    "\n",
    "def push(player, dealer, chips):\n",
    "    \n",
    "    print(\"The hand is Tied, It is a PUSH!!!\")"
   ]
  },
  {
   "cell_type": "markdown",
   "metadata": {},
   "source": [
    "# MAIN "
   ]
  },
  {
   "cell_type": "code",
   "execution_count": 15,
   "metadata": {},
   "outputs": [
    {
     "name": "stdout",
     "output_type": "stream",
     "text": [
      "Welcome to Blackjack!!! Get as close to 21 as you can without going over 21!! \n",
      "Dealer hit untill He/She reaches 17. Aces will count as 1 or 11\n",
      "Please enter the chips you want to bet: 7000\n",
      "Sorry!!! you cannot bet more than what you have. Your bet cannot exceed 7000\n",
      "Please enter the chips you want to bet: 1000\n",
      "\n",
      " Dealer's hand< Card Hidden >Ace of Clubs\n",
      "\n",
      " Player's hand\n",
      "Five of Diamonds\n",
      "Three of Diamonds\n",
      "Player's Hand value\n",
      "8\n"
     ]
    },
    {
     "ename": "AttributeError",
     "evalue": "'Hand' object has no attribute 'adjust_for_ace'",
     "output_type": "error",
     "traceback": [
      "\u001b[1;31m---------------------------------------------------------------------------\u001b[0m",
      "\u001b[1;31mAttributeError\u001b[0m                            Traceback (most recent call last)",
      "\u001b[1;32m<ipython-input-15-347bdcbe0342>\u001b[0m in \u001b[0;36m<module>\u001b[1;34m\u001b[0m\n\u001b[0;32m     34\u001b[0m         \u001b[1;32mwhile\u001b[0m \u001b[0mdealer_hand\u001b[0m\u001b[1;33m.\u001b[0m\u001b[0mvalue\u001b[0m \u001b[1;33m<\u001b[0m \u001b[1;36m17\u001b[0m\u001b[1;33m:\u001b[0m\u001b[1;33m\u001b[0m\u001b[1;33m\u001b[0m\u001b[0m\n\u001b[0;32m     35\u001b[0m \u001b[1;33m\u001b[0m\u001b[0m\n\u001b[1;32m---> 36\u001b[1;33m             \u001b[0mhit\u001b[0m\u001b[1;33m(\u001b[0m\u001b[0mdeck\u001b[0m\u001b[1;33m,\u001b[0m \u001b[0mdealer_hand\u001b[0m\u001b[1;33m)\u001b[0m\u001b[1;33m\u001b[0m\u001b[1;33m\u001b[0m\u001b[0m\n\u001b[0m\u001b[0;32m     37\u001b[0m \u001b[1;33m\u001b[0m\u001b[0m\n\u001b[0;32m     38\u001b[0m         \u001b[0mshow_all\u001b[0m\u001b[1;33m(\u001b[0m\u001b[0mplayer1_hand\u001b[0m\u001b[1;33m,\u001b[0m \u001b[0mdealer_hand\u001b[0m\u001b[1;33m)\u001b[0m\u001b[1;33m\u001b[0m\u001b[1;33m\u001b[0m\u001b[0m\n",
      "\u001b[1;32m<ipython-input-9-d968b34cf24c>\u001b[0m in \u001b[0;36mhit\u001b[1;34m(deck, hand)\u001b[0m\n\u001b[0;32m      4\u001b[0m \u001b[1;33m\u001b[0m\u001b[0m\n\u001b[0;32m      5\u001b[0m     \u001b[0mhand\u001b[0m\u001b[1;33m.\u001b[0m\u001b[0madd_card\u001b[0m\u001b[1;33m(\u001b[0m\u001b[0mdeck\u001b[0m\u001b[1;33m.\u001b[0m\u001b[0mdeal\u001b[0m\u001b[1;33m(\u001b[0m\u001b[1;33m)\u001b[0m\u001b[1;33m)\u001b[0m\u001b[1;33m\u001b[0m\u001b[1;33m\u001b[0m\u001b[0m\n\u001b[1;32m----> 6\u001b[1;33m     \u001b[0mhand\u001b[0m\u001b[1;33m.\u001b[0m\u001b[0madjust_for_ace\u001b[0m\u001b[1;33m(\u001b[0m\u001b[1;33m)\u001b[0m\u001b[1;33m\u001b[0m\u001b[1;33m\u001b[0m\u001b[0m\n\u001b[0m",
      "\u001b[1;31mAttributeError\u001b[0m: 'Hand' object has no attribute 'adjust_for_ace'"
     ]
    }
   ],
   "source": [
    "while True:\n",
    "    \n",
    "    print(\"Welcome to Blackjack!!! Get as close to 21 as you can without going over 21!! \\nDealer hit untill He/She reaches 17. Aces will count as 1 or 11\")\n",
    "    \n",
    "    deck = Deck()\n",
    "    deck.shuffle()\n",
    "    \n",
    "    player1_hand = Hand()\n",
    "    player1_hand.add_card(deck.deal())\n",
    "    player1_hand.add_card(deck.deal())\n",
    "    \n",
    "    dealer_hand = Hand()\n",
    "    dealer_hand.add_card(deck.deal())\n",
    "    dealer_hand.add_card(deck.deal())\n",
    "    \n",
    "    \n",
    "    player_chips =  chips()\n",
    "    \n",
    "    place_bet(player_chips)\n",
    "    \n",
    "    show_some(player1_hand, dealer_hand)\n",
    "    \n",
    "    while playing:\n",
    "        \n",
    "        hit_or_stand(deck, player1_hand)\n",
    "        show_some(player1_hand, dealer_hand)\n",
    "        \n",
    "        if player1_hand.value > 21:\n",
    "            player_bust(player1_hand, dealer_hand, player_chips)\n",
    "            break\n",
    "    \n",
    "    if player1_hand.value <= 21:\n",
    "        \n",
    "        while dealer_hand.value < 17:\n",
    "            \n",
    "            hit(deck, dealer_hand)\n",
    "        \n",
    "        show_all(player1_hand, dealer_hand)\n",
    "        \n",
    "        if dealer_hand.value > 21:\n",
    "            dealer_bust(player1_hand, dealer_hand, player_chips)\n",
    "        \n",
    "        elif dealer_hand.value > player1_hand.value:\n",
    "            dealer_win(player1_hand, dealer_hand, player_chips)\n",
    "        \n",
    "        elif dealer_hand.value < player1_hand.value:\n",
    "            player_win(player1_hand, dealer_hand, player_chips)\n",
    "        \n",
    "        else:\n",
    "            push(player1_hand, dealer_hand, player_chips)\n",
    "    \n",
    "    print(\"\\n Player's Winnings stands at: \", player_chips.total)\n",
    "    \n",
    "    new_game = input(\"Would you like to play another hand? Enter 'y' or 'n' \")\n",
    "    \n",
    "    if new_game[0].lower()=='y':\n",
    "        playing=True\n",
    "        continue\n",
    "    else:\n",
    "        print(\"Thanks for playing!\")\n",
    "        break\n",
    "            \n",
    "        \n",
    "            \n",
    "    "
   ]
  },
  {
   "cell_type": "code",
   "execution_count": null,
   "metadata": {},
   "outputs": [],
   "source": []
  },
  {
   "cell_type": "code",
   "execution_count": null,
   "metadata": {},
   "outputs": [],
   "source": []
  },
  {
   "cell_type": "code",
   "execution_count": null,
   "metadata": {},
   "outputs": [],
   "source": []
  },
  {
   "cell_type": "code",
   "execution_count": null,
   "metadata": {},
   "outputs": [],
   "source": []
  },
  {
   "cell_type": "code",
   "execution_count": null,
   "metadata": {},
   "outputs": [],
   "source": []
  },
  {
   "cell_type": "code",
   "execution_count": null,
   "metadata": {},
   "outputs": [],
   "source": []
  },
  {
   "cell_type": "code",
   "execution_count": null,
   "metadata": {},
   "outputs": [],
   "source": []
  },
  {
   "cell_type": "code",
   "execution_count": null,
   "metadata": {},
   "outputs": [],
   "source": []
  },
  {
   "cell_type": "code",
   "execution_count": null,
   "metadata": {},
   "outputs": [],
   "source": []
  },
  {
   "cell_type": "code",
   "execution_count": null,
   "metadata": {},
   "outputs": [],
   "source": []
  },
  {
   "cell_type": "code",
   "execution_count": null,
   "metadata": {},
   "outputs": [],
   "source": []
  },
  {
   "cell_type": "code",
   "execution_count": null,
   "metadata": {},
   "outputs": [],
   "source": []
  },
  {
   "cell_type": "code",
   "execution_count": null,
   "metadata": {},
   "outputs": [],
   "source": []
  }
 ],
 "metadata": {
  "kernelspec": {
   "display_name": "Python 3",
   "language": "python",
   "name": "python3"
  },
  "language_info": {
   "codemirror_mode": {
    "name": "ipython",
    "version": 3
   },
   "file_extension": ".py",
   "mimetype": "text/x-python",
   "name": "python",
   "nbconvert_exporter": "python",
   "pygments_lexer": "ipython3",
   "version": "3.8.3"
  }
 },
 "nbformat": 4,
 "nbformat_minor": 4
}
