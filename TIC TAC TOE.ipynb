{
 "cells": [
  {
   "cell_type": "code",
   "execution_count": 1,
   "metadata": {},
   "outputs": [],
   "source": [
    "from IPython.display import clear_output\n",
    "\n",
    "def display_board(available,board):\n",
    "    \n",
    "    clear_output()\n",
    "    \n",
    "    \n",
    "    print('Available   TIC-TAC-TOE\\n'+\n",
    "           '  moves\\n\\n  '+\n",
    "          available[7]+'|'+available[8]+'|'+available[9]+'        '+board[7]+' | '+board[8]+' | '+board[9]+'\\n  '+\n",
    "          '-----        -----\\n  '+\n",
    "          available[4]+'|'+available[5]+'|'+available[6]+'        '+board[4]+' | '+board[5]+' | '+board[6]+'\\n  '+\n",
    "          '-----        -----\\n  '+\n",
    "          available[1]+'|'+available[2]+'|'+available[3]+'        '+board[1]+' | '+board[2]+' | '+board[3]+'\\n')\n",
    "    \n",
    "    "
   ]
  },
  {
   "cell_type": "code",
   "execution_count": 2,
   "metadata": {},
   "outputs": [],
   "source": [
    "def player_input():\n",
    "    \n",
    "    maker = ''\n",
    "    \n",
    "    while not (maker == 'X' or maker == 'O'):\n",
    "        maker = input('Player 1: Please choose your marker (X or O):' ).upper()\n",
    "    if maker == 'X':\n",
    "        return('X', 'O')\n",
    "    else:\n",
    "        return('O','X')\n"
   ]
  },
  {
   "cell_type": "code",
   "execution_count": 3,
   "metadata": {},
   "outputs": [],
   "source": [
    "def place_marker(available,board, marker, position):\n",
    "    board[position] = marker\n",
    "    available[position] = ' '"
   ]
  },
  {
   "cell_type": "code",
   "execution_count": 4,
   "metadata": {},
   "outputs": [],
   "source": [
    "def win_check(board, mark):\n",
    "    if ((board[7] == mark and board[8] == mark and board[9] == mark) or \n",
    "    (board[6] == mark and board[5] == mark and board[4] == mark) or (board[1] == mark and board[2] == mark and board[3] == mark)\n",
    "    or (board[1] == mark and board[4] == mark and board[7] == mark) or (board[2] == mark and board[5] == mark and board[8] == mark)\n",
    "    or (board[3] == mark and board[6] == mark and board[9] == mark) or (board[1] == mark and board[5] == mark and board[9] == mark)\n",
    "    or (board[3] == mark and board[5] == mark and board[7] == mark)):\n",
    "        return True\n",
    "    else:\n",
    "        return False"
   ]
  },
  {
   "cell_type": "code",
   "execution_count": 5,
   "metadata": {},
   "outputs": [],
   "source": [
    "import random\n",
    "\n",
    "def choose_first():\n",
    "    chance =random.randint(1,2)\n",
    "    if chance == 1:\n",
    "        return 'Player 1'\n",
    "    else:\n",
    "        return 'Player 2'"
   ]
  },
  {
   "cell_type": "code",
   "execution_count": 6,
   "metadata": {},
   "outputs": [],
   "source": [
    "def space_check(board, position):\n",
    "    \n",
    "    if board[position] == '':\n",
    "        return True\n",
    "    else:\n",
    "        return False\n",
    "        "
   ]
  },
  {
   "cell_type": "code",
   "execution_count": 7,
   "metadata": {},
   "outputs": [],
   "source": [
    "def full_board_check(board):\n",
    "    for i in range(1,10):\n",
    "        if space_check(board,i):\n",
    "            return False\n",
    "    return True"
   ]
  },
  {
   "cell_type": "code",
   "execution_count": 8,
   "metadata": {},
   "outputs": [],
   "source": [
    "def player_choice(board):\n",
    "    \n",
    "    next_move = 0\n",
    "    while  next_move not in [1,2,3,4,5,6,7,8,9] or not space_check(board,next_move):\n",
    "        next_move = int(input('Please enter your next move(1-9): '))\n",
    "        \n",
    "    return next_move"
   ]
  },
  {
   "cell_type": "code",
   "execution_count": 9,
   "metadata": {},
   "outputs": [],
   "source": [
    "def replay():\n",
    "    \n",
    "    return input('Do you want to play again? Enter Yes or No: ').lower().startswith('y')"
   ]
  },
  {
   "cell_type": "code",
   "execution_count": 10,
   "metadata": {},
   "outputs": [
    {
     "name": "stdout",
     "output_type": "stream",
     "text": [
      "Welcome to Tic Tac Toe!\n",
      "Player 1: Please choose your marker (X or O):x\n",
      "Player 1 will go first\n",
      "Are you ready to play. (Y or N): n\n",
      "Do you want to play again? Enter Yes or No: yes\n",
      "Player 1: Please choose your marker (X or O):o\n",
      "Player 2 will go first\n",
      "Are you ready to play. (Y or N): n\n",
      "Do you want to play again? Enter Yes or No: no\n"
     ]
    }
   ],
   "source": [
    "print('Welcome to Tic Tac Toe!')\n",
    "\n",
    "while True:\n",
    "    the_board = ['']*10\n",
    "    available = [str(num) for num in range(0,10)]\n",
    "    player1_marker,player2_marker = player_input()   #Tuple Unpackng\n",
    "    turn = choose_first()\n",
    "    print(turn + ' will go first')\n",
    "    \n",
    "    play = input('Are you ready to play. (Y or N): ')\n",
    "    \n",
    "    if play.lower()[0] == 'y':\n",
    "        game = True\n",
    "    else:\n",
    "        game = False\n",
    "    \n",
    "    while game:\n",
    "        #Player 1 Turn\n",
    "        if turn == 'Player 1':\n",
    "            display_board(available,the_board)\n",
    "            position = player_choice(the_board)\n",
    "            place_marker(available,the_board,player1_marker,position)\n",
    "            \n",
    "            if win_check(the_board, player1_marker):\n",
    "                display_board(the_board)\n",
    "                print('******* Congratulation, Player 1 won *******')\n",
    "                game = False\n",
    "            else: \n",
    "                if full_board_check(the_board):\n",
    "                    display_board(the_board)\n",
    "                    print('<<< OOPS!!! The match is a draw!!!! >>>')\n",
    "                    break\n",
    "                else:\n",
    "                    turn = 'Player 2'\n",
    "        \n",
    "        # Player2's turn.\n",
    "        else:\n",
    "            if turn == 'Player 2':\n",
    "                display_board(available,the_board)\n",
    "                position = player_choice(the_board)\n",
    "                place_marker(available,the_board,player2_marker,position)\n",
    "            \n",
    "            if win_check(the_board, player2_marker):\n",
    "                display_board(available,the_board)\n",
    "                print('******* Congratulation, Player 2 won *******')\n",
    "                game = False\n",
    "            else: \n",
    "                if full_board_check(the_board):\n",
    "                    display_board(available,the_board)\n",
    "                    print('<<< OOPS!!! The match is a draw!!!! >>>')\n",
    "                    break\n",
    "                else:\n",
    "                    turn = 'Player 1'\n",
    "            \n",
    "    if not replay():\n",
    "        break"
   ]
  },
  {
   "cell_type": "code",
   "execution_count": null,
   "metadata": {},
   "outputs": [],
   "source": []
  }
 ],
 "metadata": {
  "kernelspec": {
   "display_name": "Python 3",
   "language": "python",
   "name": "python3"
  },
  "language_info": {
   "codemirror_mode": {
    "name": "ipython",
    "version": 3
   },
   "file_extension": ".py",
   "mimetype": "text/x-python",
   "name": "python",
   "nbconvert_exporter": "python",
   "pygments_lexer": "ipython3",
   "version": "3.8.3"
  }
 },
 "nbformat": 4,
 "nbformat_minor": 4
}
