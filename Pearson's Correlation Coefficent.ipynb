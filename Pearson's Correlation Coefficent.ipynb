{
 "cells": [
  {
   "attachments": {
    "image.png": {
     "image/png": "[encoded data removed]"
    }
   },
   "cell_type": "markdown",
   "metadata": {},
   "source": [
    "#### 1.\tWAP that will accept two sets of numbers and calculate the Pearson’s correlation coefficient between them. (Use necessary exception handling). (Optional if you do not know what it is)\n",
    " \n",
    "\n",
    "![image.png](attachment:image.png)"
   ]
  },
  {
   "cell_type": "code",
   "execution_count": 38,
   "metadata": {},
   "outputs": [],
   "source": [
    "def pearsons_corr_coeff():\n",
    "    \n",
    "    sumX = 0\n",
    "    sumY = 0\n",
    "    sumX_sqr = 0\n",
    "    sumY_sqr = 0\n",
    "    sumXY = 0\n",
    "    n = 0\n",
    "    \n",
    "    while True:\n",
    "        \n",
    "        inpt = input(\"Do you want to Enter the value of x and y: \")\n",
    "        if inpt.lower() == \"no\":\n",
    "            break\n",
    "        \n",
    "        try:\n",
    "            \n",
    "            x = float(input(\"Enter the value of x: \"))\n",
    "            y = float(input(\"Enter the value of y: \"))\n",
    "            n += 1\n",
    "            sumX += x\n",
    "            sumy += y\n",
    "            sumX_sqr += x**2\n",
    "            sumY_sqr += y**2\n",
    "            sumXY += x*y\n",
    "            \n",
    "        except:\n",
    "            \n",
    "            print(\"Invalid Entry!!! Please enter the numeric value\")\n",
    "    \n",
    "    r= (((n*sumXY) - (sumX * sumY)) / ((n*sumX_sqr - (sumX**2))*(n*sumY_sqr - (sumY**2))**0.5))\n",
    "    print(\"Th Person's Correlation Coefficent of the series for the above sets of Numbers are: \", r)\n",
    "                                    \n",
    "                                    \n",
    "                                    \n",
    "                                "
   ]
  },
  {
   "cell_type": "code",
   "execution_count": null,
   "metadata": {},
   "outputs": [],
   "source": []
  }
 ],
 "metadata": {
  "kernelspec": {
   "display_name": "Python 3",
   "language": "python",
   "name": "python3"
  },
  "language_info": {
   "codemirror_mode": {
    "name": "ipython",
    "version": 3
   },
   "file_extension": ".py",
   "mimetype": "text/x-python",
   "name": "python",
   "nbconvert_exporter": "python",
   "pygments_lexer": "ipython3",
   "version": "3.8.3"
  }
 },
 "nbformat": 4,
 "nbformat_minor": 4
}
